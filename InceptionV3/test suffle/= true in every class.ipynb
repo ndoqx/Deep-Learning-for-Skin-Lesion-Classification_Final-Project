{
 "cells": [
  {
   "cell_type": "code",
   "execution_count": 1,
   "metadata": {},
   "outputs": [],
   "source": [
    "import os\n",
    "import numpy as np\n",
    "import pandas as pd\n",
    "import matplotlib.pyplot as plt\n",
    "import seaborn as sns\n",
    "from glob import glob\n",
    "from sklearn.metrics import confusion_matrix, precision_recall_fscore_support, roc_auc_score, roc_curve\n",
    "from sklearn.preprocessing import LabelEncoder, label_binarize\n",
    "from keras.models import Sequential\n",
    "from keras.layers import Dense, Dropout, Flatten, Conv2D, MaxPool2D\n",
    "from tensorflow.keras.preprocessing.image import ImageDataGenerator\n",
    "from tensorflow.keras.callbacks import EarlyStopping, Callback\n",
    "from itertools import cycle\n",
    "from tensorflow.keras.optimizers import Adam\n",
    "import tensorflow as tf\n",
    "from collections import Counter\n",
    "import shutil"
   ]
  },
  {
   "cell_type": "code",
   "execution_count": 2,
   "metadata": {},
   "outputs": [],
   "source": [
    "# Paths\n",
    "train_dir = r\"C:\\Users\\guitar123\\Desktop\\Senior Project\\dataset\\HAM10000\\train\"\n",
    "val_dir = r\"C:\\Users\\guitar123\\Desktop\\Senior project\\dataset\\HAM10000\\val\"\n",
    "test_dir = r\"C:\\Users\\guitar123\\Desktop\\Senior project\\dataset\\HAM10000\\test\"\n",
    "\n",
    "# Constants\n",
    "IMAGE_HEIGHT = 600\n",
    "IMAGE_WIDTH = 450\n",
    "SIZE = (IMAGE_HEIGHT, IMAGE_WIDTH)\n",
    "IMAGE_CHANNELS = 3  # Assuming RGB images\n",
    "BATCH_SIZE = 32\n",
    "EPOCHS = 1000\n",
    "NUM_CLASSES = len(os.listdir(train_dir))"
   ]
  },
  {
   "cell_type": "code",
   "execution_count": 3,
   "metadata": {},
   "outputs": [],
   "source": [
    "# Resample function to balance each class to 500 samples\n",
    "def resample_data(directory, target_count=500):\n",
    "    class_dirs = [d for d in os.listdir(directory) if os.path.isdir(os.path.join(directory, d))]\n",
    "    for class_dir in class_dirs:\n",
    "        class_path = os.path.join(directory, class_dir)\n",
    "        images = glob(os.path.join(class_path, \"*.jpg\"))\n",
    "        current_count = len(images)\n",
    "        if current_count < target_count:\n",
    "            # Augment the class to have `target_count` images\n",
    "            for i in range(target_count - current_count):\n",
    "                image = images[i % current_count]\n",
    "                image_name = os.path.basename(image)\n",
    "                new_image_name = f\"aug_{i}_{image_name}\"\n",
    "                new_image_path = os.path.join(class_path, new_image_name)\n",
    "                shutil.copy(image, new_image_path)\n",
    "        elif current_count > target_count:\n",
    "            # Reduce the class to `target_count` images\n",
    "            for image in images[target_count:]:\n",
    "                os.remove(image)\n",
    "                \n",
    "def resample_data1(directory, target_count=300):\n",
    "    class_dirs = [d for d in os.listdir(directory) if os.path.isdir(os.path.join(directory, d))]\n",
    "    for class_dir in class_dirs:\n",
    "        class_path = os.path.join(directory, class_dir)\n",
    "        images = glob(os.path.join(class_path, \"*.jpg\"))\n",
    "        current_count = len(images)\n",
    "        if current_count < target_count:\n",
    "            # Augment the class to have `target_count` images\n",
    "            for i in range(target_count - current_count):\n",
    "                image = images[i % current_count]\n",
    "                image_name = os.path.basename(image)\n",
    "                new_image_name = f\"aug_{i}_{image_name}\"\n",
    "                new_image_path = os.path.join(class_path, new_image_name)\n",
    "                shutil.copy(image, new_image_path)\n",
    "        elif current_count > target_count:\n",
    "            # Reduce the class to `target_count` images\n",
    "            for image in images[target_count:]:\n",
    "                os.remove(image)"
   ]
  },
  {
   "cell_type": "code",
   "execution_count": 4,
   "metadata": {},
   "outputs": [
    {
     "name": "stdout",
     "output_type": "stream",
     "text": [
      "Found 3500 images belonging to 7 classes.\n",
      "Found 2005 images belonging to 7 classes.\n",
      "Found 1515 images belonging to 7 classes.\n"
     ]
    }
   ],
   "source": [
    "## Resample training data\n",
    "#resample_data(train_dir)\n",
    "#resample_data1(val_dir)\n",
    "\n",
    "\n",
    "# Create ImageDataGenerator instances\n",
    "train_datagen = ImageDataGenerator(\n",
    "    rescale=1./255,\n",
    "    rotation_range=20,\n",
    "    width_shift_range=0.2,\n",
    "    height_shift_range=0.2,\n",
    "    shear_range=0.2,\n",
    "    zoom_range=0.2,\n",
    "    horizontal_flip=True,\n",
    "    fill_mode='nearest'\n",
    ")\n",
    "\n",
    "val_datagen = ImageDataGenerator(rescale=1./255)\n",
    "test_datagen = ImageDataGenerator(rescale=1./255)\n",
    "\n",
    "# Generate data from directories\n",
    "train_generator = train_datagen.flow_from_directory(\n",
    "    train_dir,\n",
    "    target_size=SIZE,\n",
    "    batch_size=BATCH_SIZE,\n",
    "    class_mode='categorical',\n",
    "    shuffle=True\n",
    ")\n",
    "\n",
    "val_generator = val_datagen.flow_from_directory(\n",
    "    val_dir,\n",
    "    target_size=SIZE,\n",
    "    batch_size=BATCH_SIZE,\n",
    "    class_mode='categorical',\n",
    "    shuffle=True\n",
    ")\n",
    "\n",
    "test_generator = test_datagen.flow_from_directory(\n",
    "    test_dir,\n",
    "    target_size=SIZE,\n",
    "    batch_size=BATCH_SIZE,\n",
    "    class_mode='categorical',\n",
    "    shuffle=True\n",
    ")\n"
   ]
  },
  {
   "cell_type": "code",
   "execution_count": 5,
   "metadata": {},
   "outputs": [
    {
     "name": "stdout",
     "output_type": "stream",
     "text": [
      "Model: \"model\"\n",
      "__________________________________________________________________________________________________\n",
      " Layer (type)                   Output Shape         Param #     Connected to                     \n",
      "==================================================================================================\n",
      " input_1 (InputLayer)           [(None, 600, 450, 3  0           []                               \n",
      "                                )]                                                                \n",
      "                                                                                                  \n",
      " conv2d (Conv2D)                (None, 299, 224, 32  864         ['input_1[0][0]']                \n",
      "                                )                                                                 \n",
      "                                                                                                  \n",
      " batch_normalization (BatchNorm  (None, 299, 224, 32  96         ['conv2d[0][0]']                 \n",
      " alization)                     )                                                                 \n",
      "                                                                                                  \n",
      " activation (Activation)        (None, 299, 224, 32  0           ['batch_normalization[0][0]']    \n",
      "                                )                                                                 \n",
      "                                                                                                  \n",
      " conv2d_1 (Conv2D)              (None, 297, 222, 32  9216        ['activation[0][0]']             \n",
      "                                )                                                                 \n",
      "                                                                                                  \n",
      " batch_normalization_1 (BatchNo  (None, 297, 222, 32  96         ['conv2d_1[0][0]']               \n",
      " rmalization)                   )                                                                 \n",
      "                                                                                                  \n",
      " activation_1 (Activation)      (None, 297, 222, 32  0           ['batch_normalization_1[0][0]']  \n",
      "                                )                                                                 \n",
      "                                                                                                  \n",
      " conv2d_2 (Conv2D)              (None, 297, 222, 64  18432       ['activation_1[0][0]']           \n",
      "                                )                                                                 \n",
      "                                                                                                  \n",
      " batch_normalization_2 (BatchNo  (None, 297, 222, 64  192        ['conv2d_2[0][0]']               \n",
      " rmalization)                   )                                                                 \n",
      "                                                                                                  \n",
      " activation_2 (Activation)      (None, 297, 222, 64  0           ['batch_normalization_2[0][0]']  \n",
      "                                )                                                                 \n",
      "                                                                                                  \n",
      " max_pooling2d (MaxPooling2D)   (None, 148, 110, 64  0           ['activation_2[0][0]']           \n",
      "                                )                                                                 \n",
      "                                                                                                  \n",
      " conv2d_3 (Conv2D)              (None, 148, 110, 80  5120        ['max_pooling2d[0][0]']          \n",
      "                                )                                                                 \n",
      "                                                                                                  \n",
      " batch_normalization_3 (BatchNo  (None, 148, 110, 80  240        ['conv2d_3[0][0]']               \n",
      " rmalization)                   )                                                                 \n",
      "                                                                                                  \n",
      " activation_3 (Activation)      (None, 148, 110, 80  0           ['batch_normalization_3[0][0]']  \n",
      "                                )                                                                 \n",
      "                                                                                                  \n",
      " conv2d_4 (Conv2D)              (None, 146, 108, 19  138240      ['activation_3[0][0]']           \n",
      "                                2)                                                                \n",
      "                                                                                                  \n",
      " batch_normalization_4 (BatchNo  (None, 146, 108, 19  576        ['conv2d_4[0][0]']               \n",
      " rmalization)                   2)                                                                \n",
      "                                                                                                  \n",
      " activation_4 (Activation)      (None, 146, 108, 19  0           ['batch_normalization_4[0][0]']  \n",
      "                                2)                                                                \n",
      "                                                                                                  \n",
      " max_pooling2d_1 (MaxPooling2D)  (None, 72, 53, 192)  0          ['activation_4[0][0]']           \n",
      "                                                                                                  \n",
      " conv2d_8 (Conv2D)              (None, 72, 53, 64)   12288       ['max_pooling2d_1[0][0]']        \n",
      "                                                                                                  \n",
      " batch_normalization_8 (BatchNo  (None, 72, 53, 64)  192         ['conv2d_8[0][0]']               \n",
      " rmalization)                                                                                     \n",
      "                                                                                                  \n",
      " activation_8 (Activation)      (None, 72, 53, 64)   0           ['batch_normalization_8[0][0]']  \n",
      "                                                                                                  \n",
      " conv2d_6 (Conv2D)              (None, 72, 53, 48)   9216        ['max_pooling2d_1[0][0]']        \n",
      "                                                                                                  \n",
      " conv2d_9 (Conv2D)              (None, 72, 53, 96)   55296       ['activation_8[0][0]']           \n",
      "                                                                                                  \n",
      " batch_normalization_6 (BatchNo  (None, 72, 53, 48)  144         ['conv2d_6[0][0]']               \n",
      " rmalization)                                                                                     \n",
      "                                                                                                  \n",
      " batch_normalization_9 (BatchNo  (None, 72, 53, 96)  288         ['conv2d_9[0][0]']               \n",
      " rmalization)                                                                                     \n",
      "                                                                                                  \n",
      " activation_6 (Activation)      (None, 72, 53, 48)   0           ['batch_normalization_6[0][0]']  \n",
      "                                                                                                  \n",
      " activation_9 (Activation)      (None, 72, 53, 96)   0           ['batch_normalization_9[0][0]']  \n",
      "                                                                                                  \n",
      " average_pooling2d (AveragePool  (None, 72, 53, 192)  0          ['max_pooling2d_1[0][0]']        \n",
      " ing2D)                                                                                           \n",
      "                                                                                                  \n",
      " conv2d_5 (Conv2D)              (None, 72, 53, 64)   12288       ['max_pooling2d_1[0][0]']        \n",
      "                                                                                                  \n",
      " conv2d_7 (Conv2D)              (None, 72, 53, 64)   76800       ['activation_6[0][0]']           \n",
      "                                                                                                  \n",
      " conv2d_10 (Conv2D)             (None, 72, 53, 96)   82944       ['activation_9[0][0]']           \n",
      "                                                                                                  \n",
      " conv2d_11 (Conv2D)             (None, 72, 53, 32)   6144        ['average_pooling2d[0][0]']      \n",
      "                                                                                                  \n",
      " batch_normalization_5 (BatchNo  (None, 72, 53, 64)  192         ['conv2d_5[0][0]']               \n",
      " rmalization)                                                                                     \n",
      "                                                                                                  \n",
      " batch_normalization_7 (BatchNo  (None, 72, 53, 64)  192         ['conv2d_7[0][0]']               \n",
      " rmalization)                                                                                     \n",
      "                                                                                                  \n",
      " batch_normalization_10 (BatchN  (None, 72, 53, 96)  288         ['conv2d_10[0][0]']              \n",
      " ormalization)                                                                                    \n",
      "                                                                                                  \n",
      " batch_normalization_11 (BatchN  (None, 72, 53, 32)  96          ['conv2d_11[0][0]']              \n",
      " ormalization)                                                                                    \n",
      "                                                                                                  \n",
      " activation_5 (Activation)      (None, 72, 53, 64)   0           ['batch_normalization_5[0][0]']  \n",
      "                                                                                                  \n",
      " activation_7 (Activation)      (None, 72, 53, 64)   0           ['batch_normalization_7[0][0]']  \n",
      "                                                                                                  \n",
      " activation_10 (Activation)     (None, 72, 53, 96)   0           ['batch_normalization_10[0][0]'] \n",
      "                                                                                                  \n",
      " activation_11 (Activation)     (None, 72, 53, 32)   0           ['batch_normalization_11[0][0]'] \n",
      "                                                                                                  \n",
      " mixed0 (Concatenate)           (None, 72, 53, 256)  0           ['activation_5[0][0]',           \n",
      "                                                                  'activation_7[0][0]',           \n",
      "                                                                  'activation_10[0][0]',          \n",
      "                                                                  'activation_11[0][0]']          \n",
      "                                                                                                  \n",
      " conv2d_15 (Conv2D)             (None, 72, 53, 64)   16384       ['mixed0[0][0]']                 \n",
      "                                                                                                  \n",
      " batch_normalization_15 (BatchN  (None, 72, 53, 64)  192         ['conv2d_15[0][0]']              \n",
      " ormalization)                                                                                    \n",
      "                                                                                                  \n",
      " activation_15 (Activation)     (None, 72, 53, 64)   0           ['batch_normalization_15[0][0]'] \n",
      "                                                                                                  \n",
      " conv2d_13 (Conv2D)             (None, 72, 53, 48)   12288       ['mixed0[0][0]']                 \n",
      "                                                                                                  \n",
      " conv2d_16 (Conv2D)             (None, 72, 53, 96)   55296       ['activation_15[0][0]']          \n",
      "                                                                                                  \n",
      " batch_normalization_13 (BatchN  (None, 72, 53, 48)  144         ['conv2d_13[0][0]']              \n",
      " ormalization)                                                                                    \n",
      "                                                                                                  \n",
      " batch_normalization_16 (BatchN  (None, 72, 53, 96)  288         ['conv2d_16[0][0]']              \n",
      " ormalization)                                                                                    \n",
      "                                                                                                  \n",
      " activation_13 (Activation)     (None, 72, 53, 48)   0           ['batch_normalization_13[0][0]'] \n",
      "                                                                                                  \n",
      " activation_16 (Activation)     (None, 72, 53, 96)   0           ['batch_normalization_16[0][0]'] \n",
      "                                                                                                  \n",
      " average_pooling2d_1 (AveragePo  (None, 72, 53, 256)  0          ['mixed0[0][0]']                 \n",
      " oling2D)                                                                                         \n",
      "                                                                                                  \n",
      " conv2d_12 (Conv2D)             (None, 72, 53, 64)   16384       ['mixed0[0][0]']                 \n",
      "                                                                                                  \n",
      " conv2d_14 (Conv2D)             (None, 72, 53, 64)   76800       ['activation_13[0][0]']          \n",
      "                                                                                                  \n",
      " conv2d_17 (Conv2D)             (None, 72, 53, 96)   82944       ['activation_16[0][0]']          \n",
      "                                                                                                  \n",
      " conv2d_18 (Conv2D)             (None, 72, 53, 64)   16384       ['average_pooling2d_1[0][0]']    \n",
      "                                                                                                  \n",
      " batch_normalization_12 (BatchN  (None, 72, 53, 64)  192         ['conv2d_12[0][0]']              \n",
      " ormalization)                                                                                    \n",
      "                                                                                                  \n",
      " batch_normalization_14 (BatchN  (None, 72, 53, 64)  192         ['conv2d_14[0][0]']              \n",
      " ormalization)                                                                                    \n",
      "                                                                                                  \n",
      " batch_normalization_17 (BatchN  (None, 72, 53, 96)  288         ['conv2d_17[0][0]']              \n",
      " ormalization)                                                                                    \n",
      "                                                                                                  \n",
      " batch_normalization_18 (BatchN  (None, 72, 53, 64)  192         ['conv2d_18[0][0]']              \n",
      " ormalization)                                                                                    \n",
      "                                                                                                  \n",
      " activation_12 (Activation)     (None, 72, 53, 64)   0           ['batch_normalization_12[0][0]'] \n",
      "                                                                                                  \n",
      " activation_14 (Activation)     (None, 72, 53, 64)   0           ['batch_normalization_14[0][0]'] \n",
      "                                                                                                  \n",
      " activation_17 (Activation)     (None, 72, 53, 96)   0           ['batch_normalization_17[0][0]'] \n",
      "                                                                                                  \n",
      " activation_18 (Activation)     (None, 72, 53, 64)   0           ['batch_normalization_18[0][0]'] \n",
      "                                                                                                  \n",
      " mixed1 (Concatenate)           (None, 72, 53, 288)  0           ['activation_12[0][0]',          \n",
      "                                                                  'activation_14[0][0]',          \n",
      "                                                                  'activation_17[0][0]',          \n",
      "                                                                  'activation_18[0][0]']          \n",
      "                                                                                                  \n",
      " conv2d_22 (Conv2D)             (None, 72, 53, 64)   18432       ['mixed1[0][0]']                 \n",
      "                                                                                                  \n",
      " batch_normalization_22 (BatchN  (None, 72, 53, 64)  192         ['conv2d_22[0][0]']              \n",
      " ormalization)                                                                                    \n",
      "                                                                                                  \n",
      " activation_22 (Activation)     (None, 72, 53, 64)   0           ['batch_normalization_22[0][0]'] \n",
      "                                                                                                  \n",
      " conv2d_20 (Conv2D)             (None, 72, 53, 48)   13824       ['mixed1[0][0]']                 \n",
      "                                                                                                  \n",
      " conv2d_23 (Conv2D)             (None, 72, 53, 96)   55296       ['activation_22[0][0]']          \n",
      "                                                                                                  \n",
      " batch_normalization_20 (BatchN  (None, 72, 53, 48)  144         ['conv2d_20[0][0]']              \n",
      " ormalization)                                                                                    \n",
      "                                                                                                  \n",
      " batch_normalization_23 (BatchN  (None, 72, 53, 96)  288         ['conv2d_23[0][0]']              \n",
      " ormalization)                                                                                    \n",
      "                                                                                                  \n",
      " activation_20 (Activation)     (None, 72, 53, 48)   0           ['batch_normalization_20[0][0]'] \n",
      "                                                                                                  \n",
      " activation_23 (Activation)     (None, 72, 53, 96)   0           ['batch_normalization_23[0][0]'] \n",
      "                                                                                                  \n",
      " average_pooling2d_2 (AveragePo  (None, 72, 53, 288)  0          ['mixed1[0][0]']                 \n",
      " oling2D)                                                                                         \n",
      "                                                                                                  \n",
      " conv2d_19 (Conv2D)             (None, 72, 53, 64)   18432       ['mixed1[0][0]']                 \n",
      "                                                                                                  \n",
      " conv2d_21 (Conv2D)             (None, 72, 53, 64)   76800       ['activation_20[0][0]']          \n",
      "                                                                                                  \n",
      " conv2d_24 (Conv2D)             (None, 72, 53, 96)   82944       ['activation_23[0][0]']          \n",
      "                                                                                                  \n",
      " conv2d_25 (Conv2D)             (None, 72, 53, 64)   18432       ['average_pooling2d_2[0][0]']    \n",
      "                                                                                                  \n",
      " batch_normalization_19 (BatchN  (None, 72, 53, 64)  192         ['conv2d_19[0][0]']              \n",
      " ormalization)                                                                                    \n",
      "                                                                                                  \n",
      " batch_normalization_21 (BatchN  (None, 72, 53, 64)  192         ['conv2d_21[0][0]']              \n",
      " ormalization)                                                                                    \n",
      "                                                                                                  \n",
      " batch_normalization_24 (BatchN  (None, 72, 53, 96)  288         ['conv2d_24[0][0]']              \n",
      " ormalization)                                                                                    \n",
      "                                                                                                  \n",
      " batch_normalization_25 (BatchN  (None, 72, 53, 64)  192         ['conv2d_25[0][0]']              \n",
      " ormalization)                                                                                    \n",
      "                                                                                                  \n",
      " activation_19 (Activation)     (None, 72, 53, 64)   0           ['batch_normalization_19[0][0]'] \n",
      "                                                                                                  \n",
      " activation_21 (Activation)     (None, 72, 53, 64)   0           ['batch_normalization_21[0][0]'] \n",
      "                                                                                                  \n",
      " activation_24 (Activation)     (None, 72, 53, 96)   0           ['batch_normalization_24[0][0]'] \n",
      "                                                                                                  \n",
      " activation_25 (Activation)     (None, 72, 53, 64)   0           ['batch_normalization_25[0][0]'] \n",
      "                                                                                                  \n",
      " mixed2 (Concatenate)           (None, 72, 53, 288)  0           ['activation_19[0][0]',          \n",
      "                                                                  'activation_21[0][0]',          \n",
      "                                                                  'activation_24[0][0]',          \n",
      "                                                                  'activation_25[0][0]']          \n",
      "                                                                                                  \n",
      " conv2d_27 (Conv2D)             (None, 72, 53, 64)   18432       ['mixed2[0][0]']                 \n",
      "                                                                                                  \n",
      " batch_normalization_27 (BatchN  (None, 72, 53, 64)  192         ['conv2d_27[0][0]']              \n",
      " ormalization)                                                                                    \n",
      "                                                                                                  \n",
      " activation_27 (Activation)     (None, 72, 53, 64)   0           ['batch_normalization_27[0][0]'] \n",
      "                                                                                                  \n",
      " conv2d_28 (Conv2D)             (None, 72, 53, 96)   55296       ['activation_27[0][0]']          \n",
      "                                                                                                  \n",
      " batch_normalization_28 (BatchN  (None, 72, 53, 96)  288         ['conv2d_28[0][0]']              \n",
      " ormalization)                                                                                    \n",
      "                                                                                                  \n",
      " activation_28 (Activation)     (None, 72, 53, 96)   0           ['batch_normalization_28[0][0]'] \n",
      "                                                                                                  \n",
      " conv2d_26 (Conv2D)             (None, 35, 26, 384)  995328      ['mixed2[0][0]']                 \n",
      "                                                                                                  \n",
      " conv2d_29 (Conv2D)             (None, 35, 26, 96)   82944       ['activation_28[0][0]']          \n",
      "                                                                                                  \n",
      " batch_normalization_26 (BatchN  (None, 35, 26, 384)  1152       ['conv2d_26[0][0]']              \n",
      " ormalization)                                                                                    \n",
      "                                                                                                  \n",
      " batch_normalization_29 (BatchN  (None, 35, 26, 96)  288         ['conv2d_29[0][0]']              \n",
      " ormalization)                                                                                    \n",
      "                                                                                                  \n",
      " activation_26 (Activation)     (None, 35, 26, 384)  0           ['batch_normalization_26[0][0]'] \n",
      "                                                                                                  \n",
      " activation_29 (Activation)     (None, 35, 26, 96)   0           ['batch_normalization_29[0][0]'] \n",
      "                                                                                                  \n",
      " max_pooling2d_2 (MaxPooling2D)  (None, 35, 26, 288)  0          ['mixed2[0][0]']                 \n",
      "                                                                                                  \n",
      " mixed3 (Concatenate)           (None, 35, 26, 768)  0           ['activation_26[0][0]',          \n",
      "                                                                  'activation_29[0][0]',          \n",
      "                                                                  'max_pooling2d_2[0][0]']        \n",
      "                                                                                                  \n",
      " conv2d_34 (Conv2D)             (None, 35, 26, 128)  98304       ['mixed3[0][0]']                 \n",
      "                                                                                                  \n",
      " batch_normalization_34 (BatchN  (None, 35, 26, 128)  384        ['conv2d_34[0][0]']              \n",
      " ormalization)                                                                                    \n",
      "                                                                                                  \n",
      " activation_34 (Activation)     (None, 35, 26, 128)  0           ['batch_normalization_34[0][0]'] \n",
      "                                                                                                  \n",
      " conv2d_35 (Conv2D)             (None, 35, 26, 128)  114688      ['activation_34[0][0]']          \n",
      "                                                                                                  \n",
      " batch_normalization_35 (BatchN  (None, 35, 26, 128)  384        ['conv2d_35[0][0]']              \n",
      " ormalization)                                                                                    \n",
      "                                                                                                  \n",
      " activation_35 (Activation)     (None, 35, 26, 128)  0           ['batch_normalization_35[0][0]'] \n",
      "                                                                                                  \n",
      " conv2d_31 (Conv2D)             (None, 35, 26, 128)  98304       ['mixed3[0][0]']                 \n",
      "                                                                                                  \n",
      " conv2d_36 (Conv2D)             (None, 35, 26, 128)  114688      ['activation_35[0][0]']          \n",
      "                                                                                                  \n",
      " batch_normalization_31 (BatchN  (None, 35, 26, 128)  384        ['conv2d_31[0][0]']              \n",
      " ormalization)                                                                                    \n",
      "                                                                                                  \n",
      " batch_normalization_36 (BatchN  (None, 35, 26, 128)  384        ['conv2d_36[0][0]']              \n",
      " ormalization)                                                                                    \n",
      "                                                                                                  \n",
      " activation_31 (Activation)     (None, 35, 26, 128)  0           ['batch_normalization_31[0][0]'] \n",
      "                                                                                                  \n",
      " activation_36 (Activation)     (None, 35, 26, 128)  0           ['batch_normalization_36[0][0]'] \n",
      "                                                                                                  \n",
      " conv2d_32 (Conv2D)             (None, 35, 26, 128)  114688      ['activation_31[0][0]']          \n",
      "                                                                                                  \n",
      " conv2d_37 (Conv2D)             (None, 35, 26, 128)  114688      ['activation_36[0][0]']          \n",
      "                                                                                                  \n",
      " batch_normalization_32 (BatchN  (None, 35, 26, 128)  384        ['conv2d_32[0][0]']              \n",
      " ormalization)                                                                                    \n",
      "                                                                                                  \n",
      " batch_normalization_37 (BatchN  (None, 35, 26, 128)  384        ['conv2d_37[0][0]']              \n",
      " ormalization)                                                                                    \n",
      "                                                                                                  \n",
      " activation_32 (Activation)     (None, 35, 26, 128)  0           ['batch_normalization_32[0][0]'] \n",
      "                                                                                                  \n",
      " activation_37 (Activation)     (None, 35, 26, 128)  0           ['batch_normalization_37[0][0]'] \n",
      "                                                                                                  \n",
      " average_pooling2d_3 (AveragePo  (None, 35, 26, 768)  0          ['mixed3[0][0]']                 \n",
      " oling2D)                                                                                         \n",
      "                                                                                                  \n",
      " conv2d_30 (Conv2D)             (None, 35, 26, 192)  147456      ['mixed3[0][0]']                 \n",
      "                                                                                                  \n",
      " conv2d_33 (Conv2D)             (None, 35, 26, 192)  172032      ['activation_32[0][0]']          \n",
      "                                                                                                  \n",
      " conv2d_38 (Conv2D)             (None, 35, 26, 192)  172032      ['activation_37[0][0]']          \n",
      "                                                                                                  \n",
      " conv2d_39 (Conv2D)             (None, 35, 26, 192)  147456      ['average_pooling2d_3[0][0]']    \n",
      "                                                                                                  \n",
      " batch_normalization_30 (BatchN  (None, 35, 26, 192)  576        ['conv2d_30[0][0]']              \n",
      " ormalization)                                                                                    \n",
      "                                                                                                  \n",
      " batch_normalization_33 (BatchN  (None, 35, 26, 192)  576        ['conv2d_33[0][0]']              \n",
      " ormalization)                                                                                    \n",
      "                                                                                                  \n",
      " batch_normalization_38 (BatchN  (None, 35, 26, 192)  576        ['conv2d_38[0][0]']              \n",
      " ormalization)                                                                                    \n",
      "                                                                                                  \n",
      " batch_normalization_39 (BatchN  (None, 35, 26, 192)  576        ['conv2d_39[0][0]']              \n",
      " ormalization)                                                                                    \n",
      "                                                                                                  \n",
      " activation_30 (Activation)     (None, 35, 26, 192)  0           ['batch_normalization_30[0][0]'] \n",
      "                                                                                                  \n",
      " activation_33 (Activation)     (None, 35, 26, 192)  0           ['batch_normalization_33[0][0]'] \n",
      "                                                                                                  \n",
      " activation_38 (Activation)     (None, 35, 26, 192)  0           ['batch_normalization_38[0][0]'] \n",
      "                                                                                                  \n",
      " activation_39 (Activation)     (None, 35, 26, 192)  0           ['batch_normalization_39[0][0]'] \n",
      "                                                                                                  \n",
      " mixed4 (Concatenate)           (None, 35, 26, 768)  0           ['activation_30[0][0]',          \n",
      "                                                                  'activation_33[0][0]',          \n",
      "                                                                  'activation_38[0][0]',          \n",
      "                                                                  'activation_39[0][0]']          \n",
      "                                                                                                  \n",
      " conv2d_44 (Conv2D)             (None, 35, 26, 160)  122880      ['mixed4[0][0]']                 \n",
      "                                                                                                  \n",
      " batch_normalization_44 (BatchN  (None, 35, 26, 160)  480        ['conv2d_44[0][0]']              \n",
      " ormalization)                                                                                    \n",
      "                                                                                                  \n",
      " activation_44 (Activation)     (None, 35, 26, 160)  0           ['batch_normalization_44[0][0]'] \n",
      "                                                                                                  \n",
      " conv2d_45 (Conv2D)             (None, 35, 26, 160)  179200      ['activation_44[0][0]']          \n",
      "                                                                                                  \n",
      " batch_normalization_45 (BatchN  (None, 35, 26, 160)  480        ['conv2d_45[0][0]']              \n",
      " ormalization)                                                                                    \n",
      "                                                                                                  \n",
      " activation_45 (Activation)     (None, 35, 26, 160)  0           ['batch_normalization_45[0][0]'] \n",
      "                                                                                                  \n",
      " conv2d_41 (Conv2D)             (None, 35, 26, 160)  122880      ['mixed4[0][0]']                 \n",
      "                                                                                                  \n",
      " conv2d_46 (Conv2D)             (None, 35, 26, 160)  179200      ['activation_45[0][0]']          \n",
      "                                                                                                  \n",
      " batch_normalization_41 (BatchN  (None, 35, 26, 160)  480        ['conv2d_41[0][0]']              \n",
      " ormalization)                                                                                    \n",
      "                                                                                                  \n",
      " batch_normalization_46 (BatchN  (None, 35, 26, 160)  480        ['conv2d_46[0][0]']              \n",
      " ormalization)                                                                                    \n",
      "                                                                                                  \n",
      " activation_41 (Activation)     (None, 35, 26, 160)  0           ['batch_normalization_41[0][0]'] \n",
      "                                                                                                  \n",
      " activation_46 (Activation)     (None, 35, 26, 160)  0           ['batch_normalization_46[0][0]'] \n",
      "                                                                                                  \n",
      " conv2d_42 (Conv2D)             (None, 35, 26, 160)  179200      ['activation_41[0][0]']          \n",
      "                                                                                                  \n",
      " conv2d_47 (Conv2D)             (None, 35, 26, 160)  179200      ['activation_46[0][0]']          \n",
      "                                                                                                  \n",
      " batch_normalization_42 (BatchN  (None, 35, 26, 160)  480        ['conv2d_42[0][0]']              \n",
      " ormalization)                                                                                    \n",
      "                                                                                                  \n",
      " batch_normalization_47 (BatchN  (None, 35, 26, 160)  480        ['conv2d_47[0][0]']              \n",
      " ormalization)                                                                                    \n",
      "                                                                                                  \n",
      " activation_42 (Activation)     (None, 35, 26, 160)  0           ['batch_normalization_42[0][0]'] \n",
      "                                                                                                  \n",
      " activation_47 (Activation)     (None, 35, 26, 160)  0           ['batch_normalization_47[0][0]'] \n",
      "                                                                                                  \n",
      " average_pooling2d_4 (AveragePo  (None, 35, 26, 768)  0          ['mixed4[0][0]']                 \n",
      " oling2D)                                                                                         \n",
      "                                                                                                  \n",
      " conv2d_40 (Conv2D)             (None, 35, 26, 192)  147456      ['mixed4[0][0]']                 \n",
      "                                                                                                  \n",
      " conv2d_43 (Conv2D)             (None, 35, 26, 192)  215040      ['activation_42[0][0]']          \n",
      "                                                                                                  \n",
      " conv2d_48 (Conv2D)             (None, 35, 26, 192)  215040      ['activation_47[0][0]']          \n",
      "                                                                                                  \n",
      " conv2d_49 (Conv2D)             (None, 35, 26, 192)  147456      ['average_pooling2d_4[0][0]']    \n",
      "                                                                                                  \n",
      " batch_normalization_40 (BatchN  (None, 35, 26, 192)  576        ['conv2d_40[0][0]']              \n",
      " ormalization)                                                                                    \n",
      "                                                                                                  \n",
      " batch_normalization_43 (BatchN  (None, 35, 26, 192)  576        ['conv2d_43[0][0]']              \n",
      " ormalization)                                                                                    \n",
      "                                                                                                  \n",
      " batch_normalization_48 (BatchN  (None, 35, 26, 192)  576        ['conv2d_48[0][0]']              \n",
      " ormalization)                                                                                    \n",
      "                                                                                                  \n",
      " batch_normalization_49 (BatchN  (None, 35, 26, 192)  576        ['conv2d_49[0][0]']              \n",
      " ormalization)                                                                                    \n",
      "                                                                                                  \n",
      " activation_40 (Activation)     (None, 35, 26, 192)  0           ['batch_normalization_40[0][0]'] \n",
      "                                                                                                  \n",
      " activation_43 (Activation)     (None, 35, 26, 192)  0           ['batch_normalization_43[0][0]'] \n",
      "                                                                                                  \n",
      " activation_48 (Activation)     (None, 35, 26, 192)  0           ['batch_normalization_48[0][0]'] \n",
      "                                                                                                  \n",
      " activation_49 (Activation)     (None, 35, 26, 192)  0           ['batch_normalization_49[0][0]'] \n",
      "                                                                                                  \n",
      " mixed5 (Concatenate)           (None, 35, 26, 768)  0           ['activation_40[0][0]',          \n",
      "                                                                  'activation_43[0][0]',          \n",
      "                                                                  'activation_48[0][0]',          \n",
      "                                                                  'activation_49[0][0]']          \n",
      "                                                                                                  \n",
      " conv2d_54 (Conv2D)             (None, 35, 26, 160)  122880      ['mixed5[0][0]']                 \n",
      "                                                                                                  \n",
      " batch_normalization_54 (BatchN  (None, 35, 26, 160)  480        ['conv2d_54[0][0]']              \n",
      " ormalization)                                                                                    \n",
      "                                                                                                  \n",
      " activation_54 (Activation)     (None, 35, 26, 160)  0           ['batch_normalization_54[0][0]'] \n",
      "                                                                                                  \n",
      " conv2d_55 (Conv2D)             (None, 35, 26, 160)  179200      ['activation_54[0][0]']          \n",
      "                                                                                                  \n",
      " batch_normalization_55 (BatchN  (None, 35, 26, 160)  480        ['conv2d_55[0][0]']              \n",
      " ormalization)                                                                                    \n",
      "                                                                                                  \n",
      " activation_55 (Activation)     (None, 35, 26, 160)  0           ['batch_normalization_55[0][0]'] \n",
      "                                                                                                  \n",
      " conv2d_51 (Conv2D)             (None, 35, 26, 160)  122880      ['mixed5[0][0]']                 \n",
      "                                                                                                  \n",
      " conv2d_56 (Conv2D)             (None, 35, 26, 160)  179200      ['activation_55[0][0]']          \n",
      "                                                                                                  \n",
      " batch_normalization_51 (BatchN  (None, 35, 26, 160)  480        ['conv2d_51[0][0]']              \n",
      " ormalization)                                                                                    \n",
      "                                                                                                  \n",
      " batch_normalization_56 (BatchN  (None, 35, 26, 160)  480        ['conv2d_56[0][0]']              \n",
      " ormalization)                                                                                    \n",
      "                                                                                                  \n",
      " activation_51 (Activation)     (None, 35, 26, 160)  0           ['batch_normalization_51[0][0]'] \n",
      "                                                                                                  \n",
      " activation_56 (Activation)     (None, 35, 26, 160)  0           ['batch_normalization_56[0][0]'] \n",
      "                                                                                                  \n",
      " conv2d_52 (Conv2D)             (None, 35, 26, 160)  179200      ['activation_51[0][0]']          \n",
      "                                                                                                  \n",
      " conv2d_57 (Conv2D)             (None, 35, 26, 160)  179200      ['activation_56[0][0]']          \n",
      "                                                                                                  \n",
      " batch_normalization_52 (BatchN  (None, 35, 26, 160)  480        ['conv2d_52[0][0]']              \n",
      " ormalization)                                                                                    \n",
      "                                                                                                  \n",
      " batch_normalization_57 (BatchN  (None, 35, 26, 160)  480        ['conv2d_57[0][0]']              \n",
      " ormalization)                                                                                    \n",
      "                                                                                                  \n",
      " activation_52 (Activation)     (None, 35, 26, 160)  0           ['batch_normalization_52[0][0]'] \n",
      "                                                                                                  \n",
      " activation_57 (Activation)     (None, 35, 26, 160)  0           ['batch_normalization_57[0][0]'] \n",
      "                                                                                                  \n",
      " average_pooling2d_5 (AveragePo  (None, 35, 26, 768)  0          ['mixed5[0][0]']                 \n",
      " oling2D)                                                                                         \n",
      "                                                                                                  \n",
      " conv2d_50 (Conv2D)             (None, 35, 26, 192)  147456      ['mixed5[0][0]']                 \n",
      "                                                                                                  \n",
      " conv2d_53 (Conv2D)             (None, 35, 26, 192)  215040      ['activation_52[0][0]']          \n",
      "                                                                                                  \n",
      " conv2d_58 (Conv2D)             (None, 35, 26, 192)  215040      ['activation_57[0][0]']          \n",
      "                                                                                                  \n",
      " conv2d_59 (Conv2D)             (None, 35, 26, 192)  147456      ['average_pooling2d_5[0][0]']    \n",
      "                                                                                                  \n",
      " batch_normalization_50 (BatchN  (None, 35, 26, 192)  576        ['conv2d_50[0][0]']              \n",
      " ormalization)                                                                                    \n",
      "                                                                                                  \n",
      " batch_normalization_53 (BatchN  (None, 35, 26, 192)  576        ['conv2d_53[0][0]']              \n",
      " ormalization)                                                                                    \n",
      "                                                                                                  \n",
      " batch_normalization_58 (BatchN  (None, 35, 26, 192)  576        ['conv2d_58[0][0]']              \n",
      " ormalization)                                                                                    \n",
      "                                                                                                  \n",
      " batch_normalization_59 (BatchN  (None, 35, 26, 192)  576        ['conv2d_59[0][0]']              \n",
      " ormalization)                                                                                    \n",
      "                                                                                                  \n",
      " activation_50 (Activation)     (None, 35, 26, 192)  0           ['batch_normalization_50[0][0]'] \n",
      "                                                                                                  \n",
      " activation_53 (Activation)     (None, 35, 26, 192)  0           ['batch_normalization_53[0][0]'] \n",
      "                                                                                                  \n",
      " activation_58 (Activation)     (None, 35, 26, 192)  0           ['batch_normalization_58[0][0]'] \n",
      "                                                                                                  \n",
      " activation_59 (Activation)     (None, 35, 26, 192)  0           ['batch_normalization_59[0][0]'] \n",
      "                                                                                                  \n",
      " mixed6 (Concatenate)           (None, 35, 26, 768)  0           ['activation_50[0][0]',          \n",
      "                                                                  'activation_53[0][0]',          \n",
      "                                                                  'activation_58[0][0]',          \n",
      "                                                                  'activation_59[0][0]']          \n",
      "                                                                                                  \n",
      " conv2d_64 (Conv2D)             (None, 35, 26, 192)  147456      ['mixed6[0][0]']                 \n",
      "                                                                                                  \n",
      " batch_normalization_64 (BatchN  (None, 35, 26, 192)  576        ['conv2d_64[0][0]']              \n",
      " ormalization)                                                                                    \n",
      "                                                                                                  \n",
      " activation_64 (Activation)     (None, 35, 26, 192)  0           ['batch_normalization_64[0][0]'] \n",
      "                                                                                                  \n",
      " conv2d_65 (Conv2D)             (None, 35, 26, 192)  258048      ['activation_64[0][0]']          \n",
      "                                                                                                  \n",
      " batch_normalization_65 (BatchN  (None, 35, 26, 192)  576        ['conv2d_65[0][0]']              \n",
      " ormalization)                                                                                    \n",
      "                                                                                                  \n",
      " activation_65 (Activation)     (None, 35, 26, 192)  0           ['batch_normalization_65[0][0]'] \n",
      "                                                                                                  \n",
      " conv2d_61 (Conv2D)             (None, 35, 26, 192)  147456      ['mixed6[0][0]']                 \n",
      "                                                                                                  \n",
      " conv2d_66 (Conv2D)             (None, 35, 26, 192)  258048      ['activation_65[0][0]']          \n",
      "                                                                                                  \n",
      " batch_normalization_61 (BatchN  (None, 35, 26, 192)  576        ['conv2d_61[0][0]']              \n",
      " ormalization)                                                                                    \n",
      "                                                                                                  \n",
      " batch_normalization_66 (BatchN  (None, 35, 26, 192)  576        ['conv2d_66[0][0]']              \n",
      " ormalization)                                                                                    \n",
      "                                                                                                  \n",
      " activation_61 (Activation)     (None, 35, 26, 192)  0           ['batch_normalization_61[0][0]'] \n",
      "                                                                                                  \n",
      " activation_66 (Activation)     (None, 35, 26, 192)  0           ['batch_normalization_66[0][0]'] \n",
      "                                                                                                  \n",
      " conv2d_62 (Conv2D)             (None, 35, 26, 192)  258048      ['activation_61[0][0]']          \n",
      "                                                                                                  \n",
      " conv2d_67 (Conv2D)             (None, 35, 26, 192)  258048      ['activation_66[0][0]']          \n",
      "                                                                                                  \n",
      " batch_normalization_62 (BatchN  (None, 35, 26, 192)  576        ['conv2d_62[0][0]']              \n",
      " ormalization)                                                                                    \n",
      "                                                                                                  \n",
      " batch_normalization_67 (BatchN  (None, 35, 26, 192)  576        ['conv2d_67[0][0]']              \n",
      " ormalization)                                                                                    \n",
      "                                                                                                  \n",
      " activation_62 (Activation)     (None, 35, 26, 192)  0           ['batch_normalization_62[0][0]'] \n",
      "                                                                                                  \n",
      " activation_67 (Activation)     (None, 35, 26, 192)  0           ['batch_normalization_67[0][0]'] \n",
      "                                                                                                  \n",
      " average_pooling2d_6 (AveragePo  (None, 35, 26, 768)  0          ['mixed6[0][0]']                 \n",
      " oling2D)                                                                                         \n",
      "                                                                                                  \n",
      " conv2d_60 (Conv2D)             (None, 35, 26, 192)  147456      ['mixed6[0][0]']                 \n",
      "                                                                                                  \n",
      " conv2d_63 (Conv2D)             (None, 35, 26, 192)  258048      ['activation_62[0][0]']          \n",
      "                                                                                                  \n",
      " conv2d_68 (Conv2D)             (None, 35, 26, 192)  258048      ['activation_67[0][0]']          \n",
      "                                                                                                  \n",
      " conv2d_69 (Conv2D)             (None, 35, 26, 192)  147456      ['average_pooling2d_6[0][0]']    \n",
      "                                                                                                  \n",
      " batch_normalization_60 (BatchN  (None, 35, 26, 192)  576        ['conv2d_60[0][0]']              \n",
      " ormalization)                                                                                    \n",
      "                                                                                                  \n",
      " batch_normalization_63 (BatchN  (None, 35, 26, 192)  576        ['conv2d_63[0][0]']              \n",
      " ormalization)                                                                                    \n",
      "                                                                                                  \n",
      " batch_normalization_68 (BatchN  (None, 35, 26, 192)  576        ['conv2d_68[0][0]']              \n",
      " ormalization)                                                                                    \n",
      "                                                                                                  \n",
      " batch_normalization_69 (BatchN  (None, 35, 26, 192)  576        ['conv2d_69[0][0]']              \n",
      " ormalization)                                                                                    \n",
      "                                                                                                  \n",
      " activation_60 (Activation)     (None, 35, 26, 192)  0           ['batch_normalization_60[0][0]'] \n",
      "                                                                                                  \n",
      " activation_63 (Activation)     (None, 35, 26, 192)  0           ['batch_normalization_63[0][0]'] \n",
      "                                                                                                  \n",
      " activation_68 (Activation)     (None, 35, 26, 192)  0           ['batch_normalization_68[0][0]'] \n",
      "                                                                                                  \n",
      " activation_69 (Activation)     (None, 35, 26, 192)  0           ['batch_normalization_69[0][0]'] \n",
      "                                                                                                  \n",
      " mixed7 (Concatenate)           (None, 35, 26, 768)  0           ['activation_60[0][0]',          \n",
      "                                                                  'activation_63[0][0]',          \n",
      "                                                                  'activation_68[0][0]',          \n",
      "                                                                  'activation_69[0][0]']          \n",
      "                                                                                                  \n",
      " conv2d_72 (Conv2D)             (None, 35, 26, 192)  147456      ['mixed7[0][0]']                 \n",
      "                                                                                                  \n",
      " batch_normalization_72 (BatchN  (None, 35, 26, 192)  576        ['conv2d_72[0][0]']              \n",
      " ormalization)                                                                                    \n",
      "                                                                                                  \n",
      " activation_72 (Activation)     (None, 35, 26, 192)  0           ['batch_normalization_72[0][0]'] \n",
      "                                                                                                  \n",
      " conv2d_73 (Conv2D)             (None, 35, 26, 192)  258048      ['activation_72[0][0]']          \n",
      "                                                                                                  \n",
      " batch_normalization_73 (BatchN  (None, 35, 26, 192)  576        ['conv2d_73[0][0]']              \n",
      " ormalization)                                                                                    \n",
      "                                                                                                  \n",
      " activation_73 (Activation)     (None, 35, 26, 192)  0           ['batch_normalization_73[0][0]'] \n",
      "                                                                                                  \n",
      " conv2d_70 (Conv2D)             (None, 35, 26, 192)  147456      ['mixed7[0][0]']                 \n",
      "                                                                                                  \n",
      " conv2d_74 (Conv2D)             (None, 35, 26, 192)  258048      ['activation_73[0][0]']          \n",
      "                                                                                                  \n",
      " batch_normalization_70 (BatchN  (None, 35, 26, 192)  576        ['conv2d_70[0][0]']              \n",
      " ormalization)                                                                                    \n",
      "                                                                                                  \n",
      " batch_normalization_74 (BatchN  (None, 35, 26, 192)  576        ['conv2d_74[0][0]']              \n",
      " ormalization)                                                                                    \n",
      "                                                                                                  \n",
      " activation_70 (Activation)     (None, 35, 26, 192)  0           ['batch_normalization_70[0][0]'] \n",
      "                                                                                                  \n",
      " activation_74 (Activation)     (None, 35, 26, 192)  0           ['batch_normalization_74[0][0]'] \n",
      "                                                                                                  \n",
      " conv2d_71 (Conv2D)             (None, 17, 12, 320)  552960      ['activation_70[0][0]']          \n",
      "                                                                                                  \n",
      " conv2d_75 (Conv2D)             (None, 17, 12, 192)  331776      ['activation_74[0][0]']          \n",
      "                                                                                                  \n",
      " batch_normalization_71 (BatchN  (None, 17, 12, 320)  960        ['conv2d_71[0][0]']              \n",
      " ormalization)                                                                                    \n",
      "                                                                                                  \n",
      " batch_normalization_75 (BatchN  (None, 17, 12, 192)  576        ['conv2d_75[0][0]']              \n",
      " ormalization)                                                                                    \n",
      "                                                                                                  \n",
      " activation_71 (Activation)     (None, 17, 12, 320)  0           ['batch_normalization_71[0][0]'] \n",
      "                                                                                                  \n",
      " activation_75 (Activation)     (None, 17, 12, 192)  0           ['batch_normalization_75[0][0]'] \n",
      "                                                                                                  \n",
      " max_pooling2d_3 (MaxPooling2D)  (None, 17, 12, 768)  0          ['mixed7[0][0]']                 \n",
      "                                                                                                  \n",
      " mixed8 (Concatenate)           (None, 17, 12, 1280  0           ['activation_71[0][0]',          \n",
      "                                )                                 'activation_75[0][0]',          \n",
      "                                                                  'max_pooling2d_3[0][0]']        \n",
      "                                                                                                  \n",
      " conv2d_80 (Conv2D)             (None, 17, 12, 448)  573440      ['mixed8[0][0]']                 \n",
      "                                                                                                  \n",
      " batch_normalization_80 (BatchN  (None, 17, 12, 448)  1344       ['conv2d_80[0][0]']              \n",
      " ormalization)                                                                                    \n",
      "                                                                                                  \n",
      " activation_80 (Activation)     (None, 17, 12, 448)  0           ['batch_normalization_80[0][0]'] \n",
      "                                                                                                  \n",
      " conv2d_77 (Conv2D)             (None, 17, 12, 384)  491520      ['mixed8[0][0]']                 \n",
      "                                                                                                  \n",
      " conv2d_81 (Conv2D)             (None, 17, 12, 384)  1548288     ['activation_80[0][0]']          \n",
      "                                                                                                  \n",
      " batch_normalization_77 (BatchN  (None, 17, 12, 384)  1152       ['conv2d_77[0][0]']              \n",
      " ormalization)                                                                                    \n",
      "                                                                                                  \n",
      " batch_normalization_81 (BatchN  (None, 17, 12, 384)  1152       ['conv2d_81[0][0]']              \n",
      " ormalization)                                                                                    \n",
      "                                                                                                  \n",
      " activation_77 (Activation)     (None, 17, 12, 384)  0           ['batch_normalization_77[0][0]'] \n",
      "                                                                                                  \n",
      " activation_81 (Activation)     (None, 17, 12, 384)  0           ['batch_normalization_81[0][0]'] \n",
      "                                                                                                  \n",
      " conv2d_78 (Conv2D)             (None, 17, 12, 384)  442368      ['activation_77[0][0]']          \n",
      "                                                                                                  \n",
      " conv2d_79 (Conv2D)             (None, 17, 12, 384)  442368      ['activation_77[0][0]']          \n",
      "                                                                                                  \n",
      " conv2d_82 (Conv2D)             (None, 17, 12, 384)  442368      ['activation_81[0][0]']          \n",
      "                                                                                                  \n",
      " conv2d_83 (Conv2D)             (None, 17, 12, 384)  442368      ['activation_81[0][0]']          \n",
      "                                                                                                  \n",
      " average_pooling2d_7 (AveragePo  (None, 17, 12, 1280  0          ['mixed8[0][0]']                 \n",
      " oling2D)                       )                                                                 \n",
      "                                                                                                  \n",
      " conv2d_76 (Conv2D)             (None, 17, 12, 320)  409600      ['mixed8[0][0]']                 \n",
      "                                                                                                  \n",
      " batch_normalization_78 (BatchN  (None, 17, 12, 384)  1152       ['conv2d_78[0][0]']              \n",
      " ormalization)                                                                                    \n",
      "                                                                                                  \n",
      " batch_normalization_79 (BatchN  (None, 17, 12, 384)  1152       ['conv2d_79[0][0]']              \n",
      " ormalization)                                                                                    \n",
      "                                                                                                  \n",
      " batch_normalization_82 (BatchN  (None, 17, 12, 384)  1152       ['conv2d_82[0][0]']              \n",
      " ormalization)                                                                                    \n",
      "                                                                                                  \n",
      " batch_normalization_83 (BatchN  (None, 17, 12, 384)  1152       ['conv2d_83[0][0]']              \n",
      " ormalization)                                                                                    \n",
      "                                                                                                  \n",
      " conv2d_84 (Conv2D)             (None, 17, 12, 192)  245760      ['average_pooling2d_7[0][0]']    \n",
      "                                                                                                  \n",
      " batch_normalization_76 (BatchN  (None, 17, 12, 320)  960        ['conv2d_76[0][0]']              \n",
      " ormalization)                                                                                    \n",
      "                                                                                                  \n",
      " activation_78 (Activation)     (None, 17, 12, 384)  0           ['batch_normalization_78[0][0]'] \n",
      "                                                                                                  \n",
      " activation_79 (Activation)     (None, 17, 12, 384)  0           ['batch_normalization_79[0][0]'] \n",
      "                                                                                                  \n",
      " activation_82 (Activation)     (None, 17, 12, 384)  0           ['batch_normalization_82[0][0]'] \n",
      "                                                                                                  \n",
      " activation_83 (Activation)     (None, 17, 12, 384)  0           ['batch_normalization_83[0][0]'] \n",
      "                                                                                                  \n",
      " batch_normalization_84 (BatchN  (None, 17, 12, 192)  576        ['conv2d_84[0][0]']              \n",
      " ormalization)                                                                                    \n",
      "                                                                                                  \n",
      " activation_76 (Activation)     (None, 17, 12, 320)  0           ['batch_normalization_76[0][0]'] \n",
      "                                                                                                  \n",
      " mixed9_0 (Concatenate)         (None, 17, 12, 768)  0           ['activation_78[0][0]',          \n",
      "                                                                  'activation_79[0][0]']          \n",
      "                                                                                                  \n",
      " concatenate (Concatenate)      (None, 17, 12, 768)  0           ['activation_82[0][0]',          \n",
      "                                                                  'activation_83[0][0]']          \n",
      "                                                                                                  \n",
      " activation_84 (Activation)     (None, 17, 12, 192)  0           ['batch_normalization_84[0][0]'] \n",
      "                                                                                                  \n",
      " mixed9 (Concatenate)           (None, 17, 12, 2048  0           ['activation_76[0][0]',          \n",
      "                                )                                 'mixed9_0[0][0]',               \n",
      "                                                                  'concatenate[0][0]',            \n",
      "                                                                  'activation_84[0][0]']          \n",
      "                                                                                                  \n",
      " conv2d_89 (Conv2D)             (None, 17, 12, 448)  917504      ['mixed9[0][0]']                 \n",
      "                                                                                                  \n",
      " batch_normalization_89 (BatchN  (None, 17, 12, 448)  1344       ['conv2d_89[0][0]']              \n",
      " ormalization)                                                                                    \n",
      "                                                                                                  \n",
      " activation_89 (Activation)     (None, 17, 12, 448)  0           ['batch_normalization_89[0][0]'] \n",
      "                                                                                                  \n",
      " conv2d_86 (Conv2D)             (None, 17, 12, 384)  786432      ['mixed9[0][0]']                 \n",
      "                                                                                                  \n",
      " conv2d_90 (Conv2D)             (None, 17, 12, 384)  1548288     ['activation_89[0][0]']          \n",
      "                                                                                                  \n",
      " batch_normalization_86 (BatchN  (None, 17, 12, 384)  1152       ['conv2d_86[0][0]']              \n",
      " ormalization)                                                                                    \n",
      "                                                                                                  \n",
      " batch_normalization_90 (BatchN  (None, 17, 12, 384)  1152       ['conv2d_90[0][0]']              \n",
      " ormalization)                                                                                    \n",
      "                                                                                                  \n",
      " activation_86 (Activation)     (None, 17, 12, 384)  0           ['batch_normalization_86[0][0]'] \n",
      "                                                                                                  \n",
      " activation_90 (Activation)     (None, 17, 12, 384)  0           ['batch_normalization_90[0][0]'] \n",
      "                                                                                                  \n",
      " conv2d_87 (Conv2D)             (None, 17, 12, 384)  442368      ['activation_86[0][0]']          \n",
      "                                                                                                  \n",
      " conv2d_88 (Conv2D)             (None, 17, 12, 384)  442368      ['activation_86[0][0]']          \n",
      "                                                                                                  \n",
      " conv2d_91 (Conv2D)             (None, 17, 12, 384)  442368      ['activation_90[0][0]']          \n",
      "                                                                                                  \n",
      " conv2d_92 (Conv2D)             (None, 17, 12, 384)  442368      ['activation_90[0][0]']          \n",
      "                                                                                                  \n",
      " average_pooling2d_8 (AveragePo  (None, 17, 12, 2048  0          ['mixed9[0][0]']                 \n",
      " oling2D)                       )                                                                 \n",
      "                                                                                                  \n",
      " conv2d_85 (Conv2D)             (None, 17, 12, 320)  655360      ['mixed9[0][0]']                 \n",
      "                                                                                                  \n",
      " batch_normalization_87 (BatchN  (None, 17, 12, 384)  1152       ['conv2d_87[0][0]']              \n",
      " ormalization)                                                                                    \n",
      "                                                                                                  \n",
      " batch_normalization_88 (BatchN  (None, 17, 12, 384)  1152       ['conv2d_88[0][0]']              \n",
      " ormalization)                                                                                    \n",
      "                                                                                                  \n",
      " batch_normalization_91 (BatchN  (None, 17, 12, 384)  1152       ['conv2d_91[0][0]']              \n",
      " ormalization)                                                                                    \n",
      "                                                                                                  \n",
      " batch_normalization_92 (BatchN  (None, 17, 12, 384)  1152       ['conv2d_92[0][0]']              \n",
      " ormalization)                                                                                    \n",
      "                                                                                                  \n",
      " conv2d_93 (Conv2D)             (None, 17, 12, 192)  393216      ['average_pooling2d_8[0][0]']    \n",
      "                                                                                                  \n",
      " batch_normalization_85 (BatchN  (None, 17, 12, 320)  960        ['conv2d_85[0][0]']              \n",
      " ormalization)                                                                                    \n",
      "                                                                                                  \n",
      " activation_87 (Activation)     (None, 17, 12, 384)  0           ['batch_normalization_87[0][0]'] \n",
      "                                                                                                  \n",
      " activation_88 (Activation)     (None, 17, 12, 384)  0           ['batch_normalization_88[0][0]'] \n",
      "                                                                                                  \n",
      " activation_91 (Activation)     (None, 17, 12, 384)  0           ['batch_normalization_91[0][0]'] \n",
      "                                                                                                  \n",
      " activation_92 (Activation)     (None, 17, 12, 384)  0           ['batch_normalization_92[0][0]'] \n",
      "                                                                                                  \n",
      " batch_normalization_93 (BatchN  (None, 17, 12, 192)  576        ['conv2d_93[0][0]']              \n",
      " ormalization)                                                                                    \n",
      "                                                                                                  \n",
      " activation_85 (Activation)     (None, 17, 12, 320)  0           ['batch_normalization_85[0][0]'] \n",
      "                                                                                                  \n",
      " mixed9_1 (Concatenate)         (None, 17, 12, 768)  0           ['activation_87[0][0]',          \n",
      "                                                                  'activation_88[0][0]']          \n",
      "                                                                                                  \n",
      " concatenate_1 (Concatenate)    (None, 17, 12, 768)  0           ['activation_91[0][0]',          \n",
      "                                                                  'activation_92[0][0]']          \n",
      "                                                                                                  \n",
      " activation_93 (Activation)     (None, 17, 12, 192)  0           ['batch_normalization_93[0][0]'] \n",
      "                                                                                                  \n",
      " mixed10 (Concatenate)          (None, 17, 12, 2048  0           ['activation_85[0][0]',          \n",
      "                                )                                 'mixed9_1[0][0]',               \n",
      "                                                                  'concatenate_1[0][0]',          \n",
      "                                                                  'activation_93[0][0]']          \n",
      "                                                                                                  \n",
      " dropout (Dropout)              (None, 17, 12, 2048  0           ['mixed10[0][0]']                \n",
      "                                )                                                                 \n",
      "                                                                                                  \n",
      " global_average_pooling2d (Glob  (None, 2048)        0           ['dropout[0][0]']                \n",
      " alAveragePooling2D)                                                                              \n",
      "                                                                                                  \n",
      " dense (Dense)                  (None, 128)          262272      ['global_average_pooling2d[0][0]'\n",
      "                                                                 ]                                \n",
      "                                                                                                  \n",
      " dropout_1 (Dropout)            (None, 128)          0           ['dense[0][0]']                  \n",
      "                                                                                                  \n",
      " flatten (Flatten)              (None, 128)          0           ['dropout_1[0][0]']              \n",
      "                                                                                                  \n",
      " dense_1 (Dense)                (None, 64)           8256        ['flatten[0][0]']                \n",
      "                                                                                                  \n",
      " dropout_2 (Dropout)            (None, 64)           0           ['dense_1[0][0]']                \n",
      "                                                                                                  \n",
      " dense_2 (Dense)                (None, 32)           2080        ['dropout_2[0][0]']              \n",
      "                                                                                                  \n",
      " dropout_3 (Dropout)            (None, 32)           0           ['dense_2[0][0]']                \n",
      "                                                                                                  \n",
      " dense_3 (Dense)                (None, 7)            231         ['dropout_3[0][0]']              \n",
      "                                                                                                  \n",
      " dropout_4 (Dropout)            (None, 7)            0           ['dense_3[0][0]']                \n",
      "                                                                                                  \n",
      " dense_4 (Dense)                (None, 7)            56          ['dropout_4[0][0]']              \n",
      "                                                                                                  \n",
      "==================================================================================================\n",
      "Total params: 22,075,679\n",
      "Trainable params: 16,885,215\n",
      "Non-trainable params: 5,190,464\n",
      "__________________________________________________________________________________________________\n"
     ]
    }
   ],
   "source": [
    "from tensorflow.keras.applications import InceptionV3\n",
    "from tensorflow.keras.regularizers import l2\n",
    "from tensorflow.keras.models import Model\n",
    "from tensorflow.keras.layers import Dense, Dropout, Flatten, GlobalAveragePooling2D\n",
    "import os\n",
    "\n",
    "# Load the VGG16 model without the top fully connected layers (include_top=False)\n",
    "base_model = InceptionV3(weights='imagenet', include_top=False, input_shape=(IMAGE_HEIGHT, IMAGE_WIDTH, IMAGE_CHANNELS))\n",
    "\n",
    "# Freeze the base_model layers to prevent them from being trained\n",
    "for layer in base_model.layers[-30:]:\n",
    "    layer.trainable = False\n",
    "    \n",
    "## Unfreeze the top layers for fine-tuning\n",
    "#for layer in base_model.layers[-30:]:\n",
    "#    layer.trainable = True\n",
    "\n",
    "# Add custom layers on top of the base model with L2 regularization\n",
    "x = base_model.output\n",
    "x = Dropout(0.3)(x)\n",
    "x = GlobalAveragePooling2D()(x)\n",
    "\n",
    "# Add Dense layers with L2 regularization\n",
    "x = Dense(128, activation='relu', kernel_regularizer=l2(0.01))(x)\n",
    "x = Dropout(0.3)(x)\n",
    "x = Flatten()(x)\n",
    "x = Dense(64, activation='relu', kernel_regularizer=l2(0.01))(x)\n",
    "x = Dropout(0.3)(x)\n",
    "#x = Flatten()(x)\n",
    "x = Dense(32, activation='relu', kernel_regularizer=l2(0.01))(x)\n",
    "x = Dropout(0.3)(x)\n",
    "#x = Flatten()(x)\n",
    "x = Dense(7, activation='softmax', kernel_regularizer=l2(0.01))(x)\n",
    "x = Dropout(0.3)(x)\n",
    "#x = Flatten()(x)\n",
    "\n",
    "# Final output layer\n",
    "predictions = Dense(NUM_CLASSES, activation='softmax')(x)\n",
    "\n",
    "# Define the final model\n",
    "model = Model(inputs=base_model.input, outputs=predictions)\n",
    "\n",
    "from tensorflow.keras.callbacks import ReduceLROnPlateau\n",
    "\n",
    "reduce_lr = ReduceLROnPlateau(monitor='val_loss', factor=0.5, patience=5, min_lr=1e-6)\n",
    "\n",
    "# Compile the model\n",
    "model.compile(optimizer=Adam(learning_rate=1e-4), loss='categorical_crossentropy', metrics=['acc'])\n",
    "\n",
    "# Summary of the model\n",
    "model.summary()"
   ]
  },
  {
   "cell_type": "code",
   "execution_count": 6,
   "metadata": {},
   "outputs": [],
   "source": [
    "# Metrics callback for precision\n",
    "class MetricsCallback(Callback):\n",
    "    def __init__(self, val_generator):\n",
    "        super(MetricsCallback, self).__init__()\n",
    "        self.val_generator = val_generator\n",
    "\n",
    "    def on_epoch_end(self, epoch, logs=None):\n",
    "        y_true = self.val_generator.classes\n",
    "        y_pred = self.model.predict(self.val_generator)\n",
    "        y_pred_classes = np.argmax(y_pred, axis=1)\n",
    "\n",
    "        # Calculate precision only\n",
    "        precision, _, _, _ = precision_recall_fscore_support(y_true, y_pred_classes, average='weighted')\n",
    "\n",
    "        val_loss = logs['val_loss']\n",
    "        val_accuracy = logs.get('val_accuracy', logs.get('val_acc'))  # Handle different versions\n",
    "\n",
    "        print(f'Epoch {epoch + 1} - '\n",
    "              f'Validation Loss: {val_loss:.4f}, '\n",
    "              f'Validation Accuracy: {val_accuracy:.4f}, '\n",
    "              f'Validation Precision: {precision:.4f}')\n",
    "\n",
    "# Early stopping\n",
    "early_stopping = EarlyStopping(monitor='val_loss', patience=30, restore_best_weights=True)\n",
    "\n",
    "# Metrics callback\n",
    "metrics_callback = MetricsCallback(val_generator)"
   ]
  },
  {
   "cell_type": "code",
   "execution_count": 7,
   "metadata": {},
   "outputs": [
    {
     "name": "stdout",
     "output_type": "stream",
     "text": [
      "Epoch 1/1000\n",
      "63/63 [==============================] - 15s 220ms/step\n",
      "Epoch 1 - Validation Loss: 4.5069, Validation Accuracy: 0.4913, Validation Precision: 0.4422\n",
      "\n",
      "Epoch 1: val_loss improved from inf to 4.50686, saving model to inceptionv3.2.h5\n"
     ]
    },
    {
     "name": "stderr",
     "output_type": "stream",
     "text": [
      "c:\\Users\\guitar123\\anaconda3\\envs\\SeniorProject\\lib\\site-packages\\sklearn\\metrics\\_classification.py:1531: UndefinedMetricWarning: Precision is ill-defined and being set to 0.0 in labels with no predicted samples. Use `zero_division` parameter to control this behavior.\n",
      "  _warn_prf(average, modifier, f\"{metric.capitalize()} is\", len(result))\n"
     ]
    },
    {
     "name": "stdout",
     "output_type": "stream",
     "text": [
      "110/110 - 150s - loss: 5.1461 - acc: 0.1866 - val_loss: 4.5069 - val_acc: 0.4913 - lr: 1.0000e-04 - 150s/epoch - 1s/step\n",
      "Epoch 2/1000\n",
      "63/63 [==============================] - 15s 234ms/step\n",
      "Epoch 2 - Validation Loss: 3.9436, Validation Accuracy: 0.3212, Validation Precision: 0.4490\n",
      "\n",
      "Epoch 2: val_loss improved from 4.50686 to 3.94363, saving model to inceptionv3.2.h5\n"
     ]
    },
    {
     "name": "stderr",
     "output_type": "stream",
     "text": [
      "c:\\Users\\guitar123\\anaconda3\\envs\\SeniorProject\\lib\\site-packages\\sklearn\\metrics\\_classification.py:1531: UndefinedMetricWarning: Precision is ill-defined and being set to 0.0 in labels with no predicted samples. Use `zero_division` parameter to control this behavior.\n",
      "  _warn_prf(average, modifier, f\"{metric.capitalize()} is\", len(result))\n"
     ]
    },
    {
     "name": "stdout",
     "output_type": "stream",
     "text": [
      "110/110 - 142s - loss: 4.2262 - acc: 0.2220 - val_loss: 3.9436 - val_acc: 0.3212 - lr: 1.0000e-04 - 142s/epoch - 1s/step\n",
      "Epoch 3/1000\n",
      "63/63 [==============================] - 15s 237ms/step\n",
      "Epoch 3 - Validation Loss: 3.6135, Validation Accuracy: 0.1860, Validation Precision: 0.5181\n",
      "\n",
      "Epoch 3: val_loss improved from 3.94363 to 3.61354, saving model to inceptionv3.2.h5\n"
     ]
    },
    {
     "name": "stderr",
     "output_type": "stream",
     "text": [
      "c:\\Users\\guitar123\\anaconda3\\envs\\SeniorProject\\lib\\site-packages\\sklearn\\metrics\\_classification.py:1531: UndefinedMetricWarning: Precision is ill-defined and being set to 0.0 in labels with no predicted samples. Use `zero_division` parameter to control this behavior.\n",
      "  _warn_prf(average, modifier, f\"{metric.capitalize()} is\", len(result))\n"
     ]
    },
    {
     "name": "stdout",
     "output_type": "stream",
     "text": [
      "110/110 - 159s - loss: 3.5851 - acc: 0.2883 - val_loss: 3.6135 - val_acc: 0.1860 - lr: 1.0000e-04 - 159s/epoch - 1s/step\n",
      "Epoch 4/1000\n",
      "63/63 [==============================] - 15s 243ms/step\n",
      "Epoch 4 - Validation Loss: 2.9722, Validation Accuracy: 0.5172, Validation Precision: 0.4597\n",
      "\n",
      "Epoch 4: val_loss improved from 3.61354 to 2.97224, saving model to inceptionv3.2.h5\n"
     ]
    },
    {
     "name": "stderr",
     "output_type": "stream",
     "text": [
      "c:\\Users\\guitar123\\anaconda3\\envs\\SeniorProject\\lib\\site-packages\\sklearn\\metrics\\_classification.py:1531: UndefinedMetricWarning: Precision is ill-defined and being set to 0.0 in labels with no predicted samples. Use `zero_division` parameter to control this behavior.\n",
      "  _warn_prf(average, modifier, f\"{metric.capitalize()} is\", len(result))\n"
     ]
    },
    {
     "name": "stdout",
     "output_type": "stream",
     "text": [
      "110/110 - 158s - loss: 3.1424 - acc: 0.3249 - val_loss: 2.9722 - val_acc: 0.5172 - lr: 1.0000e-04 - 158s/epoch - 1s/step\n",
      "Epoch 5/1000\n",
      "63/63 [==============================] - 15s 231ms/step\n",
      "Epoch 5 - Validation Loss: 2.7478, Validation Accuracy: 0.4728, Validation Precision: 0.4572\n",
      "\n",
      "Epoch 5: val_loss improved from 2.97224 to 2.74783, saving model to inceptionv3.2.h5\n"
     ]
    },
    {
     "name": "stderr",
     "output_type": "stream",
     "text": [
      "c:\\Users\\guitar123\\anaconda3\\envs\\SeniorProject\\lib\\site-packages\\sklearn\\metrics\\_classification.py:1531: UndefinedMetricWarning: Precision is ill-defined and being set to 0.0 in labels with no predicted samples. Use `zero_division` parameter to control this behavior.\n",
      "  _warn_prf(average, modifier, f\"{metric.capitalize()} is\", len(result))\n"
     ]
    },
    {
     "name": "stdout",
     "output_type": "stream",
     "text": [
      "110/110 - 155s - loss: 2.8523 - acc: 0.3194 - val_loss: 2.7478 - val_acc: 0.4728 - lr: 1.0000e-04 - 155s/epoch - 1s/step\n",
      "Epoch 6/1000\n",
      "63/63 [==============================] - 15s 230ms/step\n",
      "Epoch 6 - Validation Loss: 2.5799, Validation Accuracy: 0.4683, Validation Precision: 0.4674\n",
      "\n",
      "Epoch 6: val_loss improved from 2.74783 to 2.57988, saving model to inceptionv3.2.h5\n"
     ]
    },
    {
     "name": "stderr",
     "output_type": "stream",
     "text": [
      "c:\\Users\\guitar123\\anaconda3\\envs\\SeniorProject\\lib\\site-packages\\sklearn\\metrics\\_classification.py:1531: UndefinedMetricWarning: Precision is ill-defined and being set to 0.0 in labels with no predicted samples. Use `zero_division` parameter to control this behavior.\n",
      "  _warn_prf(average, modifier, f\"{metric.capitalize()} is\", len(result))\n"
     ]
    },
    {
     "name": "stdout",
     "output_type": "stream",
     "text": [
      "110/110 - 156s - loss: 2.6443 - acc: 0.3360 - val_loss: 2.5799 - val_acc: 0.4683 - lr: 1.0000e-04 - 156s/epoch - 1s/step\n",
      "Epoch 7/1000\n",
      "63/63 [==============================] - 15s 230ms/step\n",
      "Epoch 7 - Validation Loss: 2.4333, Validation Accuracy: 0.5501, Validation Precision: 0.4732\n",
      "\n",
      "Epoch 7: val_loss improved from 2.57988 to 2.43325, saving model to inceptionv3.2.h5\n"
     ]
    },
    {
     "name": "stderr",
     "output_type": "stream",
     "text": [
      "c:\\Users\\guitar123\\anaconda3\\envs\\SeniorProject\\lib\\site-packages\\sklearn\\metrics\\_classification.py:1531: UndefinedMetricWarning: Precision is ill-defined and being set to 0.0 in labels with no predicted samples. Use `zero_division` parameter to control this behavior.\n",
      "  _warn_prf(average, modifier, f\"{metric.capitalize()} is\", len(result))\n"
     ]
    },
    {
     "name": "stdout",
     "output_type": "stream",
     "text": [
      "110/110 - 142s - loss: 2.4907 - acc: 0.3483 - val_loss: 2.4333 - val_acc: 0.5501 - lr: 1.0000e-04 - 142s/epoch - 1s/step\n",
      "Epoch 8/1000\n",
      "63/63 [==============================] - 15s 234ms/step\n",
      "Epoch 8 - Validation Loss: 2.3058, Validation Accuracy: 0.6314, Validation Precision: 0.4730\n",
      "\n",
      "Epoch 8: val_loss improved from 2.43325 to 2.30585, saving model to inceptionv3.2.h5\n"
     ]
    },
    {
     "name": "stderr",
     "output_type": "stream",
     "text": [
      "c:\\Users\\guitar123\\anaconda3\\envs\\SeniorProject\\lib\\site-packages\\sklearn\\metrics\\_classification.py:1531: UndefinedMetricWarning: Precision is ill-defined and being set to 0.0 in labels with no predicted samples. Use `zero_division` parameter to control this behavior.\n",
      "  _warn_prf(average, modifier, f\"{metric.capitalize()} is\", len(result))\n"
     ]
    },
    {
     "name": "stdout",
     "output_type": "stream",
     "text": [
      "110/110 - 151s - loss: 2.3784 - acc: 0.3403 - val_loss: 2.3058 - val_acc: 0.6314 - lr: 1.0000e-04 - 151s/epoch - 1s/step\n",
      "Epoch 9/1000\n",
      "63/63 [==============================] - 14s 226ms/step\n",
      "Epoch 9 - Validation Loss: 2.2236, Validation Accuracy: 0.6025, Validation Precision: 0.4799\n",
      "\n",
      "Epoch 9: val_loss improved from 2.30585 to 2.22356, saving model to inceptionv3.2.h5\n"
     ]
    },
    {
     "name": "stderr",
     "output_type": "stream",
     "text": [
      "c:\\Users\\guitar123\\anaconda3\\envs\\SeniorProject\\lib\\site-packages\\sklearn\\metrics\\_classification.py:1531: UndefinedMetricWarning: Precision is ill-defined and being set to 0.0 in labels with no predicted samples. Use `zero_division` parameter to control this behavior.\n",
      "  _warn_prf(average, modifier, f\"{metric.capitalize()} is\", len(result))\n"
     ]
    },
    {
     "name": "stdout",
     "output_type": "stream",
     "text": [
      "110/110 - 152s - loss: 2.2695 - acc: 0.3706 - val_loss: 2.2236 - val_acc: 0.6025 - lr: 1.0000e-04 - 152s/epoch - 1s/step\n",
      "Epoch 10/1000\n",
      "63/63 [==============================] - 16s 245ms/step\n",
      "Epoch 10 - Validation Loss: 2.2329, Validation Accuracy: 0.5372, Validation Precision: 0.4844\n",
      "\n",
      "Epoch 10: val_loss did not improve from 2.22356\n",
      "110/110 - 146s - loss: 2.2075 - acc: 0.3574 - val_loss: 2.2329 - val_acc: 0.5372 - lr: 1.0000e-04 - 146s/epoch - 1s/step\n",
      "Epoch 11/1000\n"
     ]
    },
    {
     "name": "stderr",
     "output_type": "stream",
     "text": [
      "c:\\Users\\guitar123\\anaconda3\\envs\\SeniorProject\\lib\\site-packages\\sklearn\\metrics\\_classification.py:1531: UndefinedMetricWarning: Precision is ill-defined and being set to 0.0 in labels with no predicted samples. Use `zero_division` parameter to control this behavior.\n",
      "  _warn_prf(average, modifier, f\"{metric.capitalize()} is\", len(result))\n"
     ]
    },
    {
     "name": "stdout",
     "output_type": "stream",
     "text": [
      "63/63 [==============================] - 15s 232ms/step\n",
      "Epoch 11 - Validation Loss: 2.1016, Validation Accuracy: 0.6628, Validation Precision: 0.4780\n",
      "\n",
      "Epoch 11: val_loss improved from 2.22356 to 2.10158, saving model to inceptionv3.2.h5\n"
     ]
    },
    {
     "name": "stderr",
     "output_type": "stream",
     "text": [
      "c:\\Users\\guitar123\\anaconda3\\envs\\SeniorProject\\lib\\site-packages\\sklearn\\metrics\\_classification.py:1531: UndefinedMetricWarning: Precision is ill-defined and being set to 0.0 in labels with no predicted samples. Use `zero_division` parameter to control this behavior.\n",
      "  _warn_prf(average, modifier, f\"{metric.capitalize()} is\", len(result))\n"
     ]
    },
    {
     "name": "stdout",
     "output_type": "stream",
     "text": [
      "110/110 - 153s - loss: 2.1340 - acc: 0.3851 - val_loss: 2.1016 - val_acc: 0.6628 - lr: 1.0000e-04 - 153s/epoch - 1s/step\n",
      "Epoch 12/1000\n",
      "63/63 [==============================] - 16s 259ms/step\n",
      "Epoch 12 - Validation Loss: 2.0804, Validation Accuracy: 0.6319, Validation Precision: 0.4636\n",
      "\n",
      "Epoch 12: val_loss improved from 2.10158 to 2.08038, saving model to inceptionv3.2.h5\n"
     ]
    },
    {
     "name": "stderr",
     "output_type": "stream",
     "text": [
      "c:\\Users\\guitar123\\anaconda3\\envs\\SeniorProject\\lib\\site-packages\\sklearn\\metrics\\_classification.py:1531: UndefinedMetricWarning: Precision is ill-defined and being set to 0.0 in labels with no predicted samples. Use `zero_division` parameter to control this behavior.\n",
      "  _warn_prf(average, modifier, f\"{metric.capitalize()} is\", len(result))\n"
     ]
    },
    {
     "name": "stdout",
     "output_type": "stream",
     "text": [
      "110/110 - 156s - loss: 2.0970 - acc: 0.3831 - val_loss: 2.0804 - val_acc: 0.6319 - lr: 1.0000e-04 - 156s/epoch - 1s/step\n",
      "Epoch 13/1000\n",
      "63/63 [==============================] - 15s 240ms/step\n",
      "Epoch 13 - Validation Loss: 2.0398, Validation Accuracy: 0.6010, Validation Precision: 0.4638\n",
      "\n",
      "Epoch 13: val_loss improved from 2.08038 to 2.03977, saving model to inceptionv3.2.h5\n"
     ]
    },
    {
     "name": "stderr",
     "output_type": "stream",
     "text": [
      "c:\\Users\\guitar123\\anaconda3\\envs\\SeniorProject\\lib\\site-packages\\sklearn\\metrics\\_classification.py:1531: UndefinedMetricWarning: Precision is ill-defined and being set to 0.0 in labels with no predicted samples. Use `zero_division` parameter to control this behavior.\n",
      "  _warn_prf(average, modifier, f\"{metric.capitalize()} is\", len(result))\n"
     ]
    },
    {
     "name": "stdout",
     "output_type": "stream",
     "text": [
      "110/110 - 157s - loss: 2.0371 - acc: 0.3983 - val_loss: 2.0398 - val_acc: 0.6010 - lr: 1.0000e-04 - 157s/epoch - 1s/step\n",
      "Epoch 14/1000\n",
      "63/63 [==============================] - 15s 230ms/step\n",
      "Epoch 14 - Validation Loss: 2.0932, Validation Accuracy: 0.4888, Validation Precision: 0.4775\n",
      "\n",
      "Epoch 14: val_loss did not improve from 2.03977\n",
      "110/110 - 150s - loss: 1.9932 - acc: 0.3966 - val_loss: 2.0932 - val_acc: 0.4888 - lr: 1.0000e-04 - 150s/epoch - 1s/step\n",
      "Epoch 15/1000\n"
     ]
    },
    {
     "name": "stderr",
     "output_type": "stream",
     "text": [
      "c:\\Users\\guitar123\\anaconda3\\envs\\SeniorProject\\lib\\site-packages\\sklearn\\metrics\\_classification.py:1531: UndefinedMetricWarning: Precision is ill-defined and being set to 0.0 in labels with no predicted samples. Use `zero_division` parameter to control this behavior.\n",
      "  _warn_prf(average, modifier, f\"{metric.capitalize()} is\", len(result))\n"
     ]
    },
    {
     "name": "stdout",
     "output_type": "stream",
     "text": [
      "63/63 [==============================] - 15s 233ms/step\n",
      "Epoch 15 - Validation Loss: 2.0842, Validation Accuracy: 0.4888, Validation Precision: 0.4668\n",
      "\n",
      "Epoch 15: val_loss did not improve from 2.03977\n",
      "110/110 - 152s - loss: 1.9515 - acc: 0.4009 - val_loss: 2.0842 - val_acc: 0.4888 - lr: 1.0000e-04 - 152s/epoch - 1s/step\n",
      "Epoch 16/1000\n",
      "63/63 [==============================] - 14s 229ms/step\n",
      "Epoch 16 - Validation Loss: 1.9483, Validation Accuracy: 0.6075, Validation Precision: 0.4850\n",
      "\n",
      "Epoch 16: val_loss improved from 2.03977 to 1.94831, saving model to inceptionv3.2.h5\n",
      "110/110 - 153s - loss: 1.9176 - acc: 0.4189 - val_loss: 1.9483 - val_acc: 0.6075 - lr: 1.0000e-04 - 153s/epoch - 1s/step\n",
      "Epoch 17/1000\n",
      "63/63 [==============================] - 15s 231ms/step\n",
      "Epoch 17 - Validation Loss: 1.8967, Validation Accuracy: 0.6559, Validation Precision: 0.4687\n",
      "\n",
      "Epoch 17: val_loss improved from 1.94831 to 1.89672, saving model to inceptionv3.2.h5\n",
      "110/110 - 149s - loss: 1.8891 - acc: 0.4037 - val_loss: 1.8967 - val_acc: 0.6559 - lr: 1.0000e-04 - 149s/epoch - 1s/step\n",
      "Epoch 18/1000\n",
      "63/63 [==============================] - 15s 230ms/step\n",
      "Epoch 18 - Validation Loss: 1.9519, Validation Accuracy: 0.5726, Validation Precision: 0.4704\n",
      "\n",
      "Epoch 18: val_loss did not improve from 1.89672\n",
      "110/110 - 152s - loss: 1.8657 - acc: 0.4120 - val_loss: 1.9519 - val_acc: 0.5726 - lr: 1.0000e-04 - 152s/epoch - 1s/step\n",
      "Epoch 19/1000\n",
      "63/63 [==============================] - 15s 231ms/step\n",
      "Epoch 19 - Validation Loss: 1.9187, Validation Accuracy: 0.5701, Validation Precision: 0.4769\n",
      "\n",
      "Epoch 19: val_loss did not improve from 1.89672\n",
      "110/110 - 148s - loss: 1.8291 - acc: 0.4306 - val_loss: 1.9187 - val_acc: 0.5701 - lr: 1.0000e-04 - 148s/epoch - 1s/step\n",
      "Epoch 20/1000\n",
      "63/63 [==============================] - 15s 233ms/step\n",
      "Epoch 20 - Validation Loss: 1.8499, Validation Accuracy: 0.6130, Validation Precision: 0.4817\n",
      "\n",
      "Epoch 20: val_loss improved from 1.89672 to 1.84993, saving model to inceptionv3.2.h5\n",
      "110/110 - 157s - loss: 1.8119 - acc: 0.4429 - val_loss: 1.8499 - val_acc: 0.6130 - lr: 1.0000e-04 - 157s/epoch - 1s/step\n",
      "Epoch 21/1000\n",
      "63/63 [==============================] - 14s 230ms/step\n",
      "Epoch 21 - Validation Loss: 1.7613, Validation Accuracy: 0.7077, Validation Precision: 0.4845\n",
      "\n",
      "Epoch 21: val_loss improved from 1.84993 to 1.76130, saving model to inceptionv3.2.h5\n",
      "110/110 - 151s - loss: 1.7777 - acc: 0.4554 - val_loss: 1.7613 - val_acc: 0.7077 - lr: 1.0000e-04 - 151s/epoch - 1s/step\n",
      "Epoch 22/1000\n",
      "63/63 [==============================] - 15s 232ms/step\n",
      "Epoch 22 - Validation Loss: 1.8825, Validation Accuracy: 0.5671, Validation Precision: 0.4813\n",
      "\n",
      "Epoch 22: val_loss did not improve from 1.76130\n",
      "110/110 - 151s - loss: 1.7622 - acc: 0.4606 - val_loss: 1.8825 - val_acc: 0.5671 - lr: 1.0000e-04 - 151s/epoch - 1s/step\n",
      "Epoch 23/1000\n"
     ]
    },
    {
     "name": "stderr",
     "output_type": "stream",
     "text": [
      "c:\\Users\\guitar123\\anaconda3\\envs\\SeniorProject\\lib\\site-packages\\sklearn\\metrics\\_classification.py:1531: UndefinedMetricWarning: Precision is ill-defined and being set to 0.0 in labels with no predicted samples. Use `zero_division` parameter to control this behavior.\n",
      "  _warn_prf(average, modifier, f\"{metric.capitalize()} is\", len(result))\n"
     ]
    },
    {
     "name": "stdout",
     "output_type": "stream",
     "text": [
      "63/63 [==============================] - 15s 231ms/step\n",
      "Epoch 23 - Validation Loss: 1.7840, Validation Accuracy: 0.6374, Validation Precision: 0.4713\n",
      "\n",
      "Epoch 23: val_loss did not improve from 1.76130\n",
      "110/110 - 152s - loss: 1.7557 - acc: 0.4366 - val_loss: 1.7840 - val_acc: 0.6374 - lr: 1.0000e-04 - 152s/epoch - 1s/step\n",
      "Epoch 24/1000\n",
      "63/63 [==============================] - 15s 233ms/step\n",
      "Epoch 24 - Validation Loss: 1.7550, Validation Accuracy: 0.6524, Validation Precision: 0.4693\n",
      "\n",
      "Epoch 24: val_loss improved from 1.76130 to 1.75496, saving model to inceptionv3.2.h5\n",
      "110/110 - 151s - loss: 1.7186 - acc: 0.4597 - val_loss: 1.7550 - val_acc: 0.6524 - lr: 1.0000e-04 - 151s/epoch - 1s/step\n",
      "Epoch 25/1000\n",
      "63/63 [==============================] - 15s 233ms/step\n",
      "Epoch 25 - Validation Loss: 1.7257, Validation Accuracy: 0.6623, Validation Precision: 0.4828\n",
      "\n",
      "Epoch 25: val_loss improved from 1.75496 to 1.72568, saving model to inceptionv3.2.h5\n",
      "110/110 - 153s - loss: 1.6967 - acc: 0.4646 - val_loss: 1.7257 - val_acc: 0.6623 - lr: 1.0000e-04 - 153s/epoch - 1s/step\n",
      "Epoch 26/1000\n",
      "63/63 [==============================] - 14s 228ms/step\n",
      "Epoch 26 - Validation Loss: 1.7397, Validation Accuracy: 0.6394, Validation Precision: 0.4753\n",
      "\n",
      "Epoch 26: val_loss did not improve from 1.72568\n",
      "110/110 - 140s - loss: 1.7064 - acc: 0.4417 - val_loss: 1.7397 - val_acc: 0.6394 - lr: 1.0000e-04 - 140s/epoch - 1s/step\n",
      "Epoch 27/1000\n",
      "63/63 [==============================] - 15s 233ms/step\n",
      "Epoch 27 - Validation Loss: 1.6982, Validation Accuracy: 0.6853, Validation Precision: 0.4713\n",
      "\n",
      "Epoch 27: val_loss improved from 1.72568 to 1.69818, saving model to inceptionv3.2.h5\n",
      "110/110 - 159s - loss: 1.6704 - acc: 0.4794 - val_loss: 1.6982 - val_acc: 0.6853 - lr: 1.0000e-04 - 159s/epoch - 1s/step\n",
      "Epoch 28/1000\n",
      "63/63 [==============================] - 15s 233ms/step\n",
      "Epoch 28 - Validation Loss: 1.8455, Validation Accuracy: 0.4963, Validation Precision: 0.4641\n",
      "\n",
      "Epoch 28: val_loss did not improve from 1.69818\n",
      "110/110 - 152s - loss: 1.6828 - acc: 0.4394 - val_loss: 1.8455 - val_acc: 0.4963 - lr: 1.0000e-04 - 152s/epoch - 1s/step\n",
      "Epoch 29/1000\n"
     ]
    },
    {
     "name": "stderr",
     "output_type": "stream",
     "text": [
      "c:\\Users\\guitar123\\anaconda3\\envs\\SeniorProject\\lib\\site-packages\\sklearn\\metrics\\_classification.py:1531: UndefinedMetricWarning: Precision is ill-defined and being set to 0.0 in labels with no predicted samples. Use `zero_division` parameter to control this behavior.\n",
      "  _warn_prf(average, modifier, f\"{metric.capitalize()} is\", len(result))\n"
     ]
    },
    {
     "name": "stdout",
     "output_type": "stream",
     "text": [
      "63/63 [==============================] - 15s 233ms/step\n",
      "Epoch 29 - Validation Loss: 1.6947, Validation Accuracy: 0.6469, Validation Precision: 0.4696\n",
      "\n",
      "Epoch 29: val_loss improved from 1.69818 to 1.69475, saving model to inceptionv3.2.h5\n"
     ]
    },
    {
     "name": "stderr",
     "output_type": "stream",
     "text": [
      "c:\\Users\\guitar123\\anaconda3\\envs\\SeniorProject\\lib\\site-packages\\sklearn\\metrics\\_classification.py:1531: UndefinedMetricWarning: Precision is ill-defined and being set to 0.0 in labels with no predicted samples. Use `zero_division` parameter to control this behavior.\n",
      "  _warn_prf(average, modifier, f\"{metric.capitalize()} is\", len(result))\n"
     ]
    },
    {
     "name": "stdout",
     "output_type": "stream",
     "text": [
      "110/110 - 161s - loss: 1.6411 - acc: 0.4720 - val_loss: 1.6947 - val_acc: 0.6469 - lr: 1.0000e-04 - 161s/epoch - 1s/step\n",
      "Epoch 30/1000\n",
      "63/63 [==============================] - 15s 231ms/step\n",
      "Epoch 30 - Validation Loss: 1.7087, Validation Accuracy: 0.6165, Validation Precision: 0.4816\n",
      "\n",
      "Epoch 30: val_loss did not improve from 1.69475\n",
      "110/110 - 153s - loss: 1.6278 - acc: 0.4654 - val_loss: 1.7087 - val_acc: 0.6165 - lr: 1.0000e-04 - 153s/epoch - 1s/step\n",
      "Epoch 31/1000\n"
     ]
    },
    {
     "name": "stderr",
     "output_type": "stream",
     "text": [
      "c:\\Users\\guitar123\\anaconda3\\envs\\SeniorProject\\lib\\site-packages\\sklearn\\metrics\\_classification.py:1531: UndefinedMetricWarning: Precision is ill-defined and being set to 0.0 in labels with no predicted samples. Use `zero_division` parameter to control this behavior.\n",
      "  _warn_prf(average, modifier, f\"{metric.capitalize()} is\", len(result))\n"
     ]
    },
    {
     "name": "stdout",
     "output_type": "stream",
     "text": [
      "63/63 [==============================] - 15s 233ms/step\n",
      "Epoch 31 - Validation Loss: 1.6743, Validation Accuracy: 0.6329, Validation Precision: 0.4641\n",
      "\n",
      "Epoch 31: val_loss improved from 1.69475 to 1.67431, saving model to inceptionv3.2.h5\n"
     ]
    },
    {
     "name": "stderr",
     "output_type": "stream",
     "text": [
      "c:\\Users\\guitar123\\anaconda3\\envs\\SeniorProject\\lib\\site-packages\\sklearn\\metrics\\_classification.py:1531: UndefinedMetricWarning: Precision is ill-defined and being set to 0.0 in labels with no predicted samples. Use `zero_division` parameter to control this behavior.\n",
      "  _warn_prf(average, modifier, f\"{metric.capitalize()} is\", len(result))\n"
     ]
    },
    {
     "name": "stdout",
     "output_type": "stream",
     "text": [
      "110/110 - 149s - loss: 1.6034 - acc: 0.4771 - val_loss: 1.6743 - val_acc: 0.6329 - lr: 1.0000e-04 - 149s/epoch - 1s/step\n",
      "Epoch 32/1000\n",
      "63/63 [==============================] - 14s 225ms/step\n",
      "Epoch 32 - Validation Loss: 1.6875, Validation Accuracy: 0.6219, Validation Precision: 0.4531\n",
      "\n",
      "Epoch 32: val_loss did not improve from 1.67431\n",
      "110/110 - 152s - loss: 1.5841 - acc: 0.4729 - val_loss: 1.6875 - val_acc: 0.6219 - lr: 1.0000e-04 - 152s/epoch - 1s/step\n",
      "Epoch 33/1000\n",
      "63/63 [==============================] - 16s 256ms/step\n",
      "Epoch 33 - Validation Loss: 1.6817, Validation Accuracy: 0.6075, Validation Precision: 0.4667\n",
      "\n",
      "Epoch 33: val_loss did not improve from 1.67431\n",
      "110/110 - 145s - loss: 1.5784 - acc: 0.4826 - val_loss: 1.6817 - val_acc: 0.6075 - lr: 1.0000e-04 - 145s/epoch - 1s/step\n",
      "Epoch 34/1000\n"
     ]
    },
    {
     "name": "stderr",
     "output_type": "stream",
     "text": [
      "c:\\Users\\guitar123\\anaconda3\\envs\\SeniorProject\\lib\\site-packages\\sklearn\\metrics\\_classification.py:1531: UndefinedMetricWarning: Precision is ill-defined and being set to 0.0 in labels with no predicted samples. Use `zero_division` parameter to control this behavior.\n",
      "  _warn_prf(average, modifier, f\"{metric.capitalize()} is\", len(result))\n"
     ]
    },
    {
     "name": "stdout",
     "output_type": "stream",
     "text": [
      "63/63 [==============================] - 16s 246ms/step\n",
      "Epoch 34 - Validation Loss: 1.6334, Validation Accuracy: 0.6454, Validation Precision: 0.4684\n",
      "\n",
      "Epoch 34: val_loss improved from 1.67431 to 1.63338, saving model to inceptionv3.2.h5\n"
     ]
    },
    {
     "name": "stderr",
     "output_type": "stream",
     "text": [
      "c:\\Users\\guitar123\\anaconda3\\envs\\SeniorProject\\lib\\site-packages\\sklearn\\metrics\\_classification.py:1531: UndefinedMetricWarning: Precision is ill-defined and being set to 0.0 in labels with no predicted samples. Use `zero_division` parameter to control this behavior.\n",
      "  _warn_prf(average, modifier, f\"{metric.capitalize()} is\", len(result))\n"
     ]
    },
    {
     "name": "stdout",
     "output_type": "stream",
     "text": [
      "110/110 - 159s - loss: 1.5473 - acc: 0.4911 - val_loss: 1.6334 - val_acc: 0.6454 - lr: 1.0000e-04 - 159s/epoch - 1s/step\n",
      "Epoch 35/1000\n",
      "63/63 [==============================] - 15s 232ms/step\n",
      "Epoch 35 - Validation Loss: 1.6874, Validation Accuracy: 0.6035, Validation Precision: 0.4782\n",
      "\n",
      "Epoch 35: val_loss did not improve from 1.63338\n",
      "110/110 - 153s - loss: 1.5494 - acc: 0.4771 - val_loss: 1.6874 - val_acc: 0.6035 - lr: 1.0000e-04 - 153s/epoch - 1s/step\n",
      "Epoch 36/1000\n"
     ]
    },
    {
     "name": "stderr",
     "output_type": "stream",
     "text": [
      "c:\\Users\\guitar123\\anaconda3\\envs\\SeniorProject\\lib\\site-packages\\sklearn\\metrics\\_classification.py:1531: UndefinedMetricWarning: Precision is ill-defined and being set to 0.0 in labels with no predicted samples. Use `zero_division` parameter to control this behavior.\n",
      "  _warn_prf(average, modifier, f\"{metric.capitalize()} is\", len(result))\n"
     ]
    },
    {
     "name": "stdout",
     "output_type": "stream",
     "text": [
      "63/63 [==============================] - 15s 237ms/step\n",
      "Epoch 36 - Validation Loss: 1.6802, Validation Accuracy: 0.5845, Validation Precision: 0.4706\n",
      "\n",
      "Epoch 36: val_loss did not improve from 1.63338\n",
      "110/110 - 147s - loss: 1.5492 - acc: 0.4711 - val_loss: 1.6802 - val_acc: 0.5845 - lr: 1.0000e-04 - 147s/epoch - 1s/step\n",
      "Epoch 37/1000\n"
     ]
    },
    {
     "name": "stderr",
     "output_type": "stream",
     "text": [
      "c:\\Users\\guitar123\\anaconda3\\envs\\SeniorProject\\lib\\site-packages\\sklearn\\metrics\\_classification.py:1531: UndefinedMetricWarning: Precision is ill-defined and being set to 0.0 in labels with no predicted samples. Use `zero_division` parameter to control this behavior.\n",
      "  _warn_prf(average, modifier, f\"{metric.capitalize()} is\", len(result))\n"
     ]
    },
    {
     "name": "stdout",
     "output_type": "stream",
     "text": [
      "63/63 [==============================] - 15s 234ms/step\n",
      "Epoch 37 - Validation Loss: 1.6446, Validation Accuracy: 0.6254, Validation Precision: 0.4705\n",
      "\n",
      "Epoch 37: val_loss did not improve from 1.63338\n",
      "110/110 - 155s - loss: 1.5510 - acc: 0.4720 - val_loss: 1.6446 - val_acc: 0.6254 - lr: 1.0000e-04 - 155s/epoch - 1s/step\n",
      "Epoch 38/1000\n",
      "63/63 [==============================] - 15s 233ms/step\n",
      "Epoch 38 - Validation Loss: 1.6230, Validation Accuracy: 0.6424, Validation Precision: 0.4791\n",
      "\n",
      "Epoch 38: val_loss improved from 1.63338 to 1.62299, saving model to inceptionv3.2.h5\n"
     ]
    },
    {
     "name": "stderr",
     "output_type": "stream",
     "text": [
      "c:\\Users\\guitar123\\anaconda3\\envs\\SeniorProject\\lib\\site-packages\\sklearn\\metrics\\_classification.py:1531: UndefinedMetricWarning: Precision is ill-defined and being set to 0.0 in labels with no predicted samples. Use `zero_division` parameter to control this behavior.\n",
      "  _warn_prf(average, modifier, f\"{metric.capitalize()} is\", len(result))\n"
     ]
    },
    {
     "name": "stdout",
     "output_type": "stream",
     "text": [
      "110/110 - 146s - loss: 1.5285 - acc: 0.4734 - val_loss: 1.6230 - val_acc: 0.6424 - lr: 1.0000e-04 - 146s/epoch - 1s/step\n",
      "Epoch 39/1000\n",
      "63/63 [==============================] - 15s 235ms/step\n",
      "Epoch 39 - Validation Loss: 1.6072, Validation Accuracy: 0.6484, Validation Precision: 0.4668\n",
      "\n",
      "Epoch 39: val_loss improved from 1.62299 to 1.60717, saving model to inceptionv3.2.h5\n"
     ]
    },
    {
     "name": "stderr",
     "output_type": "stream",
     "text": [
      "c:\\Users\\guitar123\\anaconda3\\envs\\SeniorProject\\lib\\site-packages\\sklearn\\metrics\\_classification.py:1531: UndefinedMetricWarning: Precision is ill-defined and being set to 0.0 in labels with no predicted samples. Use `zero_division` parameter to control this behavior.\n",
      "  _warn_prf(average, modifier, f\"{metric.capitalize()} is\", len(result))\n"
     ]
    },
    {
     "name": "stdout",
     "output_type": "stream",
     "text": [
      "110/110 - 153s - loss: 1.5050 - acc: 0.4969 - val_loss: 1.6072 - val_acc: 0.6484 - lr: 1.0000e-04 - 153s/epoch - 1s/step\n",
      "Epoch 40/1000\n",
      "63/63 [==============================] - 15s 232ms/step\n",
      "Epoch 40 - Validation Loss: 1.7442, Validation Accuracy: 0.4988, Validation Precision: 0.4802\n",
      "\n",
      "Epoch 40: val_loss did not improve from 1.60717\n",
      "110/110 - 149s - loss: 1.5076 - acc: 0.4854 - val_loss: 1.7442 - val_acc: 0.4988 - lr: 1.0000e-04 - 149s/epoch - 1s/step\n",
      "Epoch 41/1000\n"
     ]
    },
    {
     "name": "stderr",
     "output_type": "stream",
     "text": [
      "c:\\Users\\guitar123\\anaconda3\\envs\\SeniorProject\\lib\\site-packages\\sklearn\\metrics\\_classification.py:1531: UndefinedMetricWarning: Precision is ill-defined and being set to 0.0 in labels with no predicted samples. Use `zero_division` parameter to control this behavior.\n",
      "  _warn_prf(average, modifier, f\"{metric.capitalize()} is\", len(result))\n"
     ]
    },
    {
     "name": "stdout",
     "output_type": "stream",
     "text": [
      "63/63 [==============================] - 15s 238ms/step\n",
      "Epoch 41 - Validation Loss: 1.5780, Validation Accuracy: 0.6623, Validation Precision: 0.4989\n",
      "\n",
      "Epoch 41: val_loss improved from 1.60717 to 1.57801, saving model to inceptionv3.2.h5\n",
      "110/110 - 150s - loss: 1.4964 - acc: 0.4837 - val_loss: 1.5780 - val_acc: 0.6623 - lr: 1.0000e-04 - 150s/epoch - 1s/step\n",
      "Epoch 42/1000\n",
      "63/63 [==============================] - 15s 234ms/step\n",
      "Epoch 42 - Validation Loss: 1.6390, Validation Accuracy: 0.5955, Validation Precision: 0.4856\n",
      "\n",
      "Epoch 42: val_loss did not improve from 1.57801\n",
      "110/110 - 154s - loss: 1.4598 - acc: 0.5103 - val_loss: 1.6390 - val_acc: 0.5955 - lr: 1.0000e-04 - 154s/epoch - 1s/step\n",
      "Epoch 43/1000\n",
      "63/63 [==============================] - 15s 235ms/step\n",
      "Epoch 43 - Validation Loss: 1.5278, Validation Accuracy: 0.6963, Validation Precision: 0.4691\n",
      "\n",
      "Epoch 43: val_loss improved from 1.57801 to 1.52775, saving model to inceptionv3.2.h5\n",
      "110/110 - 147s - loss: 1.4646 - acc: 0.4974 - val_loss: 1.5278 - val_acc: 0.6963 - lr: 1.0000e-04 - 147s/epoch - 1s/step\n",
      "Epoch 44/1000\n",
      "63/63 [==============================] - 14s 222ms/step\n",
      "Epoch 44 - Validation Loss: 1.5465, Validation Accuracy: 0.6728, Validation Precision: 0.4527\n",
      "\n",
      "Epoch 44: val_loss did not improve from 1.52775\n",
      "110/110 - 154s - loss: 1.4614 - acc: 0.4974 - val_loss: 1.5465 - val_acc: 0.6728 - lr: 1.0000e-04 - 154s/epoch - 1s/step\n",
      "Epoch 45/1000\n",
      "63/63 [==============================] - 14s 222ms/step\n",
      "Epoch 45 - Validation Loss: 1.6872, Validation Accuracy: 0.5387, Validation Precision: 0.4726\n",
      "\n",
      "Epoch 45: val_loss did not improve from 1.52775\n",
      "110/110 - 144s - loss: 1.4252 - acc: 0.5143 - val_loss: 1.6872 - val_acc: 0.5387 - lr: 1.0000e-04 - 144s/epoch - 1s/step\n",
      "Epoch 46/1000\n"
     ]
    },
    {
     "name": "stderr",
     "output_type": "stream",
     "text": [
      "c:\\Users\\guitar123\\anaconda3\\envs\\SeniorProject\\lib\\site-packages\\sklearn\\metrics\\_classification.py:1531: UndefinedMetricWarning: Precision is ill-defined and being set to 0.0 in labels with no predicted samples. Use `zero_division` parameter to control this behavior.\n",
      "  _warn_prf(average, modifier, f\"{metric.capitalize()} is\", len(result))\n"
     ]
    },
    {
     "name": "stdout",
     "output_type": "stream",
     "text": [
      "63/63 [==============================] - 14s 227ms/step\n",
      "Epoch 46 - Validation Loss: 1.5241, Validation Accuracy: 0.6828, Validation Precision: 0.4633\n",
      "\n",
      "Epoch 46: val_loss improved from 1.52775 to 1.52413, saving model to inceptionv3.2.h5\n"
     ]
    },
    {
     "name": "stderr",
     "output_type": "stream",
     "text": [
      "c:\\Users\\guitar123\\anaconda3\\envs\\SeniorProject\\lib\\site-packages\\sklearn\\metrics\\_classification.py:1531: UndefinedMetricWarning: Precision is ill-defined and being set to 0.0 in labels with no predicted samples. Use `zero_division` parameter to control this behavior.\n",
      "  _warn_prf(average, modifier, f\"{metric.capitalize()} is\", len(result))\n"
     ]
    },
    {
     "name": "stdout",
     "output_type": "stream",
     "text": [
      "110/110 - 148s - loss: 1.4366 - acc: 0.5029 - val_loss: 1.5241 - val_acc: 0.6828 - lr: 1.0000e-04 - 148s/epoch - 1s/step\n",
      "Epoch 47/1000\n",
      "63/63 [==============================] - 14s 224ms/step\n",
      "Epoch 47 - Validation Loss: 1.5502, Validation Accuracy: 0.6608, Validation Precision: 0.4763\n",
      "\n",
      "Epoch 47: val_loss did not improve from 1.52413\n",
      "110/110 - 146s - loss: 1.4204 - acc: 0.5031 - val_loss: 1.5502 - val_acc: 0.6608 - lr: 1.0000e-04 - 146s/epoch - 1s/step\n",
      "Epoch 48/1000\n"
     ]
    },
    {
     "name": "stderr",
     "output_type": "stream",
     "text": [
      "c:\\Users\\guitar123\\anaconda3\\envs\\SeniorProject\\lib\\site-packages\\sklearn\\metrics\\_classification.py:1531: UndefinedMetricWarning: Precision is ill-defined and being set to 0.0 in labels with no predicted samples. Use `zero_division` parameter to control this behavior.\n",
      "  _warn_prf(average, modifier, f\"{metric.capitalize()} is\", len(result))\n"
     ]
    },
    {
     "name": "stdout",
     "output_type": "stream",
     "text": [
      "63/63 [==============================] - 14s 224ms/step\n",
      "Epoch 48 - Validation Loss: 1.5944, Validation Accuracy: 0.6085, Validation Precision: 0.4749\n",
      "\n",
      "Epoch 48: val_loss did not improve from 1.52413\n",
      "110/110 - 141s - loss: 1.4134 - acc: 0.5046 - val_loss: 1.5944 - val_acc: 0.6085 - lr: 1.0000e-04 - 141s/epoch - 1s/step\n",
      "Epoch 49/1000\n"
     ]
    },
    {
     "name": "stderr",
     "output_type": "stream",
     "text": [
      "c:\\Users\\guitar123\\anaconda3\\envs\\SeniorProject\\lib\\site-packages\\sklearn\\metrics\\_classification.py:1531: UndefinedMetricWarning: Precision is ill-defined and being set to 0.0 in labels with no predicted samples. Use `zero_division` parameter to control this behavior.\n",
      "  _warn_prf(average, modifier, f\"{metric.capitalize()} is\", len(result))\n"
     ]
    },
    {
     "name": "stdout",
     "output_type": "stream",
     "text": [
      "63/63 [==============================] - 15s 233ms/step\n",
      "Epoch 49 - Validation Loss: 1.6200, Validation Accuracy: 0.5820, Validation Precision: 0.4915\n",
      "\n",
      "Epoch 49: val_loss did not improve from 1.52413\n",
      "110/110 - 159s - loss: 1.4095 - acc: 0.5037 - val_loss: 1.6200 - val_acc: 0.5820 - lr: 1.0000e-04 - 159s/epoch - 1s/step\n",
      "Epoch 50/1000\n",
      "63/63 [==============================] - 14s 228ms/step\n",
      "Epoch 50 - Validation Loss: 1.5097, Validation Accuracy: 0.6858, Validation Precision: 0.4784\n",
      "\n",
      "Epoch 50: val_loss improved from 1.52413 to 1.50971, saving model to inceptionv3.2.h5\n",
      "110/110 - 145s - loss: 1.4120 - acc: 0.5057 - val_loss: 1.5097 - val_acc: 0.6858 - lr: 1.0000e-04 - 145s/epoch - 1s/step\n",
      "Epoch 51/1000\n",
      "63/63 [==============================] - 15s 231ms/step\n",
      "Epoch 51 - Validation Loss: 1.5571, Validation Accuracy: 0.6234, Validation Precision: 0.4820\n",
      "\n",
      "Epoch 51: val_loss did not improve from 1.50971\n",
      "110/110 - 153s - loss: 1.3865 - acc: 0.5171 - val_loss: 1.5571 - val_acc: 0.6234 - lr: 1.0000e-04 - 153s/epoch - 1s/step\n",
      "Epoch 52/1000\n",
      "63/63 [==============================] - 14s 226ms/step\n",
      "Epoch 52 - Validation Loss: 1.4948, Validation Accuracy: 0.6928, Validation Precision: 0.4782\n",
      "\n",
      "Epoch 52: val_loss improved from 1.50971 to 1.49478, saving model to inceptionv3.2.h5\n",
      "110/110 - 151s - loss: 1.3884 - acc: 0.5169 - val_loss: 1.4948 - val_acc: 0.6928 - lr: 1.0000e-04 - 151s/epoch - 1s/step\n",
      "Epoch 53/1000\n",
      "63/63 [==============================] - 15s 236ms/step\n",
      "Epoch 53 - Validation Loss: 1.5878, Validation Accuracy: 0.5980, Validation Precision: 0.4785\n",
      "\n",
      "Epoch 53: val_loss did not improve from 1.49478\n",
      "110/110 - 147s - loss: 1.3784 - acc: 0.5266 - val_loss: 1.5878 - val_acc: 0.5980 - lr: 1.0000e-04 - 147s/epoch - 1s/step\n",
      "Epoch 54/1000\n"
     ]
    },
    {
     "name": "stderr",
     "output_type": "stream",
     "text": [
      "c:\\Users\\guitar123\\anaconda3\\envs\\SeniorProject\\lib\\site-packages\\sklearn\\metrics\\_classification.py:1531: UndefinedMetricWarning: Precision is ill-defined and being set to 0.0 in labels with no predicted samples. Use `zero_division` parameter to control this behavior.\n",
      "  _warn_prf(average, modifier, f\"{metric.capitalize()} is\", len(result))\n"
     ]
    },
    {
     "name": "stdout",
     "output_type": "stream",
     "text": [
      "63/63 [==============================] - 14s 225ms/step\n",
      "Epoch 54 - Validation Loss: 1.6668, Validation Accuracy: 0.5576, Validation Precision: 0.4603\n",
      "\n",
      "Epoch 54: val_loss did not improve from 1.49478\n",
      "110/110 - 149s - loss: 1.3669 - acc: 0.5189 - val_loss: 1.6668 - val_acc: 0.5576 - lr: 1.0000e-04 - 149s/epoch - 1s/step\n",
      "Epoch 55/1000\n"
     ]
    },
    {
     "name": "stderr",
     "output_type": "stream",
     "text": [
      "c:\\Users\\guitar123\\anaconda3\\envs\\SeniorProject\\lib\\site-packages\\sklearn\\metrics\\_classification.py:1531: UndefinedMetricWarning: Precision is ill-defined and being set to 0.0 in labels with no predicted samples. Use `zero_division` parameter to control this behavior.\n",
      "  _warn_prf(average, modifier, f\"{metric.capitalize()} is\", len(result))\n"
     ]
    },
    {
     "name": "stdout",
     "output_type": "stream",
     "text": [
      "63/63 [==============================] - 14s 229ms/step\n",
      "Epoch 55 - Validation Loss: 1.6152, Validation Accuracy: 0.5930, Validation Precision: 0.4708\n",
      "\n",
      "Epoch 55: val_loss did not improve from 1.49478\n",
      "110/110 - 144s - loss: 1.3838 - acc: 0.5091 - val_loss: 1.6152 - val_acc: 0.5930 - lr: 1.0000e-04 - 144s/epoch - 1s/step\n",
      "Epoch 56/1000\n",
      "63/63 [==============================] - 15s 233ms/step\n",
      "Epoch 56 - Validation Loss: 1.4998, Validation Accuracy: 0.6718, Validation Precision: 0.4863\n",
      "\n",
      "Epoch 56: val_loss did not improve from 1.49478\n",
      "110/110 - 152s - loss: 1.3772 - acc: 0.5157 - val_loss: 1.4998 - val_acc: 0.6718 - lr: 1.0000e-04 - 152s/epoch - 1s/step\n",
      "Epoch 57/1000\n",
      "63/63 [==============================] - 14s 226ms/step\n",
      "Epoch 57 - Validation Loss: 1.5364, Validation Accuracy: 0.6349, Validation Precision: 0.4805\n",
      "\n",
      "Epoch 57: val_loss did not improve from 1.49478\n",
      "110/110 - 146s - loss: 1.3580 - acc: 0.5237 - val_loss: 1.5364 - val_acc: 0.6349 - lr: 1.0000e-04 - 146s/epoch - 1s/step\n",
      "Epoch 58/1000\n",
      "63/63 [==============================] - 15s 230ms/step\n",
      "Epoch 58 - Validation Loss: 1.4827, Validation Accuracy: 0.6589, Validation Precision: 0.4624\n",
      "\n",
      "Epoch 58: val_loss improved from 1.49478 to 1.48272, saving model to inceptionv3.2.h5\n"
     ]
    },
    {
     "name": "stderr",
     "output_type": "stream",
     "text": [
      "c:\\Users\\guitar123\\anaconda3\\envs\\SeniorProject\\lib\\site-packages\\sklearn\\metrics\\_classification.py:1531: UndefinedMetricWarning: Precision is ill-defined and being set to 0.0 in labels with no predicted samples. Use `zero_division` parameter to control this behavior.\n",
      "  _warn_prf(average, modifier, f\"{metric.capitalize()} is\", len(result))\n"
     ]
    },
    {
     "name": "stdout",
     "output_type": "stream",
     "text": [
      "110/110 - 151s - loss: 1.3463 - acc: 0.5191 - val_loss: 1.4827 - val_acc: 0.6589 - lr: 5.0000e-05 - 151s/epoch - 1s/step\n",
      "Epoch 59/1000\n",
      "63/63 [==============================] - 14s 226ms/step\n",
      "Epoch 59 - Validation Loss: 1.4417, Validation Accuracy: 0.7132, Validation Precision: 0.4696\n",
      "\n",
      "Epoch 59: val_loss improved from 1.48272 to 1.44169, saving model to inceptionv3.2.h5\n",
      "110/110 - 172s - loss: 1.3168 - acc: 0.5471 - val_loss: 1.4417 - val_acc: 0.7132 - lr: 5.0000e-05 - 172s/epoch - 2s/step\n",
      "Epoch 60/1000\n",
      "63/63 [==============================] - 14s 227ms/step\n",
      "Epoch 60 - Validation Loss: 1.4796, Validation Accuracy: 0.6763, Validation Precision: 0.4842\n",
      "\n",
      "Epoch 60: val_loss did not improve from 1.44169\n",
      "110/110 - 133s - loss: 1.3116 - acc: 0.5389 - val_loss: 1.4796 - val_acc: 0.6763 - lr: 5.0000e-05 - 133s/epoch - 1s/step\n",
      "Epoch 61/1000\n",
      "63/63 [==============================] - 14s 227ms/step\n",
      "Epoch 61 - Validation Loss: 1.4421, Validation Accuracy: 0.7002, Validation Precision: 0.4733\n",
      "\n",
      "Epoch 61: val_loss did not improve from 1.44169\n",
      "110/110 - 134s - loss: 1.2898 - acc: 0.5506 - val_loss: 1.4421 - val_acc: 0.7002 - lr: 5.0000e-05 - 134s/epoch - 1s/step\n",
      "Epoch 62/1000\n"
     ]
    },
    {
     "name": "stderr",
     "output_type": "stream",
     "text": [
      "c:\\Users\\guitar123\\anaconda3\\envs\\SeniorProject\\lib\\site-packages\\sklearn\\metrics\\_classification.py:1531: UndefinedMetricWarning: Precision is ill-defined and being set to 0.0 in labels with no predicted samples. Use `zero_division` parameter to control this behavior.\n",
      "  _warn_prf(average, modifier, f\"{metric.capitalize()} is\", len(result))\n"
     ]
    },
    {
     "name": "stdout",
     "output_type": "stream",
     "text": [
      "63/63 [==============================] - 14s 226ms/step\n",
      "Epoch 62 - Validation Loss: 1.5200, Validation Accuracy: 0.6469, Validation Precision: 0.4925\n",
      "\n",
      "Epoch 62: val_loss did not improve from 1.44169\n",
      "110/110 - 132s - loss: 1.3003 - acc: 0.5503 - val_loss: 1.5200 - val_acc: 0.6469 - lr: 5.0000e-05 - 132s/epoch - 1s/step\n",
      "Epoch 63/1000\n",
      "63/63 [==============================] - 14s 226ms/step\n",
      "Epoch 63 - Validation Loss: 1.4677, Validation Accuracy: 0.6803, Validation Precision: 0.4809\n",
      "\n",
      "Epoch 63: val_loss did not improve from 1.44169\n",
      "110/110 - 132s - loss: 1.2962 - acc: 0.5589 - val_loss: 1.4677 - val_acc: 0.6803 - lr: 5.0000e-05 - 132s/epoch - 1s/step\n",
      "Epoch 64/1000\n",
      "63/63 [==============================] - 14s 227ms/step\n",
      "Epoch 64 - Validation Loss: 1.4433, Validation Accuracy: 0.6908, Validation Precision: 0.4679\n",
      "\n",
      "Epoch 64: val_loss did not improve from 1.44169\n",
      "110/110 - 133s - loss: 1.3017 - acc: 0.5451 - val_loss: 1.4433 - val_acc: 0.6908 - lr: 5.0000e-05 - 133s/epoch - 1s/step\n",
      "Epoch 65/1000\n",
      "63/63 [==============================] - 14s 226ms/step\n",
      "Epoch 65 - Validation Loss: 1.4591, Validation Accuracy: 0.6713, Validation Precision: 0.4733\n",
      "\n",
      "Epoch 65: val_loss did not improve from 1.44169\n",
      "110/110 - 131s - loss: 1.2803 - acc: 0.5589 - val_loss: 1.4591 - val_acc: 0.6713 - lr: 2.5000e-05 - 131s/epoch - 1s/step\n",
      "Epoch 66/1000\n",
      "63/63 [==============================] - 14s 226ms/step\n",
      "Epoch 66 - Validation Loss: 1.4451, Validation Accuracy: 0.6933, Validation Precision: 0.4831\n",
      "\n",
      "Epoch 66: val_loss did not improve from 1.44169\n",
      "110/110 - 132s - loss: 1.2619 - acc: 0.5657 - val_loss: 1.4451 - val_acc: 0.6933 - lr: 2.5000e-05 - 132s/epoch - 1s/step\n",
      "Epoch 67/1000\n"
     ]
    },
    {
     "name": "stderr",
     "output_type": "stream",
     "text": [
      "c:\\Users\\guitar123\\anaconda3\\envs\\SeniorProject\\lib\\site-packages\\sklearn\\metrics\\_classification.py:1531: UndefinedMetricWarning: Precision is ill-defined and being set to 0.0 in labels with no predicted samples. Use `zero_division` parameter to control this behavior.\n",
      "  _warn_prf(average, modifier, f\"{metric.capitalize()} is\", len(result))\n"
     ]
    },
    {
     "name": "stdout",
     "output_type": "stream",
     "text": [
      "63/63 [==============================] - 14s 226ms/step\n",
      "Epoch 67 - Validation Loss: 1.4449, Validation Accuracy: 0.6818, Validation Precision: 0.4917\n",
      "\n",
      "Epoch 67: val_loss did not improve from 1.44169\n",
      "110/110 - 132s - loss: 1.2600 - acc: 0.5629 - val_loss: 1.4449 - val_acc: 0.6818 - lr: 2.5000e-05 - 132s/epoch - 1s/step\n",
      "Epoch 68/1000\n",
      "63/63 [==============================] - 14s 226ms/step\n",
      "Epoch 68 - Validation Loss: 1.4489, Validation Accuracy: 0.6773, Validation Precision: 0.4807\n",
      "\n",
      "Epoch 68: val_loss did not improve from 1.44169\n",
      "110/110 - 132s - loss: 1.2715 - acc: 0.5569 - val_loss: 1.4489 - val_acc: 0.6773 - lr: 2.5000e-05 - 132s/epoch - 1s/step\n",
      "Epoch 69/1000\n"
     ]
    },
    {
     "name": "stderr",
     "output_type": "stream",
     "text": [
      "c:\\Users\\guitar123\\anaconda3\\envs\\SeniorProject\\lib\\site-packages\\sklearn\\metrics\\_classification.py:1531: UndefinedMetricWarning: Precision is ill-defined and being set to 0.0 in labels with no predicted samples. Use `zero_division` parameter to control this behavior.\n",
      "  _warn_prf(average, modifier, f\"{metric.capitalize()} is\", len(result))\n"
     ]
    },
    {
     "name": "stdout",
     "output_type": "stream",
     "text": [
      "63/63 [==============================] - 14s 226ms/step\n",
      "Epoch 69 - Validation Loss: 1.4130, Validation Accuracy: 0.7202, Validation Precision: 0.4764\n",
      "\n",
      "Epoch 69: val_loss improved from 1.44169 to 1.41299, saving model to inceptionv3.2.h5\n"
     ]
    },
    {
     "name": "stderr",
     "output_type": "stream",
     "text": [
      "c:\\Users\\guitar123\\anaconda3\\envs\\SeniorProject\\lib\\site-packages\\sklearn\\metrics\\_classification.py:1531: UndefinedMetricWarning: Precision is ill-defined and being set to 0.0 in labels with no predicted samples. Use `zero_division` parameter to control this behavior.\n",
      "  _warn_prf(average, modifier, f\"{metric.capitalize()} is\", len(result))\n"
     ]
    },
    {
     "name": "stdout",
     "output_type": "stream",
     "text": [
      "110/110 - 132s - loss: 1.2482 - acc: 0.5751 - val_loss: 1.4130 - val_acc: 0.7202 - lr: 2.5000e-05 - 132s/epoch - 1s/step\n",
      "Epoch 70/1000\n",
      "63/63 [==============================] - 14s 226ms/step\n",
      "Epoch 70 - Validation Loss: 1.4249, Validation Accuracy: 0.7087, Validation Precision: 0.4673\n",
      "\n",
      "Epoch 70: val_loss did not improve from 1.41299\n",
      "110/110 - 132s - loss: 1.2654 - acc: 0.5649 - val_loss: 1.4249 - val_acc: 0.7087 - lr: 2.5000e-05 - 132s/epoch - 1s/step\n",
      "Epoch 71/1000\n",
      "63/63 [==============================] - 14s 226ms/step\n",
      "Epoch 71 - Validation Loss: 1.4046, Validation Accuracy: 0.7267, Validation Precision: 0.4782\n",
      "\n",
      "Epoch 71: val_loss improved from 1.41299 to 1.40462, saving model to inceptionv3.2.h5\n"
     ]
    },
    {
     "name": "stderr",
     "output_type": "stream",
     "text": [
      "c:\\Users\\guitar123\\anaconda3\\envs\\SeniorProject\\lib\\site-packages\\sklearn\\metrics\\_classification.py:1531: UndefinedMetricWarning: Precision is ill-defined and being set to 0.0 in labels with no predicted samples. Use `zero_division` parameter to control this behavior.\n",
      "  _warn_prf(average, modifier, f\"{metric.capitalize()} is\", len(result))\n"
     ]
    },
    {
     "name": "stdout",
     "output_type": "stream",
     "text": [
      "110/110 - 133s - loss: 1.2441 - acc: 0.5814 - val_loss: 1.4046 - val_acc: 0.7267 - lr: 2.5000e-05 - 133s/epoch - 1s/step\n",
      "Epoch 72/1000\n",
      "63/63 [==============================] - 14s 226ms/step\n",
      "Epoch 72 - Validation Loss: 1.4567, Validation Accuracy: 0.6848, Validation Precision: 0.4735\n",
      "\n",
      "Epoch 72: val_loss did not improve from 1.40462\n",
      "110/110 - 132s - loss: 1.2466 - acc: 0.5774 - val_loss: 1.4567 - val_acc: 0.6848 - lr: 2.5000e-05 - 132s/epoch - 1s/step\n",
      "Epoch 73/1000\n"
     ]
    },
    {
     "name": "stderr",
     "output_type": "stream",
     "text": [
      "c:\\Users\\guitar123\\anaconda3\\envs\\SeniorProject\\lib\\site-packages\\sklearn\\metrics\\_classification.py:1531: UndefinedMetricWarning: Precision is ill-defined and being set to 0.0 in labels with no predicted samples. Use `zero_division` parameter to control this behavior.\n",
      "  _warn_prf(average, modifier, f\"{metric.capitalize()} is\", len(result))\n"
     ]
    },
    {
     "name": "stdout",
     "output_type": "stream",
     "text": [
      "63/63 [==============================] - 14s 225ms/step\n",
      "Epoch 73 - Validation Loss: 1.4480, Validation Accuracy: 0.6898, Validation Precision: 0.4681\n",
      "\n",
      "Epoch 73: val_loss did not improve from 1.40462\n",
      "110/110 - 143s - loss: 1.2380 - acc: 0.5751 - val_loss: 1.4480 - val_acc: 0.6898 - lr: 2.5000e-05 - 143s/epoch - 1s/step\n",
      "Epoch 74/1000\n",
      "63/63 [==============================] - 14s 226ms/step\n",
      "Epoch 74 - Validation Loss: 1.4526, Validation Accuracy: 0.6768, Validation Precision: 0.4664\n",
      "\n",
      "Epoch 74: val_loss did not improve from 1.40462\n",
      "110/110 - 131s - loss: 1.2438 - acc: 0.5766 - val_loss: 1.4526 - val_acc: 0.6768 - lr: 2.5000e-05 - 131s/epoch - 1s/step\n",
      "Epoch 75/1000\n"
     ]
    },
    {
     "name": "stderr",
     "output_type": "stream",
     "text": [
      "c:\\Users\\guitar123\\anaconda3\\envs\\SeniorProject\\lib\\site-packages\\sklearn\\metrics\\_classification.py:1531: UndefinedMetricWarning: Precision is ill-defined and being set to 0.0 in labels with no predicted samples. Use `zero_division` parameter to control this behavior.\n",
      "  _warn_prf(average, modifier, f\"{metric.capitalize()} is\", len(result))\n"
     ]
    },
    {
     "name": "stdout",
     "output_type": "stream",
     "text": [
      "63/63 [==============================] - 14s 225ms/step\n",
      "Epoch 75 - Validation Loss: 1.5184, Validation Accuracy: 0.6289, Validation Precision: 0.4605\n",
      "\n",
      "Epoch 75: val_loss did not improve from 1.40462\n",
      "110/110 - 132s - loss: 1.2427 - acc: 0.5760 - val_loss: 1.5184 - val_acc: 0.6289 - lr: 2.5000e-05 - 132s/epoch - 1s/step\n",
      "Epoch 76/1000\n",
      "63/63 [==============================] - 14s 226ms/step\n",
      "Epoch 76 - Validation Loss: 1.4614, Validation Accuracy: 0.6658, Validation Precision: 0.4642\n",
      "\n",
      "Epoch 76: val_loss did not improve from 1.40462\n",
      "110/110 - 131s - loss: 1.2418 - acc: 0.5723 - val_loss: 1.4614 - val_acc: 0.6658 - lr: 2.5000e-05 - 131s/epoch - 1s/step\n",
      "Epoch 77/1000\n"
     ]
    },
    {
     "name": "stderr",
     "output_type": "stream",
     "text": [
      "c:\\Users\\guitar123\\anaconda3\\envs\\SeniorProject\\lib\\site-packages\\sklearn\\metrics\\_classification.py:1531: UndefinedMetricWarning: Precision is ill-defined and being set to 0.0 in labels with no predicted samples. Use `zero_division` parameter to control this behavior.\n",
      "  _warn_prf(average, modifier, f\"{metric.capitalize()} is\", len(result))\n"
     ]
    },
    {
     "name": "stdout",
     "output_type": "stream",
     "text": [
      "63/63 [==============================] - 14s 225ms/step\n",
      "Epoch 77 - Validation Loss: 1.4568, Validation Accuracy: 0.6718, Validation Precision: 0.4711\n",
      "\n",
      "Epoch 77: val_loss did not improve from 1.40462\n",
      "110/110 - 133s - loss: 1.2385 - acc: 0.5817 - val_loss: 1.4568 - val_acc: 0.6718 - lr: 1.2500e-05 - 133s/epoch - 1s/step\n",
      "Epoch 78/1000\n"
     ]
    },
    {
     "name": "stderr",
     "output_type": "stream",
     "text": [
      "c:\\Users\\guitar123\\anaconda3\\envs\\SeniorProject\\lib\\site-packages\\sklearn\\metrics\\_classification.py:1531: UndefinedMetricWarning: Precision is ill-defined and being set to 0.0 in labels with no predicted samples. Use `zero_division` parameter to control this behavior.\n",
      "  _warn_prf(average, modifier, f\"{metric.capitalize()} is\", len(result))\n"
     ]
    },
    {
     "name": "stdout",
     "output_type": "stream",
     "text": [
      "63/63 [==============================] - 14s 226ms/step\n",
      "Epoch 78 - Validation Loss: 1.4597, Validation Accuracy: 0.6703, Validation Precision: 0.4797\n",
      "\n",
      "Epoch 78: val_loss did not improve from 1.40462\n",
      "110/110 - 131s - loss: 1.2377 - acc: 0.5829 - val_loss: 1.4597 - val_acc: 0.6703 - lr: 1.2500e-05 - 131s/epoch - 1s/step\n",
      "Epoch 79/1000\n"
     ]
    },
    {
     "name": "stderr",
     "output_type": "stream",
     "text": [
      "c:\\Users\\guitar123\\anaconda3\\envs\\SeniorProject\\lib\\site-packages\\sklearn\\metrics\\_classification.py:1531: UndefinedMetricWarning: Precision is ill-defined and being set to 0.0 in labels with no predicted samples. Use `zero_division` parameter to control this behavior.\n",
      "  _warn_prf(average, modifier, f\"{metric.capitalize()} is\", len(result))\n"
     ]
    },
    {
     "name": "stdout",
     "output_type": "stream",
     "text": [
      "63/63 [==============================] - 14s 225ms/step\n",
      "Epoch 79 - Validation Loss: 1.4636, Validation Accuracy: 0.6683, Validation Precision: 0.4784\n",
      "\n",
      "Epoch 79: val_loss did not improve from 1.40462\n",
      "110/110 - 132s - loss: 1.2284 - acc: 0.5869 - val_loss: 1.4636 - val_acc: 0.6683 - lr: 1.2500e-05 - 132s/epoch - 1s/step\n",
      "Epoch 80/1000\n"
     ]
    },
    {
     "name": "stderr",
     "output_type": "stream",
     "text": [
      "c:\\Users\\guitar123\\anaconda3\\envs\\SeniorProject\\lib\\site-packages\\sklearn\\metrics\\_classification.py:1531: UndefinedMetricWarning: Precision is ill-defined and being set to 0.0 in labels with no predicted samples. Use `zero_division` parameter to control this behavior.\n",
      "  _warn_prf(average, modifier, f\"{metric.capitalize()} is\", len(result))\n"
     ]
    },
    {
     "name": "stdout",
     "output_type": "stream",
     "text": [
      "63/63 [==============================] - 14s 225ms/step\n",
      "Epoch 80 - Validation Loss: 1.4537, Validation Accuracy: 0.6748, Validation Precision: 0.4771\n",
      "\n",
      "Epoch 80: val_loss did not improve from 1.40462\n",
      "110/110 - 132s - loss: 1.2404 - acc: 0.5823 - val_loss: 1.4537 - val_acc: 0.6748 - lr: 1.2500e-05 - 132s/epoch - 1s/step\n",
      "Epoch 81/1000\n",
      "63/63 [==============================] - 14s 226ms/step\n",
      "Epoch 81 - Validation Loss: 1.4336, Validation Accuracy: 0.7007, Validation Precision: 0.4799\n",
      "\n",
      "Epoch 81: val_loss did not improve from 1.40462\n",
      "110/110 - 131s - loss: 1.2105 - acc: 0.6031 - val_loss: 1.4336 - val_acc: 0.7007 - lr: 1.2500e-05 - 131s/epoch - 1s/step\n",
      "Epoch 82/1000\n"
     ]
    },
    {
     "name": "stderr",
     "output_type": "stream",
     "text": [
      "c:\\Users\\guitar123\\anaconda3\\envs\\SeniorProject\\lib\\site-packages\\sklearn\\metrics\\_classification.py:1531: UndefinedMetricWarning: Precision is ill-defined and being set to 0.0 in labels with no predicted samples. Use `zero_division` parameter to control this behavior.\n",
      "  _warn_prf(average, modifier, f\"{metric.capitalize()} is\", len(result))\n"
     ]
    },
    {
     "name": "stdout",
     "output_type": "stream",
     "text": [
      "63/63 [==============================] - 14s 225ms/step\n",
      "Epoch 82 - Validation Loss: 1.4392, Validation Accuracy: 0.6933, Validation Precision: 0.4729\n",
      "\n",
      "Epoch 82: val_loss did not improve from 1.40462\n",
      "110/110 - 132s - loss: 1.2055 - acc: 0.5920 - val_loss: 1.4392 - val_acc: 0.6933 - lr: 6.2500e-06 - 132s/epoch - 1s/step\n",
      "Epoch 83/1000\n"
     ]
    },
    {
     "name": "stderr",
     "output_type": "stream",
     "text": [
      "c:\\Users\\guitar123\\anaconda3\\envs\\SeniorProject\\lib\\site-packages\\sklearn\\metrics\\_classification.py:1531: UndefinedMetricWarning: Precision is ill-defined and being set to 0.0 in labels with no predicted samples. Use `zero_division` parameter to control this behavior.\n",
      "  _warn_prf(average, modifier, f\"{metric.capitalize()} is\", len(result))\n"
     ]
    },
    {
     "name": "stdout",
     "output_type": "stream",
     "text": [
      "63/63 [==============================] - 14s 225ms/step\n",
      "Epoch 83 - Validation Loss: 1.4265, Validation Accuracy: 0.7057, Validation Precision: 0.4705\n",
      "\n",
      "Epoch 83: val_loss did not improve from 1.40462\n",
      "110/110 - 132s - loss: 1.2030 - acc: 0.5929 - val_loss: 1.4265 - val_acc: 0.7057 - lr: 6.2500e-06 - 132s/epoch - 1s/step\n",
      "Epoch 84/1000\n"
     ]
    },
    {
     "name": "stderr",
     "output_type": "stream",
     "text": [
      "c:\\Users\\guitar123\\anaconda3\\envs\\SeniorProject\\lib\\site-packages\\sklearn\\metrics\\_classification.py:1531: UndefinedMetricWarning: Precision is ill-defined and being set to 0.0 in labels with no predicted samples. Use `zero_division` parameter to control this behavior.\n",
      "  _warn_prf(average, modifier, f\"{metric.capitalize()} is\", len(result))\n"
     ]
    },
    {
     "name": "stdout",
     "output_type": "stream",
     "text": [
      "63/63 [==============================] - 14s 225ms/step\n",
      "Epoch 84 - Validation Loss: 1.4408, Validation Accuracy: 0.6963, Validation Precision: 0.4653\n",
      "\n",
      "Epoch 84: val_loss did not improve from 1.40462\n",
      "110/110 - 133s - loss: 1.2213 - acc: 0.5891 - val_loss: 1.4408 - val_acc: 0.6963 - lr: 6.2500e-06 - 133s/epoch - 1s/step\n",
      "Epoch 85/1000\n"
     ]
    },
    {
     "name": "stderr",
     "output_type": "stream",
     "text": [
      "c:\\Users\\guitar123\\anaconda3\\envs\\SeniorProject\\lib\\site-packages\\sklearn\\metrics\\_classification.py:1531: UndefinedMetricWarning: Precision is ill-defined and being set to 0.0 in labels with no predicted samples. Use `zero_division` parameter to control this behavior.\n",
      "  _warn_prf(average, modifier, f\"{metric.capitalize()} is\", len(result))\n"
     ]
    },
    {
     "name": "stdout",
     "output_type": "stream",
     "text": [
      "63/63 [==============================] - 14s 226ms/step\n",
      "Epoch 85 - Validation Loss: 1.4473, Validation Accuracy: 0.6913, Validation Precision: 0.4764\n",
      "\n",
      "Epoch 85: val_loss did not improve from 1.40462\n",
      "110/110 - 131s - loss: 1.2200 - acc: 0.5903 - val_loss: 1.4473 - val_acc: 0.6913 - lr: 6.2500e-06 - 131s/epoch - 1s/step\n",
      "Epoch 86/1000\n"
     ]
    },
    {
     "name": "stderr",
     "output_type": "stream",
     "text": [
      "c:\\Users\\guitar123\\anaconda3\\envs\\SeniorProject\\lib\\site-packages\\sklearn\\metrics\\_classification.py:1531: UndefinedMetricWarning: Precision is ill-defined and being set to 0.0 in labels with no predicted samples. Use `zero_division` parameter to control this behavior.\n",
      "  _warn_prf(average, modifier, f\"{metric.capitalize()} is\", len(result))\n"
     ]
    },
    {
     "name": "stdout",
     "output_type": "stream",
     "text": [
      "63/63 [==============================] - 14s 225ms/step\n",
      "Epoch 86 - Validation Loss: 1.4384, Validation Accuracy: 0.6923, Validation Precision: 0.4721\n",
      "\n",
      "Epoch 86: val_loss did not improve from 1.40462\n",
      "110/110 - 132s - loss: 1.2060 - acc: 0.6014 - val_loss: 1.4384 - val_acc: 0.6923 - lr: 6.2500e-06 - 132s/epoch - 1s/step\n",
      "Epoch 87/1000\n"
     ]
    },
    {
     "name": "stderr",
     "output_type": "stream",
     "text": [
      "c:\\Users\\guitar123\\anaconda3\\envs\\SeniorProject\\lib\\site-packages\\sklearn\\metrics\\_classification.py:1531: UndefinedMetricWarning: Precision is ill-defined and being set to 0.0 in labels with no predicted samples. Use `zero_division` parameter to control this behavior.\n",
      "  _warn_prf(average, modifier, f\"{metric.capitalize()} is\", len(result))\n"
     ]
    },
    {
     "name": "stdout",
     "output_type": "stream",
     "text": [
      "63/63 [==============================] - 14s 226ms/step\n",
      "Epoch 87 - Validation Loss: 1.4427, Validation Accuracy: 0.6913, Validation Precision: 0.4757\n",
      "\n",
      "Epoch 87: val_loss did not improve from 1.40462\n",
      "110/110 - 132s - loss: 1.2158 - acc: 0.5966 - val_loss: 1.4427 - val_acc: 0.6913 - lr: 3.1250e-06 - 132s/epoch - 1s/step\n",
      "Epoch 88/1000\n"
     ]
    },
    {
     "name": "stderr",
     "output_type": "stream",
     "text": [
      "c:\\Users\\guitar123\\anaconda3\\envs\\SeniorProject\\lib\\site-packages\\sklearn\\metrics\\_classification.py:1531: UndefinedMetricWarning: Precision is ill-defined and being set to 0.0 in labels with no predicted samples. Use `zero_division` parameter to control this behavior.\n",
      "  _warn_prf(average, modifier, f\"{metric.capitalize()} is\", len(result))\n"
     ]
    },
    {
     "name": "stdout",
     "output_type": "stream",
     "text": [
      "63/63 [==============================] - 14s 225ms/step\n",
      "Epoch 88 - Validation Loss: 1.4326, Validation Accuracy: 0.6988, Validation Precision: 0.4718\n",
      "\n",
      "Epoch 88: val_loss did not improve from 1.40462\n",
      "110/110 - 133s - loss: 1.2264 - acc: 0.5854 - val_loss: 1.4326 - val_acc: 0.6988 - lr: 3.1250e-06 - 133s/epoch - 1s/step\n",
      "Epoch 89/1000\n"
     ]
    },
    {
     "name": "stderr",
     "output_type": "stream",
     "text": [
      "c:\\Users\\guitar123\\anaconda3\\envs\\SeniorProject\\lib\\site-packages\\sklearn\\metrics\\_classification.py:1531: UndefinedMetricWarning: Precision is ill-defined and being set to 0.0 in labels with no predicted samples. Use `zero_division` parameter to control this behavior.\n",
      "  _warn_prf(average, modifier, f\"{metric.capitalize()} is\", len(result))\n"
     ]
    },
    {
     "name": "stdout",
     "output_type": "stream",
     "text": [
      "63/63 [==============================] - 14s 226ms/step\n",
      "Epoch 89 - Validation Loss: 1.4417, Validation Accuracy: 0.6973, Validation Precision: 0.4726\n",
      "\n",
      "Epoch 89: val_loss did not improve from 1.40462\n",
      "110/110 - 133s - loss: 1.2051 - acc: 0.5994 - val_loss: 1.4417 - val_acc: 0.6973 - lr: 3.1250e-06 - 133s/epoch - 1s/step\n",
      "Epoch 90/1000\n"
     ]
    },
    {
     "name": "stderr",
     "output_type": "stream",
     "text": [
      "c:\\Users\\guitar123\\anaconda3\\envs\\SeniorProject\\lib\\site-packages\\sklearn\\metrics\\_classification.py:1531: UndefinedMetricWarning: Precision is ill-defined and being set to 0.0 in labels with no predicted samples. Use `zero_division` parameter to control this behavior.\n",
      "  _warn_prf(average, modifier, f\"{metric.capitalize()} is\", len(result))\n"
     ]
    },
    {
     "name": "stdout",
     "output_type": "stream",
     "text": [
      "63/63 [==============================] - 14s 225ms/step\n",
      "Epoch 90 - Validation Loss: 1.4377, Validation Accuracy: 0.6983, Validation Precision: 0.4694\n",
      "\n",
      "Epoch 90: val_loss did not improve from 1.40462\n",
      "110/110 - 132s - loss: 1.2156 - acc: 0.5880 - val_loss: 1.4377 - val_acc: 0.6983 - lr: 3.1250e-06 - 132s/epoch - 1s/step\n",
      "Epoch 91/1000\n"
     ]
    },
    {
     "name": "stderr",
     "output_type": "stream",
     "text": [
      "c:\\Users\\guitar123\\anaconda3\\envs\\SeniorProject\\lib\\site-packages\\sklearn\\metrics\\_classification.py:1531: UndefinedMetricWarning: Precision is ill-defined and being set to 0.0 in labels with no predicted samples. Use `zero_division` parameter to control this behavior.\n",
      "  _warn_prf(average, modifier, f\"{metric.capitalize()} is\", len(result))\n"
     ]
    },
    {
     "name": "stdout",
     "output_type": "stream",
     "text": [
      "63/63 [==============================] - 14s 225ms/step\n",
      "Epoch 91 - Validation Loss: 1.4307, Validation Accuracy: 0.7047, Validation Precision: 0.4857\n",
      "\n",
      "Epoch 91: val_loss did not improve from 1.40462\n",
      "110/110 - 133s - loss: 1.2263 - acc: 0.5817 - val_loss: 1.4307 - val_acc: 0.7047 - lr: 3.1250e-06 - 133s/epoch - 1s/step\n",
      "Epoch 92/1000\n"
     ]
    },
    {
     "name": "stderr",
     "output_type": "stream",
     "text": [
      "c:\\Users\\guitar123\\anaconda3\\envs\\SeniorProject\\lib\\site-packages\\sklearn\\metrics\\_classification.py:1531: UndefinedMetricWarning: Precision is ill-defined and being set to 0.0 in labels with no predicted samples. Use `zero_division` parameter to control this behavior.\n",
      "  _warn_prf(average, modifier, f\"{metric.capitalize()} is\", len(result))\n"
     ]
    },
    {
     "name": "stdout",
     "output_type": "stream",
     "text": [
      "63/63 [==============================] - 14s 225ms/step\n",
      "Epoch 92 - Validation Loss: 1.4302, Validation Accuracy: 0.7032, Validation Precision: 0.4761\n",
      "\n",
      "Epoch 92: val_loss did not improve from 1.40462\n",
      "110/110 - 131s - loss: 1.2211 - acc: 0.5954 - val_loss: 1.4302 - val_acc: 0.7032 - lr: 1.5625e-06 - 131s/epoch - 1s/step\n",
      "Epoch 93/1000\n"
     ]
    },
    {
     "name": "stderr",
     "output_type": "stream",
     "text": [
      "c:\\Users\\guitar123\\anaconda3\\envs\\SeniorProject\\lib\\site-packages\\sklearn\\metrics\\_classification.py:1531: UndefinedMetricWarning: Precision is ill-defined and being set to 0.0 in labels with no predicted samples. Use `zero_division` parameter to control this behavior.\n",
      "  _warn_prf(average, modifier, f\"{metric.capitalize()} is\", len(result))\n"
     ]
    },
    {
     "name": "stdout",
     "output_type": "stream",
     "text": [
      "63/63 [==============================] - 14s 225ms/step\n",
      "Epoch 93 - Validation Loss: 1.4270, Validation Accuracy: 0.7082, Validation Precision: 0.4746\n",
      "\n",
      "Epoch 93: val_loss did not improve from 1.40462\n",
      "110/110 - 132s - loss: 1.2147 - acc: 0.5931 - val_loss: 1.4270 - val_acc: 0.7082 - lr: 1.5625e-06 - 132s/epoch - 1s/step\n",
      "Epoch 94/1000\n"
     ]
    },
    {
     "name": "stderr",
     "output_type": "stream",
     "text": [
      "c:\\Users\\guitar123\\anaconda3\\envs\\SeniorProject\\lib\\site-packages\\sklearn\\metrics\\_classification.py:1531: UndefinedMetricWarning: Precision is ill-defined and being set to 0.0 in labels with no predicted samples. Use `zero_division` parameter to control this behavior.\n",
      "  _warn_prf(average, modifier, f\"{metric.capitalize()} is\", len(result))\n"
     ]
    },
    {
     "name": "stdout",
     "output_type": "stream",
     "text": [
      "63/63 [==============================] - 14s 223ms/step\n",
      "Epoch 94 - Validation Loss: 1.4287, Validation Accuracy: 0.7042, Validation Precision: 0.4834\n",
      "\n",
      "Epoch 94: val_loss did not improve from 1.40462\n",
      "110/110 - 132s - loss: 1.2055 - acc: 0.6000 - val_loss: 1.4287 - val_acc: 0.7042 - lr: 1.5625e-06 - 132s/epoch - 1s/step\n",
      "Epoch 95/1000\n"
     ]
    },
    {
     "name": "stderr",
     "output_type": "stream",
     "text": [
      "c:\\Users\\guitar123\\anaconda3\\envs\\SeniorProject\\lib\\site-packages\\sklearn\\metrics\\_classification.py:1531: UndefinedMetricWarning: Precision is ill-defined and being set to 0.0 in labels with no predicted samples. Use `zero_division` parameter to control this behavior.\n",
      "  _warn_prf(average, modifier, f\"{metric.capitalize()} is\", len(result))\n"
     ]
    },
    {
     "name": "stdout",
     "output_type": "stream",
     "text": [
      "63/63 [==============================] - 14s 222ms/step\n",
      "Epoch 95 - Validation Loss: 1.4359, Validation Accuracy: 0.7012, Validation Precision: 0.4799\n",
      "\n",
      "Epoch 95: val_loss did not improve from 1.40462\n",
      "110/110 - 129s - loss: 1.2151 - acc: 0.5894 - val_loss: 1.4359 - val_acc: 0.7012 - lr: 1.5625e-06 - 129s/epoch - 1s/step\n",
      "Epoch 96/1000\n"
     ]
    },
    {
     "name": "stderr",
     "output_type": "stream",
     "text": [
      "c:\\Users\\guitar123\\anaconda3\\envs\\SeniorProject\\lib\\site-packages\\sklearn\\metrics\\_classification.py:1531: UndefinedMetricWarning: Precision is ill-defined and being set to 0.0 in labels with no predicted samples. Use `zero_division` parameter to control this behavior.\n",
      "  _warn_prf(average, modifier, f\"{metric.capitalize()} is\", len(result))\n"
     ]
    },
    {
     "name": "stdout",
     "output_type": "stream",
     "text": [
      "63/63 [==============================] - 14s 223ms/step\n",
      "Epoch 96 - Validation Loss: 1.4329, Validation Accuracy: 0.7042, Validation Precision: 0.4707\n",
      "\n",
      "Epoch 96: val_loss did not improve from 1.40462\n",
      "110/110 - 128s - loss: 1.2031 - acc: 0.6006 - val_loss: 1.4329 - val_acc: 0.7042 - lr: 1.5625e-06 - 128s/epoch - 1s/step\n",
      "Epoch 97/1000\n"
     ]
    },
    {
     "name": "stderr",
     "output_type": "stream",
     "text": [
      "c:\\Users\\guitar123\\anaconda3\\envs\\SeniorProject\\lib\\site-packages\\sklearn\\metrics\\_classification.py:1531: UndefinedMetricWarning: Precision is ill-defined and being set to 0.0 in labels with no predicted samples. Use `zero_division` parameter to control this behavior.\n",
      "  _warn_prf(average, modifier, f\"{metric.capitalize()} is\", len(result))\n"
     ]
    },
    {
     "name": "stdout",
     "output_type": "stream",
     "text": [
      "63/63 [==============================] - 16s 261ms/step\n",
      "Epoch 97 - Validation Loss: 1.4280, Validation Accuracy: 0.7092, Validation Precision: 0.4806\n",
      "\n",
      "Epoch 97: val_loss did not improve from 1.40462\n",
      "110/110 - 140s - loss: 1.1987 - acc: 0.6046 - val_loss: 1.4280 - val_acc: 0.7092 - lr: 1.0000e-06 - 140s/epoch - 1s/step\n",
      "Epoch 98/1000\n"
     ]
    },
    {
     "name": "stderr",
     "output_type": "stream",
     "text": [
      "c:\\Users\\guitar123\\anaconda3\\envs\\SeniorProject\\lib\\site-packages\\sklearn\\metrics\\_classification.py:1531: UndefinedMetricWarning: Precision is ill-defined and being set to 0.0 in labels with no predicted samples. Use `zero_division` parameter to control this behavior.\n",
      "  _warn_prf(average, modifier, f\"{metric.capitalize()} is\", len(result))\n"
     ]
    },
    {
     "name": "stdout",
     "output_type": "stream",
     "text": [
      "63/63 [==============================] - 15s 243ms/step\n",
      "Epoch 98 - Validation Loss: 1.4304, Validation Accuracy: 0.7057, Validation Precision: 0.4728\n",
      "\n",
      "Epoch 98: val_loss did not improve from 1.40462\n",
      "110/110 - 159s - loss: 1.2222 - acc: 0.5866 - val_loss: 1.4304 - val_acc: 0.7057 - lr: 1.0000e-06 - 159s/epoch - 1s/step\n",
      "Epoch 99/1000\n"
     ]
    },
    {
     "name": "stderr",
     "output_type": "stream",
     "text": [
      "c:\\Users\\guitar123\\anaconda3\\envs\\SeniorProject\\lib\\site-packages\\sklearn\\metrics\\_classification.py:1531: UndefinedMetricWarning: Precision is ill-defined and being set to 0.0 in labels with no predicted samples. Use `zero_division` parameter to control this behavior.\n",
      "  _warn_prf(average, modifier, f\"{metric.capitalize()} is\", len(result))\n"
     ]
    },
    {
     "name": "stdout",
     "output_type": "stream",
     "text": [
      "63/63 [==============================] - 14s 223ms/step\n",
      "Epoch 99 - Validation Loss: 1.4333, Validation Accuracy: 0.7052, Validation Precision: 0.4718\n",
      "\n",
      "Epoch 99: val_loss did not improve from 1.40462\n",
      "110/110 - 150s - loss: 1.2101 - acc: 0.5960 - val_loss: 1.4333 - val_acc: 0.7052 - lr: 1.0000e-06 - 150s/epoch - 1s/step\n",
      "Epoch 100/1000\n"
     ]
    },
    {
     "name": "stderr",
     "output_type": "stream",
     "text": [
      "c:\\Users\\guitar123\\anaconda3\\envs\\SeniorProject\\lib\\site-packages\\sklearn\\metrics\\_classification.py:1531: UndefinedMetricWarning: Precision is ill-defined and being set to 0.0 in labels with no predicted samples. Use `zero_division` parameter to control this behavior.\n",
      "  _warn_prf(average, modifier, f\"{metric.capitalize()} is\", len(result))\n"
     ]
    },
    {
     "name": "stdout",
     "output_type": "stream",
     "text": [
      "63/63 [==============================] - 14s 223ms/step\n",
      "Epoch 100 - Validation Loss: 1.4324, Validation Accuracy: 0.7067, Validation Precision: 0.4748\n",
      "\n",
      "Epoch 100: val_loss did not improve from 1.40462\n",
      "110/110 - 128s - loss: 1.2295 - acc: 0.5817 - val_loss: 1.4324 - val_acc: 0.7067 - lr: 1.0000e-06 - 128s/epoch - 1s/step\n",
      "Epoch 101/1000\n"
     ]
    },
    {
     "name": "stderr",
     "output_type": "stream",
     "text": [
      "c:\\Users\\guitar123\\anaconda3\\envs\\SeniorProject\\lib\\site-packages\\sklearn\\metrics\\_classification.py:1531: UndefinedMetricWarning: Precision is ill-defined and being set to 0.0 in labels with no predicted samples. Use `zero_division` parameter to control this behavior.\n",
      "  _warn_prf(average, modifier, f\"{metric.capitalize()} is\", len(result))\n"
     ]
    },
    {
     "name": "stdout",
     "output_type": "stream",
     "text": [
      "63/63 [==============================] - 14s 223ms/step\n",
      "Epoch 101 - Validation Loss: 1.4305, Validation Accuracy: 0.7042, Validation Precision: 0.4838\n",
      "\n",
      "Epoch 101: val_loss did not improve from 1.40462\n",
      "110/110 - 129s - loss: 1.2111 - acc: 0.6043 - val_loss: 1.4305 - val_acc: 0.7042 - lr: 1.0000e-06 - 129s/epoch - 1s/step\n"
     ]
    },
    {
     "name": "stderr",
     "output_type": "stream",
     "text": [
      "c:\\Users\\guitar123\\anaconda3\\envs\\SeniorProject\\lib\\site-packages\\sklearn\\metrics\\_classification.py:1531: UndefinedMetricWarning: Precision is ill-defined and being set to 0.0 in labels with no predicted samples. Use `zero_division` parameter to control this behavior.\n",
      "  _warn_prf(average, modifier, f\"{metric.capitalize()} is\", len(result))\n"
     ]
    }
   ],
   "source": [
    "from tensorflow.keras.callbacks import ModelCheckpoint\n",
    "\n",
    "# Define the callback to save the best model\n",
    "checkpoint = ModelCheckpoint(\n",
    "    'inceptionv3.2.h5',       # Path to save the model\n",
    "    monitor='val_loss',     # Metric to monitor ('val_loss' or 'val_accuracy')\n",
    "    save_best_only=True,    # Save only the best model\n",
    "    mode='min',             # Save model when the validation loss decreases ('min' for loss, 'max' for accuracy)\n",
    "    verbose=1\n",
    ")\n",
    "\n",
    "# Train the model with ModelCheckpoint\n",
    "history = model.fit(\n",
    "    train_generator,\n",
    "    epochs=EPOCHS,\n",
    "    validation_data=val_generator,\n",
    "    callbacks=[early_stopping, metrics_callback, checkpoint, reduce_lr],\n",
    "    verbose=2\n",
    ")\n"
   ]
  },
  {
   "cell_type": "code",
   "execution_count": 8,
   "metadata": {},
   "outputs": [
    {
     "name": "stdout",
     "output_type": "stream",
     "text": [
      "63/63 [==============================] - 14s 224ms/step\n",
      "Final Precision: 0.4798\n",
      "Final Recall: 0.4165\n",
      "Final F1 Score: 0.4424\n"
     ]
    },
    {
     "name": "stderr",
     "output_type": "stream",
     "text": [
      "c:\\Users\\guitar123\\anaconda3\\envs\\SeniorProject\\lib\\site-packages\\sklearn\\metrics\\_classification.py:1531: UndefinedMetricWarning: Precision is ill-defined and being set to 0.0 in labels with no predicted samples. Use `zero_division` parameter to control this behavior.\n",
      "  _warn_prf(average, modifier, f\"{metric.capitalize()} is\", len(result))\n"
     ]
    }
   ],
   "source": [
    "# Calculate precision, recall, and f1 score after training\n",
    "y_true = val_generator.classes\n",
    "y_pred = model.predict(val_generator)\n",
    "y_pred_classes = np.argmax(y_pred, axis=1)\n",
    "\n",
    "precision, recall, f1_score, _ = precision_recall_fscore_support(y_true, y_pred_classes, average='weighted')\n",
    "\n",
    "print(f'Final Precision: {precision:.4f}')\n",
    "print(f'Final Recall: {recall:.4f}')\n",
    "print(f'Final F1 Score: {f1_score:.4f}')"
   ]
  },
  {
   "cell_type": "code",
   "execution_count": 9,
   "metadata": {},
   "outputs": [
    {
     "name": "stdout",
     "output_type": "stream",
     "text": [
      "48/48 [==============================] - 11s 228ms/step - loss: 1.4522 - acc: 0.6746\n",
      "Test accuracy: 0.6745874881744385\n"
     ]
    },
    {
     "data": {
      "image/png": "[encoded data removed]",
      "text/plain": [
       "<Figure size 1200x500 with 2 Axes>"
      ]
     },
     "metadata": {},
     "output_type": "display_data"
    }
   ],
   "source": [
    "# Evaluate the model on the test set\n",
    "test_score = model.evaluate(test_generator)\n",
    "print('Test accuracy:', test_score[1])\n",
    "\n",
    "# Plot the training and validation accuracy and loss at each epoch\n",
    "fig, axs = plt.subplots(1, 2, figsize=(12, 5))\n",
    "\n",
    "# Plot Training & Validation Loss\n",
    "axs[0].plot(history.history['loss'], label='Train Loss')\n",
    "axs[0].plot(history.history['val_loss'], label='Validation Loss')\n",
    "axs[0].legend()\n",
    "axs[0].set_title('Training & Validation Loss')\n",
    "\n",
    "# Plot Training & Validation Accuracy\n",
    "axs[1].plot(history.history['acc'], label='Train Accuracy')\n",
    "axs[1].plot(history.history['val_acc'], label='Validation Accuracy')\n",
    "axs[1].legend()\n",
    "axs[1].set_title('Training & Validation Accuracy')\n",
    "\n",
    "plt.tight_layout()\n",
    "plt.show()"
   ]
  },
  {
   "cell_type": "code",
   "execution_count": 10,
   "metadata": {},
   "outputs": [
    {
     "name": "stdout",
     "output_type": "stream",
     "text": [
      "110/110 [==============================] - 94s 854ms/step\n"
     ]
    },
    {
     "data": {
      "image/png": "[encoded data removed]",
      "text/plain": [
       "<Figure size 800x600 with 2 Axes>"
      ]
     },
     "metadata": {},
     "output_type": "display_data"
    },
    {
     "name": "stdout",
     "output_type": "stream",
     "text": [
      "63/63 [==============================] - 14s 219ms/step\n"
     ]
    },
    {
     "data": {
      "image/png": "[encoded data removed]",
      "text/plain": [
       "<Figure size 800x600 with 2 Axes>"
      ]
     },
     "metadata": {},
     "output_type": "display_data"
    },
    {
     "data": {
      "image/png": "[encoded data removed]",
      "text/plain": [
       "<Figure size 800x800 with 1 Axes>"
      ]
     },
     "metadata": {},
     "output_type": "display_data"
    },
    {
     "data": {
      "image/png": "[encoded data removed]",
      "text/plain": [
       "<Figure size 800x800 with 1 Axes>"
      ]
     },
     "metadata": {},
     "output_type": "display_data"
    }
   ],
   "source": [
    "# Confusion matrix for training data\n",
    "y_train_true = train_generator.classes\n",
    "y_train_pred = model.predict(train_generator)\n",
    "y_train_pred_classes = np.argmax(y_train_pred, axis=1)\n",
    "cm_train = confusion_matrix(y_train_true, y_train_pred_classes)\n",
    "\n",
    "plt.figure(figsize=(8, 6))\n",
    "sns.heatmap(cm_train, annot=True, fmt='d', cmap='Greens')\n",
    "plt.title('Confusion Matrix - Training Data')\n",
    "plt.show()\n",
    "\n",
    "# Confusion matrix for validation data\n",
    "y_val_true = val_generator.classes\n",
    "y_val_pred = model.predict(val_generator)\n",
    "y_val_pred_classes = np.argmax(y_val_pred, axis=1)\n",
    "cm_val = confusion_matrix(y_val_true, y_val_pred_classes)\n",
    "\n",
    "plt.figure(figsize=(8, 6))\n",
    "sns.heatmap(cm_val, annot=True, fmt='d', cmap='Blues')\n",
    "plt.title('Confusion Matrix - Validation Data')\n",
    "plt.show()\n",
    "\n",
    "# AUC-ROC curve for training data\n",
    "y_train_true_binary = label_binarize(y_train_true, classes=np.unique(y_train_true))\n",
    "y_train_pred_binary = label_binarize(y_train_pred_classes, classes=np.unique(y_train_true))\n",
    "\n",
    "fpr_train = dict()\n",
    "tpr_train = dict()\n",
    "roc_auc_train = dict()\n",
    "\n",
    "for i in range(NUM_CLASSES):\n",
    "    fpr_train[i], tpr_train[i], _ = roc_curve(y_train_true_binary[:, i], y_train_pred_binary[:, i])\n",
    "    roc_auc_train[i] = roc_auc_score(y_train_true_binary[:, i], y_train_pred_binary[:, i])\n",
    "\n",
    "plt.figure(figsize=(8, 8))\n",
    "colors = cycle(['aqua', 'darkorange', 'cornflowerblue'])\n",
    "\n",
    "for i, color in zip(range(NUM_CLASSES), colors):\n",
    "    plt.plot(fpr_train[i], tpr_train[i], color=color, lw=2, label=f'Class {i} (AUC = {roc_auc_train[i]:.2f})')\n",
    "\n",
    "plt.plot([0, 1], [0, 1], color='navy', lw=2, linestyle='--')\n",
    "plt.xlabel('False Positive Rate')\n",
    "plt.ylabel('True Positive Rate')\n",
    "plt.title('ROC Curve - Training Data')\n",
    "plt.legend(loc='lower right')\n",
    "plt.show()\n",
    "\n",
    "# AUC-ROC curve for validation data\n",
    "y_val_true_binary = label_binarize(y_val_true, classes=np.unique(y_val_true))\n",
    "y_val_pred_binary = label_binarize(y_val_pred_classes, classes=np.unique(y_val_true))\n",
    "\n",
    "fpr_val = dict()\n",
    "tpr_val = dict()\n",
    "roc_auc_val = dict()\n",
    "\n",
    "for i in range(NUM_CLASSES):\n",
    "    fpr_val[i], tpr_val[i], _ = roc_curve(y_val_true_binary[:, i], y_val_pred_binary[:, i])\n",
    "    roc_auc_val[i] = roc_auc_score(y_val_true_binary[:, i], y_val_pred_binary[:, i])\n",
    "\n",
    "plt.figure(figsize=(8, 8))\n",
    "for i, color in zip(range(NUM_CLASSES), colors):\n",
    "    plt.plot(fpr_val[i], tpr_val[i], color=color, lw=2, label=f'Class {i} (AUC = {roc_auc_val[i]:.2f})')\n",
    "\n",
    "plt.plot([0, 1], [0, 1], color='navy', lw=2, linestyle='--')\n",
    "plt.xlabel('False Positive Rate')\n",
    "plt.ylabel('True Positive Rate')\n",
    "plt.title('ROC Curve - Validation Data')\n",
    "plt.legend(loc='lower right')\n",
    "plt.show()\n"
   ]
  }
 ],
 "metadata": {
  "kernelspec": {
   "display_name": "SeniorProject",
   "language": "python",
   "name": "python3"
  },
  "language_info": {
   "codemirror_mode": {
    "name": "ipython",
    "version": 3
   },
   "file_extension": ".py",
   "mimetype": "text/x-python",
   "name": "python",
   "nbconvert_exporter": "python",
   "pygments_lexer": "ipython3",
   "version": "3.9.19"
  }
 },
 "nbformat": 4,
 "nbformat_minor": 4
}
