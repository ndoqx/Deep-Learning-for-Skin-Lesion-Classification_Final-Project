{
 "cells": [
  {
   "cell_type": "code",
   "execution_count": 30,
   "metadata": {},
   "outputs": [],
   "source": [
    "import os\n",
    "import numpy as np\n",
    "import pandas as pd\n",
    "import matplotlib.pyplot as plt\n",
    "import seaborn as sns\n",
    "from glob import glob\n",
    "from sklearn.model_selection import KFold\n",
    "from sklearn.metrics import confusion_matrix, precision_recall_fscore_support, roc_auc_score, roc_curve\n",
    "from sklearn.preprocessing import LabelEncoder, label_binarize\n",
    "from keras.models import Sequential\n",
    "from keras.layers import Dense, Dropout, Flatten, Conv2D, MaxPool2D\n",
    "from tensorflow.keras.preprocessing.image import ImageDataGenerator\n",
    "from tensorflow.keras.callbacks import EarlyStopping, Callback\n",
    "from itertools import cycle\n",
    "import tensorflow as tf"
   ]
  },
  {
   "cell_type": "code",
   "execution_count": 31,
   "metadata": {},
   "outputs": [],
   "source": [
    "# Paths\n",
    "train_dir = r\"C:\\Users\\guita\\Desktop\\Senior project\\dataset\\HAM10000\\train\"\n",
    "val_dir = r\"C:\\Users\\guita\\Desktop\\Senior project\\dataset\\HAM10000\\val\"\n",
    "test_dir = r\"C:\\Users\\guita\\Desktop\\Senior project\\dataset\\HAM10000\\test\""
   ]
  },
  {
   "cell_type": "code",
   "execution_count": 32,
   "metadata": {},
   "outputs": [],
   "source": [
    "# Constants\n",
    "SIZE = 256\n",
    "BATCH_SIZE = 128\n",
    "EPOCHS = 100\n",
    "NUM_CLASSES = len(os.listdir(train_dir))"
   ]
  },
  {
   "cell_type": "code",
   "execution_count": 33,
   "metadata": {},
   "outputs": [],
   "source": [
    "# Load images and labels\n",
    "def load_images_from_directory(directory):\n",
    "    labels = []\n",
    "    images = []\n",
    "    class_names = sorted(os.listdir(directory))\n",
    "    for class_name in class_names:\n",
    "        class_dir = os.path.join(directory, class_name)\n",
    "        for img_path in glob(os.path.join(class_dir, '*.jpg')):  # or another image format\n",
    "            img = plt.imread(img_path)\n",
    "            img_resized = tf.image.resize(img, (SIZE, SIZE)).numpy()\n",
    "            images.append(img_resized)\n",
    "            labels.append(class_name)\n",
    "    return np.array(images), np.array(labels), class_names"
   ]
  },
  {
   "cell_type": "code",
   "execution_count": null,
   "metadata": {},
   "outputs": [],
   "source": [
    "# 5-Fold Cross-Validation\n",
    "kf = KFold(n_splits=5, shuffle=True, random_state=42)\n",
    "fold_no = 1\n",
    "\n",
    "for train_index, val_index in kf.split(X_train):\n",
    "    X_train_fold, X_val_fold = X_train[train_index], X_train[val_index]\n",
    "    y_train_fold, y_val_fold = y_train_encoded[train_index], y_train_encoded[val_index]\n",
    "\n",
    "    # Create ImageDataGenerator instances\n",
    "    train_datagen = ImageDataGenerator(\n",
    "        rescale=1./255,\n",
    "        rotation_range=20,\n",
    "        width_shift_range=0.2,\n",
    "        height_shift_range=0.2,\n",
    "        shear_range=0.2,\n",
    "        zoom_range=0.2,\n",
    "        horizontal_flip=True,\n",
    "        fill_mode='nearest'\n",
    "    )\n",
    "\n",
    "    val_datagen = ImageDataGenerator(rescale=1./255)"
   ]
  },
  {
   "cell_type": "code",
   "execution_count": null,
   "metadata": {},
   "outputs": [],
   "source": [
    "# Model definition\n",
    "    model = Sequential([\n",
    "        Conv2D(256, (3, 3), activation=\"relu\", input_shape=(SIZE, SIZE, 3)),\n",
    "        MaxPool2D(pool_size=(2, 2)),\n",
    "        Dropout(0.3),\n",
    "        Conv2D(128, (3, 3), activation='relu'),\n",
    "        MaxPool2D(pool_size=(2, 2)),\n",
    "        Dropout(0.3),\n",
    "        Conv2D(64, (3, 3), activation='relu'),\n",
    "        MaxPool2D(pool_size=(2, 2)),\n",
    "        Dropout(0.3),\n",
    "        Flatten(),\n",
    "        Dense(32),\n",
    "        Dense(NUM_CLASSES, activation='softmax')\n",
    "    ])\n",
    "    model.compile(loss='categorical_crossentropy', optimizer='Adam', metrics=['acc'])\n",
    "    model.summary()"
   ]
  },
  {
   "cell_type": "code",
   "execution_count": null,
   "metadata": {},
   "outputs": [],
   "source": [
    "# Metrics callback for precision, recall, F1 score\n",
    "    class MetricsCallback(Callback):\n",
    "        def __init__(self, val_data, val_labels):\n",
    "            super(MetricsCallback, self).__init__()\n",
    "            self.val_data = val_data\n",
    "            self.val_labels = val_labels\n",
    "\n",
    "        def on_epoch_end(self, epoch, logs=None):\n",
    "            y_true = self.val_labels\n",
    "            y_pred = self.model.predict(self.val_data)\n",
    "            y_pred_classes = np.argmax(y_pred, axis=1)\n",
    "\n",
    "            precision, recall, f1_score, _ = precision_recall_fscore_support(y_true, y_pred_classes, average='weighted')\n",
    "\n",
    "            val_loss = logs['val_loss']\n",
    "            val_accuracy = logs.get('val_accuracy', logs.get('val_acc'))  # Handle different versions\n",
    "\n",
    "            print(f'Epoch {epoch + 1} - '\n",
    "                  f'Validation Loss: {val_loss:.4f}, '\n",
    "                  f'Validation Accuracy: {val_accuracy:.4f}, '\n",
    "                  f'Validation Precision: {precision:.4f}, '\n",
    "                  f'Validation Recall: {recall:.4f}, '\n",
    "                  f'Validation F1 Score: {f1_score:.4f}')\n",
    "\n",
    "    # Early stopping\n",
    "    early_stopping = EarlyStopping(monitor='val_loss', patience=10, restore_best_weights=True)\n",
    "\n",
    "    # Metrics callback\n",
    "    metrics_callback = MetricsCallback(val_data=val_datagen.flow(X_val_fold, y_val_fold, batch_size=BATCH_SIZE),\n",
    "                                       val_labels=y_val_fold)"
   ]
  },
  {
   "cell_type": "code",
   "execution_count": null,
   "metadata": {},
   "outputs": [],
   "source": [
    "# Train the model\n",
    "    history = model.fit(\n",
    "        train_datagen.flow(X_train_fold, y_train_fold, batch_size=BATCH_SIZE),\n",
    "        epochs=EPOCHS,\n",
    "        validation_data=val_datagen.flow(X_val_fold, y_val_fold, batch_size=BATCH_SIZE),\n",
    "        callbacks=[early_stopping, metrics_callback],\n",
    "        verbose=2\n",
    "    )"
   ]
  },
  {
   "cell_type": "code",
   "execution_count": null,
   "metadata": {},
   "outputs": [],
   "source": [
    "# Evaluate the model on the validation fold\n",
    "    val_score = model.evaluate(val_datagen.flow(X_val_fold, y_val_fold, batch_size=BATCH_SIZE))\n",
    "    print(f'Fold {fold_no} - Validation accuracy:', val_score[1])\n",
    "\n",
    "    # Confusion matrix for validation fold\n",
    "    y_val_pred = model.predict(val_datagen.flow(X_val_fold, y_val_fold, batch_size=BATCH_SIZE))\n",
    "    y_val_pred_classes = np.argmax(y_val_pred, axis=1)\n",
    "    cm_val = confusion_matrix(y_val_fold, y_val_pred_classes)\n",
    "    plt.figure(figsize=(8, 6))\n",
    "    sns.heatmap(cm_val, annot=True, fmt='d', cmap='Blues')\n",
    "    plt.title(f'Confusion Matrix - Validation Fold {fold_no}')\n",
    "    plt.show()"
   ]
  },
  {
   "cell_type": "code",
   "execution_count": null,
   "metadata": {},
   "outputs": [],
   "source": [
    "# AUC-ROC curve for validation fold\n",
    "    y_val_true_binary = label_binarize(y_val_fold, classes=np.unique(y_val_fold))\n",
    "    y_val_pred_binary = label_binarize(y_val_pred_classes, classes=np.unique(y_val_fold))\n",
    "\n",
    "    fpr_val = dict()\n",
    "    tpr_val = dict()\n",
    "    roc_auc_val = dict()\n",
    "\n",
    "    for i in range(NUM_CLASSES):\n",
    "        fpr_val[i], tpr_val[i], _ = roc_curve(y_val_true_binary[:, i], y_val_pred_binary[:, i])\n",
    "        roc_auc_val[i] = roc_auc_score(y_val_true_binary[:, i], y_val_pred_binary[:, i])\n",
    "\n",
    "    plt.figure(figsize=(8, 8))\n",
    "    colors = cycle(['aqua', 'darkorange', 'cornflowerblue'])\n",
    "\n",
    "    for i, color in zip(range(NUM_CLASSES), colors):\n",
    "        plt.plot(fpr_val[i], tpr_val[i], color=color, lw=2, label=f'Class {i} (AUC = {roc_auc_val[i]:.2f})')\n",
    "\n",
    "    plt.plot([0, 1], [0, 1], color='navy', lw=2, linestyle='--')\n",
    "    plt.xlabel('False Positive Rate')\n",
    "    plt.ylabel('True Positive Rate')\n",
    "    plt.title(f'ROC Curve - Validation Fold {fold_no}')\n",
    "    plt.legend(loc='lower right')\n",
    "    plt.show()\n",
    "\n",
    "    fold_no += 1"
   ]
  },
  {
   "cell_type": "code",
   "execution_count": null,
   "metadata": {},
   "outputs": [],
   "source": [
    "# Evaluate the model on the test set (after cross-validation)\n",
    "test_images, test_labels, _ = load_images_from_directory(test_dir)\n",
    "test_labels_encoded = LabelEncoder().fit_transform(test_labels)\n",
    "\n",
    "test_datagen = ImageDataGenerator(rescale=1./255)\n",
    "test_score = model.evaluate(test_datagen.flow(test_images, test_labels_encoded, batch_size=BATCH_SIZE))\n",
    "print('Test accuracy:', test_score[1])\n"
   ]
  }
 ],
 "metadata": {
  "kernelspec": {
   "display_name": "Python (SeniorProject)",
   "language": "python",
   "name": "seniorproject"
  },
  "language_info": {
   "codemirror_mode": {
    "name": "ipython",
    "version": 3
   },
   "file_extension": ".py",
   "mimetype": "text/x-python",
   "name": "python",
   "nbconvert_exporter": "python",
   "pygments_lexer": "ipython3",
   "version": "3.9.19"
  }
 },
 "nbformat": 4,
 "nbformat_minor": 2
}
