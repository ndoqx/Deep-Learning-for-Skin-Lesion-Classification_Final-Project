{
 "cells": [
  {
   "cell_type": "code",
   "execution_count": 1,
   "metadata": {},
   "outputs": [],
   "source": [
    "import os\n",
    "import numpy as np\n",
    "import pandas as pd\n",
    "import matplotlib.pyplot as plt\n",
    "import seaborn as sns\n",
    "from glob import glob\n",
    "from sklearn.metrics import confusion_matrix, precision_recall_fscore_support, roc_auc_score, roc_curve\n",
    "from sklearn.preprocessing import LabelEncoder, label_binarize\n",
    "from keras.models import Sequential\n",
    "from keras.layers import Dense, Dropout, Flatten, Conv2D, MaxPool2D\n",
    "from tensorflow.keras.preprocessing.image import ImageDataGenerator\n",
    "from tensorflow.keras.callbacks import EarlyStopping, Callback\n",
    "from itertools import cycle\n",
    "import tensorflow as tf\n"
   ]
  },
  {
   "cell_type": "code",
   "execution_count": 2,
   "metadata": {},
   "outputs": [],
   "source": [
    "# Paths\n",
    "train_dir = r\"C:\\Users\\User\\Documents\\GUITAR\\dataset\\HAM10000\\train\"0\n",
    "val_dir = r\"C:\\Users\\User\\Documents\\GUITAR\\dataset\\HAM10000\\val\"\n",
    "test_dir = r\"C:\\Users\\User\\Documents\\GUITAR\\dataset\\HAM10000\\test\""
   ]
  },
  {
   "cell_type": "code",
   "execution_count": 3,
   "metadata": {},
   "outputs": [],
   "source": [
    "# Constants\n",
    "SIZE = 150\n",
    "BATCH_SIZE = 128\n",
    "EPOCHS = 100\n",
    "NUM_CLASSES = len(os.listdir(train_dir))"
   ]
  },
  {
   "cell_type": "code",
   "execution_count": 4,
   "metadata": {},
   "outputs": [],
   "source": [
    "# Create ImageDataGenerator instances\n",
    "train_datagen = ImageDataGenerator(\n",
    "    rescale=1./255,\n",
    "    rotation_range=20,\n",
    "    width_shift_range=0.2,\n",
    "    height_shift_range=0.2,\n",
    "    shear_range=0.2,\n",
    "    zoom_range=0.2,\n",
    "    horizontal_flip=True,\n",
    "    fill_mode='nearest'\n",
    ")\n",
    "\n",
    "val_datagen = ImageDataGenerator(rescale=1./255)\n",
    "test_datagen = ImageDataGenerator(rescale=1./255)"
   ]
  },
  {
   "cell_type": "code",
   "execution_count": 5,
   "metadata": {},
   "outputs": [
    {
     "name": "stdout",
     "output_type": "stream",
     "text": [
      "Found 8018 images belonging to 7 classes.\n",
      "Found 2005 images belonging to 7 classes.\n",
      "Found 1515 images belonging to 7 classes.\n"
     ]
    }
   ],
   "source": [
    "# Generate data from directories\n",
    "train_generator = train_datagen.flow_from_directory(\n",
    "    train_dir,\n",
    "    target_size=(SIZE, SIZE),\n",
    "    batch_size=BATCH_SIZE,\n",
    "    class_mode='categorical',\n",
    "    shuffle=True\n",
    ")\n",
    "\n",
    "val_generator = val_datagen.flow_from_directory(\n",
    "    val_dir,\n",
    "    target_size=(SIZE, SIZE),\n",
    "    batch_size=BATCH_SIZE,\n",
    "    class_mode='categorical',\n",
    "    shuffle=False\n",
    ")\n",
    "\n",
    "test_generator = test_datagen.flow_from_directory(\n",
    "    test_dir,\n",
    "    target_size=(SIZE, SIZE),\n",
    "    batch_size=BATCH_SIZE,\n",
    "    class_mode='categorical',\n",
    "    shuffle=False\n",
    ")"
   ]
  },
  {
   "cell_type": "code",
   "execution_count": 6,
   "metadata": {},
   "outputs": [
    {
     "name": "stdout",
     "output_type": "stream",
     "text": [
      "Model: \"sequential\"\n",
      "_________________________________________________________________\n",
      " Layer (type)                Output Shape              Param #   \n",
      "=================================================================\n",
      " conv2d (Conv2D)             (None, 148, 148, 256)     7168      \n",
      "                                                                 \n",
      " max_pooling2d (MaxPooling2D  (None, 74, 74, 256)      0         \n",
      " )                                                               \n",
      "                                                                 \n",
      " dropout (Dropout)           (None, 74, 74, 256)       0         \n",
      "                                                                 \n",
      " conv2d_1 (Conv2D)           (None, 72, 72, 128)       295040    \n",
      "                                                                 \n",
      " max_pooling2d_1 (MaxPooling  (None, 36, 36, 128)      0         \n",
      " 2D)                                                             \n",
      "                                                                 \n",
      " dropout_1 (Dropout)         (None, 36, 36, 128)       0         \n",
      "                                                                 \n",
      " conv2d_2 (Conv2D)           (None, 34, 34, 64)        73792     \n",
      "                                                                 \n",
      " max_pooling2d_2 (MaxPooling  (None, 17, 17, 64)       0         \n",
      " 2D)                                                             \n",
      "                                                                 \n",
      " dropout_2 (Dropout)         (None, 17, 17, 64)        0         \n",
      "                                                                 \n",
      " flatten (Flatten)           (None, 18496)             0         \n",
      "                                                                 \n",
      " dense (Dense)               (None, 32)                591904    \n",
      "                                                                 \n",
      " dense_1 (Dense)             (None, 7)                 231       \n",
      "                                                                 \n",
      "=================================================================\n",
      "Total params: 968,135\n",
      "Trainable params: 968,135\n",
      "Non-trainable params: 0\n",
      "_________________________________________________________________\n"
     ]
    }
   ],
   "source": [
    "# Model definition\n",
    "model = Sequential([\n",
    "    Conv2D(256, (3, 3), activation=\"relu\", input_shape=(SIZE, SIZE, 3)),\n",
    "    MaxPool2D(pool_size=(2, 2)),\n",
    "    Dropout(0.3),\n",
    "    Conv2D(128, (3, 3), activation='relu'),\n",
    "    MaxPool2D(pool_size=(2, 2)),\n",
    "    Dropout(0.3),\n",
    "    Conv2D(64, (3, 3), activation='relu'),\n",
    "    MaxPool2D(pool_size=(2, 2)),\n",
    "    Dropout(0.3),\n",
    "    Flatten(),\n",
    "    Dense(32),\n",
    "    Dense(NUM_CLASSES, activation='softmax')\n",
    "])\n",
    "model.compile(loss='categorical_crossentropy', optimizer='Adam', metrics=['acc'])\n",
    "model.summary()"
   ]
  },
  {
   "cell_type": "code",
   "execution_count": 7,
   "metadata": {},
   "outputs": [],
   "source": [
    "# Metrics callback for precision, recall, F1 score\n",
    "class MetricsCallback(Callback):\n",
    "    def __init__(self, val_generator):\n",
    "        super(MetricsCallback, self).__init__()\n",
    "        self.val_generator = val_generator\n",
    "\n",
    "    def on_epoch_end(self, epoch, logs=None):\n",
    "        y_true = self.val_generator.classes\n",
    "        y_pred = self.model.predict(self.val_generator)\n",
    "        y_pred_classes = np.argmax(y_pred, axis=1)\n",
    "\n",
    "        precision, recall, f1_score, _ = precision_recall_fscore_support(y_true, y_pred_classes, average='weighted')\n",
    "\n",
    "        val_loss = logs['val_loss']\n",
    "        val_accuracy = logs.get('val_accuracy', logs.get('val_acc'))  # Handle different versions\n",
    "\n",
    "        print(f'Epoch {epoch + 1} - '\n",
    "              f'Validation Loss: {val_loss:.4f}, '\n",
    "              f'Validation Accuracy: {val_accuracy:.4f}, '\n",
    "              f'Validation Precision: {precision:.4f}, '\n",
    "              f'Validation Recall: {recall:.4f}, '\n",
    "              f'Validation F1 Score: {f1_score:.4f}')\n",
    "\n",
    "# Early stopping\n",
    "early_stopping = EarlyStopping(monitor='val_loss', patience=10, restore_best_weights=True)\n",
    "\n",
    "# Metrics callback\n",
    "metrics_callback = MetricsCallback(val_generator)"
   ]
  },
  {
   "cell_type": "code",
   "execution_count": null,
   "metadata": {},
   "outputs": [],
   "source": [
    "\n"
   ]
  },
  {
   "cell_type": "code",
   "execution_count": null,
   "metadata": {},
   "outputs": [],
   "source": [
    "\n"
   ]
  },
  {
   "cell_type": "code",
   "execution_count": null,
   "metadata": {},
   "outputs": [],
   "source": []
  },
  {
   "cell_type": "code",
   "execution_count": null,
   "metadata": {},
   "outputs": [
    {
     "name": "stdout",
     "output_type": "stream",
     "text": [
      "Epoch 1/100\n",
      "16/16 [==============================] - 8s 477ms/step\n",
      "Epoch 1 - Validation Loss: 1.1335, Validation Accuracy: 0.6688, Validation Precision: 0.4473, Validation Recall: 0.6688, Validation F1 Score: 0.5361\n",
      "63/63 - 71s - loss: 1.1811 - acc: 0.6598 - val_loss: 1.1335 - val_acc: 0.6688 - 71s/epoch - 1s/step\n",
      "Epoch 2/100\n"
     ]
    },
    {
     "name": "stderr",
     "output_type": "stream",
     "text": [
      "C:\\Users\\User\\anaconda3\\envs\\guitar\\lib\\site-packages\\sklearn\\metrics\\_classification.py:1344: UndefinedMetricWarning: Precision and F-score are ill-defined and being set to 0.0 in labels with no predicted samples. Use `zero_division` parameter to control this behavior.\n",
      "  _warn_prf(average, modifier, msg_start, len(result))\n"
     ]
    },
    {
     "name": "stdout",
     "output_type": "stream",
     "text": [
      "16/16 [==============================] - 8s 477ms/step\n",
      "Epoch 2 - Validation Loss: 1.1688, Validation Accuracy: 0.6693, Validation Precision: 0.5424, Validation Recall: 0.6693, Validation F1 Score: 0.5589\n",
      "63/63 - 64s - loss: 1.0096 - acc: 0.6697 - val_loss: 1.1688 - val_acc: 0.6693 - 64s/epoch - 1s/step\n",
      "Epoch 3/100\n"
     ]
    },
    {
     "name": "stderr",
     "output_type": "stream",
     "text": [
      "C:\\Users\\User\\anaconda3\\envs\\guitar\\lib\\site-packages\\sklearn\\metrics\\_classification.py:1344: UndefinedMetricWarning: Precision and F-score are ill-defined and being set to 0.0 in labels with no predicted samples. Use `zero_division` parameter to control this behavior.\n",
      "  _warn_prf(average, modifier, msg_start, len(result))\n"
     ]
    },
    {
     "name": "stdout",
     "output_type": "stream",
     "text": [
      "16/16 [==============================] - 8s 479ms/step\n",
      "Epoch 3 - Validation Loss: 1.0107, Validation Accuracy: 0.6663, Validation Precision: 0.5529, Validation Recall: 0.6663, Validation F1 Score: 0.5837\n",
      "63/63 - 64s - loss: 0.9693 - acc: 0.6675 - val_loss: 1.0107 - val_acc: 0.6663 - 64s/epoch - 1s/step\n",
      "Epoch 4/100\n"
     ]
    },
    {
     "name": "stderr",
     "output_type": "stream",
     "text": [
      "C:\\Users\\User\\anaconda3\\envs\\guitar\\lib\\site-packages\\sklearn\\metrics\\_classification.py:1344: UndefinedMetricWarning: Precision and F-score are ill-defined and being set to 0.0 in labels with no predicted samples. Use `zero_division` parameter to control this behavior.\n",
      "  _warn_prf(average, modifier, msg_start, len(result))\n"
     ]
    },
    {
     "name": "stdout",
     "output_type": "stream",
     "text": [
      "16/16 [==============================] - 8s 477ms/step\n",
      "Epoch 4 - Validation Loss: 0.9204, Validation Accuracy: 0.6733, Validation Precision: 0.5541, Validation Recall: 0.6733, Validation F1 Score: 0.5738\n",
      "63/63 - 64s - loss: 0.9278 - acc: 0.6716 - val_loss: 0.9204 - val_acc: 0.6733 - 64s/epoch - 1s/step\n",
      "Epoch 5/100\n"
     ]
    },
    {
     "name": "stderr",
     "output_type": "stream",
     "text": [
      "C:\\Users\\User\\anaconda3\\envs\\guitar\\lib\\site-packages\\sklearn\\metrics\\_classification.py:1344: UndefinedMetricWarning: Precision and F-score are ill-defined and being set to 0.0 in labels with no predicted samples. Use `zero_division` parameter to control this behavior.\n",
      "  _warn_prf(average, modifier, msg_start, len(result))\n"
     ]
    },
    {
     "name": "stdout",
     "output_type": "stream",
     "text": [
      "16/16 [==============================] - 8s 476ms/step\n",
      "Epoch 5 - Validation Loss: 0.8712, Validation Accuracy: 0.6843, Validation Precision: 0.5703, Validation Recall: 0.6843, Validation F1 Score: 0.6019\n",
      "63/63 - 64s - loss: 0.9032 - acc: 0.6676 - val_loss: 0.8712 - val_acc: 0.6843 - 64s/epoch - 1s/step\n",
      "Epoch 6/100\n"
     ]
    },
    {
     "name": "stderr",
     "output_type": "stream",
     "text": [
      "C:\\Users\\User\\anaconda3\\envs\\guitar\\lib\\site-packages\\sklearn\\metrics\\_classification.py:1344: UndefinedMetricWarning: Precision and F-score are ill-defined and being set to 0.0 in labels with no predicted samples. Use `zero_division` parameter to control this behavior.\n",
      "  _warn_prf(average, modifier, msg_start, len(result))\n"
     ]
    },
    {
     "name": "stdout",
     "output_type": "stream",
     "text": [
      "16/16 [==============================] - 8s 476ms/step\n",
      "Epoch 6 - Validation Loss: 0.8774, Validation Accuracy: 0.6728, Validation Precision: 0.5838, Validation Recall: 0.6728, Validation F1 Score: 0.5615\n",
      "63/63 - 64s - loss: 0.9093 - acc: 0.6707 - val_loss: 0.8774 - val_acc: 0.6728 - 64s/epoch - 1s/step\n",
      "Epoch 7/100\n"
     ]
    },
    {
     "name": "stderr",
     "output_type": "stream",
     "text": [
      "C:\\Users\\User\\anaconda3\\envs\\guitar\\lib\\site-packages\\sklearn\\metrics\\_classification.py:1344: UndefinedMetricWarning: Precision and F-score are ill-defined and being set to 0.0 in labels with no predicted samples. Use `zero_division` parameter to control this behavior.\n",
      "  _warn_prf(average, modifier, msg_start, len(result))\n"
     ]
    },
    {
     "name": "stdout",
     "output_type": "stream",
     "text": [
      "16/16 [==============================] - 8s 489ms/step\n",
      "Epoch 7 - Validation Loss: 0.8956, Validation Accuracy: 0.6768, Validation Precision: 0.6112, Validation Recall: 0.6768, Validation F1 Score: 0.6234\n",
      "63/63 - 65s - loss: 0.8655 - acc: 0.6800 - val_loss: 0.8956 - val_acc: 0.6768 - 65s/epoch - 1s/step\n",
      "Epoch 8/100\n"
     ]
    },
    {
     "name": "stderr",
     "output_type": "stream",
     "text": [
      "C:\\Users\\User\\anaconda3\\envs\\guitar\\lib\\site-packages\\sklearn\\metrics\\_classification.py:1344: UndefinedMetricWarning: Precision and F-score are ill-defined and being set to 0.0 in labels with no predicted samples. Use `zero_division` parameter to control this behavior.\n",
      "  _warn_prf(average, modifier, msg_start, len(result))\n"
     ]
    },
    {
     "name": "stdout",
     "output_type": "stream",
     "text": [
      "16/16 [==============================] - 8s 492ms/step\n",
      "Epoch 8 - Validation Loss: 0.8537, Validation Accuracy: 0.6843, Validation Precision: 0.6124, Validation Recall: 0.6843, Validation F1 Score: 0.6104\n",
      "63/63 - 66s - loss: 0.8644 - acc: 0.6802 - val_loss: 0.8537 - val_acc: 0.6843 - 66s/epoch - 1s/step\n",
      "Epoch 9/100\n"
     ]
    },
    {
     "name": "stderr",
     "output_type": "stream",
     "text": [
      "C:\\Users\\User\\anaconda3\\envs\\guitar\\lib\\site-packages\\sklearn\\metrics\\_classification.py:1344: UndefinedMetricWarning: Precision and F-score are ill-defined and being set to 0.0 in labels with no predicted samples. Use `zero_division` parameter to control this behavior.\n",
      "  _warn_prf(average, modifier, msg_start, len(result))\n"
     ]
    },
    {
     "name": "stdout",
     "output_type": "stream",
     "text": [
      "16/16 [==============================] - 8s 493ms/step\n",
      "Epoch 9 - Validation Loss: 0.8658, Validation Accuracy: 0.6878, Validation Precision: 0.6494, Validation Recall: 0.6878, Validation F1 Score: 0.6464\n",
      "63/63 - 66s - loss: 0.8531 - acc: 0.6833 - val_loss: 0.8658 - val_acc: 0.6878 - 66s/epoch - 1s/step\n",
      "Epoch 10/100\n"
     ]
    },
    {
     "name": "stderr",
     "output_type": "stream",
     "text": [
      "C:\\Users\\User\\anaconda3\\envs\\guitar\\lib\\site-packages\\sklearn\\metrics\\_classification.py:1344: UndefinedMetricWarning: Precision and F-score are ill-defined and being set to 0.0 in labels with no predicted samples. Use `zero_division` parameter to control this behavior.\n",
      "  _warn_prf(average, modifier, msg_start, len(result))\n"
     ]
    },
    {
     "name": "stdout",
     "output_type": "stream",
     "text": [
      "16/16 [==============================] - 24s 2s/step\n",
      "Epoch 10 - Validation Loss: 0.8366, Validation Accuracy: 0.6888, Validation Precision: 0.6214, Validation Recall: 0.6888, Validation F1 Score: 0.6304\n",
      "63/63 - 87s - loss: 0.8464 - acc: 0.6877 - val_loss: 0.8366 - val_acc: 0.6888 - 87s/epoch - 1s/step\n",
      "Epoch 11/100\n"
     ]
    },
    {
     "name": "stderr",
     "output_type": "stream",
     "text": [
      "C:\\Users\\User\\anaconda3\\envs\\guitar\\lib\\site-packages\\sklearn\\metrics\\_classification.py:1344: UndefinedMetricWarning: Precision and F-score are ill-defined and being set to 0.0 in labels with no predicted samples. Use `zero_division` parameter to control this behavior.\n",
      "  _warn_prf(average, modifier, msg_start, len(result))\n"
     ]
    },
    {
     "name": "stdout",
     "output_type": "stream",
     "text": [
      "16/16 [==============================] - 18s 1s/step\n",
      "Epoch 11 - Validation Loss: 0.8280, Validation Accuracy: 0.6928, Validation Precision: 0.6495, Validation Recall: 0.6928, Validation F1 Score: 0.6597\n",
      "63/63 - 395s - loss: 0.8363 - acc: 0.6883 - val_loss: 0.8280 - val_acc: 0.6928 - 395s/epoch - 6s/step\n",
      "Epoch 12/100\n"
     ]
    },
    {
     "name": "stderr",
     "output_type": "stream",
     "text": [
      "C:\\Users\\User\\anaconda3\\envs\\guitar\\lib\\site-packages\\sklearn\\metrics\\_classification.py:1344: UndefinedMetricWarning: Precision and F-score are ill-defined and being set to 0.0 in labels with no predicted samples. Use `zero_division` parameter to control this behavior.\n",
      "  _warn_prf(average, modifier, msg_start, len(result))\n"
     ]
    },
    {
     "name": "stdout",
     "output_type": "stream",
     "text": [
      "16/16 [==============================] - 24s 2s/step\n",
      "Epoch 12 - Validation Loss: 0.8251, Validation Accuracy: 0.6898, Validation Precision: 0.6312, Validation Recall: 0.6898, Validation F1 Score: 0.6208\n",
      "63/63 - 468s - loss: 0.8423 - acc: 0.6949 - val_loss: 0.8251 - val_acc: 0.6898 - 468s/epoch - 7s/step\n",
      "Epoch 13/100\n"
     ]
    },
    {
     "name": "stderr",
     "output_type": "stream",
     "text": [
      "C:\\Users\\User\\anaconda3\\envs\\guitar\\lib\\site-packages\\sklearn\\metrics\\_classification.py:1344: UndefinedMetricWarning: Precision and F-score are ill-defined and being set to 0.0 in labels with no predicted samples. Use `zero_division` parameter to control this behavior.\n",
      "  _warn_prf(average, modifier, msg_start, len(result))\n"
     ]
    },
    {
     "name": "stdout",
     "output_type": "stream",
     "text": [
      "16/16 [==============================] - 24s 2s/step\n",
      "Epoch 13 - Validation Loss: 0.8044, Validation Accuracy: 0.7022, Validation Precision: 0.6452, Validation Recall: 0.7022, Validation F1 Score: 0.6306\n",
      "63/63 - 484s - loss: 0.8216 - acc: 0.6906 - val_loss: 0.8044 - val_acc: 0.7022 - 484s/epoch - 8s/step\n",
      "Epoch 14/100\n"
     ]
    },
    {
     "name": "stderr",
     "output_type": "stream",
     "text": [
      "C:\\Users\\User\\anaconda3\\envs\\guitar\\lib\\site-packages\\sklearn\\metrics\\_classification.py:1344: UndefinedMetricWarning: Precision and F-score are ill-defined and being set to 0.0 in labels with no predicted samples. Use `zero_division` parameter to control this behavior.\n",
      "  _warn_prf(average, modifier, msg_start, len(result))\n"
     ]
    },
    {
     "name": "stdout",
     "output_type": "stream",
     "text": [
      "16/16 [==============================] - 24s 2s/step\n",
      "Epoch 14 - Validation Loss: 0.8099, Validation Accuracy: 0.6918, Validation Precision: 0.6435, Validation Recall: 0.6918, Validation F1 Score: 0.6417\n",
      "63/63 - 469s - loss: 0.8042 - acc: 0.6958 - val_loss: 0.8099 - val_acc: 0.6918 - 469s/epoch - 7s/step\n",
      "Epoch 15/100\n"
     ]
    },
    {
     "name": "stderr",
     "output_type": "stream",
     "text": [
      "C:\\Users\\User\\anaconda3\\envs\\guitar\\lib\\site-packages\\sklearn\\metrics\\_classification.py:1344: UndefinedMetricWarning: Precision and F-score are ill-defined and being set to 0.0 in labels with no predicted samples. Use `zero_division` parameter to control this behavior.\n",
      "  _warn_prf(average, modifier, msg_start, len(result))\n"
     ]
    },
    {
     "name": "stdout",
     "output_type": "stream",
     "text": [
      "16/16 [==============================] - 24s 2s/step\n",
      "Epoch 15 - Validation Loss: 0.8131, Validation Accuracy: 0.7047, Validation Precision: 0.6581, Validation Recall: 0.7047, Validation F1 Score: 0.6668\n",
      "63/63 - 482s - loss: 0.8024 - acc: 0.6957 - val_loss: 0.8131 - val_acc: 0.7047 - 482s/epoch - 8s/step\n",
      "Epoch 16/100\n"
     ]
    },
    {
     "name": "stderr",
     "output_type": "stream",
     "text": [
      "C:\\Users\\User\\anaconda3\\envs\\guitar\\lib\\site-packages\\sklearn\\metrics\\_classification.py:1344: UndefinedMetricWarning: Precision and F-score are ill-defined and being set to 0.0 in labels with no predicted samples. Use `zero_division` parameter to control this behavior.\n",
      "  _warn_prf(average, modifier, msg_start, len(result))\n"
     ]
    },
    {
     "name": "stdout",
     "output_type": "stream",
     "text": [
      "16/16 [==============================] - 24s 2s/step\n",
      "Epoch 16 - Validation Loss: 0.8080, Validation Accuracy: 0.7252, Validation Precision: 0.6828, Validation Recall: 0.7252, Validation F1 Score: 0.6896\n",
      "63/63 - 476s - loss: 0.8269 - acc: 0.6947 - val_loss: 0.8080 - val_acc: 0.7252 - 476s/epoch - 8s/step\n",
      "Epoch 17/100\n"
     ]
    },
    {
     "name": "stderr",
     "output_type": "stream",
     "text": [
      "C:\\Users\\User\\anaconda3\\envs\\guitar\\lib\\site-packages\\sklearn\\metrics\\_classification.py:1344: UndefinedMetricWarning: Precision and F-score are ill-defined and being set to 0.0 in labels with no predicted samples. Use `zero_division` parameter to control this behavior.\n",
      "  _warn_prf(average, modifier, msg_start, len(result))\n"
     ]
    },
    {
     "name": "stdout",
     "output_type": "stream",
     "text": [
      "16/16 [==============================] - 24s 2s/step\n",
      "Epoch 17 - Validation Loss: 0.7845, Validation Accuracy: 0.7137, Validation Precision: 0.6637, Validation Recall: 0.7137, Validation F1 Score: 0.6612\n",
      "63/63 - 475s - loss: 0.8045 - acc: 0.7017 - val_loss: 0.7845 - val_acc: 0.7137 - 475s/epoch - 8s/step\n",
      "Epoch 18/100\n"
     ]
    },
    {
     "name": "stderr",
     "output_type": "stream",
     "text": [
      "C:\\Users\\User\\anaconda3\\envs\\guitar\\lib\\site-packages\\sklearn\\metrics\\_classification.py:1344: UndefinedMetricWarning: Precision and F-score are ill-defined and being set to 0.0 in labels with no predicted samples. Use `zero_division` parameter to control this behavior.\n",
      "  _warn_prf(average, modifier, msg_start, len(result))\n"
     ]
    },
    {
     "name": "stdout",
     "output_type": "stream",
     "text": [
      "16/16 [==============================] - 24s 2s/step\n",
      "Epoch 18 - Validation Loss: 0.8100, Validation Accuracy: 0.7057, Validation Precision: 0.6634, Validation Recall: 0.7057, Validation F1 Score: 0.6678\n",
      "63/63 - 478s - loss: 0.7864 - acc: 0.7077 - val_loss: 0.8100 - val_acc: 0.7057 - 478s/epoch - 8s/step\n",
      "Epoch 19/100\n"
     ]
    },
    {
     "name": "stderr",
     "output_type": "stream",
     "text": [
      "C:\\Users\\User\\anaconda3\\envs\\guitar\\lib\\site-packages\\sklearn\\metrics\\_classification.py:1344: UndefinedMetricWarning: Precision and F-score are ill-defined and being set to 0.0 in labels with no predicted samples. Use `zero_division` parameter to control this behavior.\n",
      "  _warn_prf(average, modifier, msg_start, len(result))\n"
     ]
    },
    {
     "name": "stdout",
     "output_type": "stream",
     "text": [
      "16/16 [==============================] - 18s 1s/step\n",
      "Epoch 19 - Validation Loss: 0.8135, Validation Accuracy: 0.7082, Validation Precision: 0.6659, Validation Recall: 0.7082, Validation F1 Score: 0.6782\n",
      "63/63 - 395s - loss: 0.7790 - acc: 0.7110 - val_loss: 0.8135 - val_acc: 0.7082 - 395s/epoch - 6s/step\n",
      "Epoch 20/100\n"
     ]
    },
    {
     "name": "stderr",
     "output_type": "stream",
     "text": [
      "C:\\Users\\User\\anaconda3\\envs\\guitar\\lib\\site-packages\\sklearn\\metrics\\_classification.py:1344: UndefinedMetricWarning: Precision and F-score are ill-defined and being set to 0.0 in labels with no predicted samples. Use `zero_division` parameter to control this behavior.\n",
      "  _warn_prf(average, modifier, msg_start, len(result))\n"
     ]
    },
    {
     "name": "stdout",
     "output_type": "stream",
     "text": [
      "16/16 [==============================] - 18s 1s/step\n",
      "Epoch 20 - Validation Loss: 0.7787, Validation Accuracy: 0.7122, Validation Precision: 0.6664, Validation Recall: 0.7122, Validation F1 Score: 0.6604\n",
      "63/63 - 369s - loss: 0.7704 - acc: 0.7139 - val_loss: 0.7787 - val_acc: 0.7122 - 369s/epoch - 6s/step\n",
      "Epoch 21/100\n"
     ]
    },
    {
     "name": "stderr",
     "output_type": "stream",
     "text": [
      "C:\\Users\\User\\anaconda3\\envs\\guitar\\lib\\site-packages\\sklearn\\metrics\\_classification.py:1344: UndefinedMetricWarning: Precision and F-score are ill-defined and being set to 0.0 in labels with no predicted samples. Use `zero_division` parameter to control this behavior.\n",
      "  _warn_prf(average, modifier, msg_start, len(result))\n"
     ]
    }
   ],
   "source": [
    "# Train the model\n",
    "history = model.fit(\n",
    "    train_generator,\n",
    "    epochs=EPOCHS,\n",
    "    validation_data=val_generator,\n",
    "    callbacks=[early_stopping, metrics_callback],\n",
    "    verbose=2\n",
    ")"
   ]
  },
  {
   "cell_type": "code",
   "execution_count": null,
   "metadata": {},
   "outputs": [],
   "source": [
    "# Evaluate the model on the test set\n",
    "test_score = model.evaluate(test_generator)\n",
    "print('Test accuracy:', test_score[1])"
   ]
  },
  {
   "cell_type": "code",
   "execution_count": null,
   "metadata": {},
   "outputs": [],
   "source": [
    "# Plot the training and validation accuracy and loss at each epoch\n",
    "fig, axs = plt.subplots(1, 2, figsize=(12, 5))\n",
    "\n",
    "# Plot Training & Validation Loss\n",
    "axs[0].plot(history.history['loss'], label='Train Loss')\n",
    "axs[0].plot(history.history['val_loss'], label='Validation Loss')\n",
    "axs[0].legend()\n",
    "axs[0].set_title('Training & Validation Loss')\n",
    "\n",
    "# Plot Training & Validation Accuracy\n",
    "axs[1].plot(history.history['acc'], label='Train Accuracy')\n",
    "axs[1].plot(history.history['val_acc'], label='Validation Accuracy')\n",
    "axs[1].legend()\n",
    "axs[1].set_title('Training & Validation Accuracy')\n",
    "\n",
    "plt.tight_layout()\n",
    "plt.show()"
   ]
  },
  {
   "cell_type": "code",
   "execution_count": null,
   "metadata": {},
   "outputs": [],
   "source": [
    "# Confusion matrix for validation data\n",
    "y_val_true = val_generator.classes\n",
    "y_val_pred = model.predict(val_generator)\n",
    "y_val_pred_classes = np.argmax(y_val_pred, axis=1)\n",
    "cm_val = confusion_matrix(y_val_true, y_val_pred_classes)\n",
    "plt.figure(figsize=(8, 6))\n",
    "sns.heatmap(cm_val, annot=True, fmt='d', cmap='Blues')\n",
    "plt.title('Confusion Matrix - Validation Data')\n",
    "plt.show()"
   ]
  },
  {
   "cell_type": "code",
   "execution_count": null,
   "metadata": {},
   "outputs": [],
   "source": [
    "# AUC-ROC curve for validation data\n",
    "y_val_true_binary = label_binarize(y_val_true, classes=np.unique(y_val_true))\n",
    "y_val_pred_binary = label_binarize(y_val_pred_classes, classes=np.unique(y_val_true))\n",
    "\n",
    "fpr_val = dict()\n",
    "tpr_val = dict()\n",
    "roc_auc_val = dict()\n",
    "\n",
    "for i in range(NUM_CLASSES):\n",
    "    fpr_val[i], tpr_val[i], _ = roc_curve(y_val_true_binary[:, i], y_val_pred_binary[:, i])\n",
    "    roc_auc_val[i] = roc_auc_score(y_val_true_binary[:, i], y_val_pred_binary[:, i])\n",
    "\n",
    "plt.figure(figsize=(8, 8))\n",
    "colors = cycle(['aqua', 'darkorange', 'cornflowerblue'])\n",
    "\n",
    "for i, color in zip(range(NUM_CLASSES), colors):\n",
    "    plt.plot(fpr_val[i], tpr_val[i], color=color, lw=2, label=f'Class {i} (AUC = {roc_auc_val[i]:.2f})')\n",
    "\n",
    "plt.plot([0, 1], [0, 1], color='navy', lw=2, linestyle='--')\n",
    "plt.xlabel('False Positive Rate')\n",
    "plt.ylabel('True Positive Rate')\n",
    "plt.title('ROC Curve - Validation Data')\n",
    "plt.legend(loc='lower right')\n",
    "plt.show()"
   ]
  }
 ],
 "metadata": {
  "accelerator": "GPU",
  "colab": {
   "gpuType": "T4",
   "machine_shape": "hm",
   "provenance": []
  },
  "kernelspec": {
   "display_name": "Python 3 (ipykernel)",
   "language": "python",
   "name": "python3"
  },
  "language_info": {
   "codemirror_mode": {
    "name": "ipython",
    "version": 3
   },
   "file_extension": ".py",
   "mimetype": "text/x-python",
   "name": "python",
   "nbconvert_exporter": "python",
   "pygments_lexer": "ipython3",
   "version": "3.10.9"
  }
 },
 "nbformat": 4,
 "nbformat_minor": 4
}
